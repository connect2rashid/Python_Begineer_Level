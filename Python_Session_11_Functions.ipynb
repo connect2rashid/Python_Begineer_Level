{
 "cells": [
  {
   "cell_type": "markdown",
   "id": "b2ed391e-d0bd-4b96-b517-93cf763b7c59",
   "metadata": {},
   "source": [
    "- Basics\n",
    "\n",
    "- Data types\n",
    "\n",
    "    14 data types \n",
    "\n",
    "    int, float, strings,list,tuple,set,dictionary\n",
    "    complex,range,bytearray \n",
    "\n",
    "- Eval input\n",
    "\n",
    "- type casting\n",
    "\n",
    "- Print statements\n",
    "\n",
    "- Basic python codes\n",
    "\n",
    "- Conditional statements\n",
    "\n",
    "- Try-except\n",
    "\n",
    "- Functions"
   ]
  },
  {
   "cell_type": "code",
   "execution_count": null,
   "id": "18f40f2f-561a-4f20-b3b5-6398d2044802",
   "metadata": {},
   "outputs": [],
   "source": [
    "python+statistics: EDA\n",
    "python+ML\n",
    "python+DL\n",
    "python+NLP\n",
    "python+GenAI\n",
    "\n",
    "# Non IT : Practice more\n",
    "# Spend time in the Lab\n",
    "\n",
    "# AI python\n",
    "# 5months ====6months\n",
    "# Sat"
   ]
  },
  {
   "cell_type": "markdown",
   "id": "beb46cfd-018d-4e7f-951d-ec037abb2ef8",
   "metadata": {},
   "source": [
    "**Functions**\n",
    "\n",
    "- A block of code\n",
    "\n",
    "- Reuseable \n",
    "\n",
    "-  a block of statements that return the specific task\n",
    "\n",
    "- a named section of a code that performs a specific task"
   ]
  },
  {
   "cell_type": "code",
   "execution_count": null,
   "id": "46727a9c-22ed-469b-9f3e-aa16e0b22ba2",
   "metadata": {},
   "outputs": [],
   "source": [
    "bill pay and tax amount\n",
    "\n",
    "bill_amount=20000\n",
    "tax_per=10\n",
    "tax_amount\n",
    "total_bill"
   ]
  },
  {
   "cell_type": "markdown",
   "id": "2c0b025f-5581-4f28-b2d9-b88c1cd5b57c",
   "metadata": {},
   "source": [
    "**syntax**"
   ]
  },
  {
   "cell_type": "code",
   "execution_count": null,
   "id": "5417ac0a-f358-49f4-af79-4ce1c7e9d3d5",
   "metadata": {},
   "outputs": [],
   "source": [
    "#def  <write your function name>():\n",
    "     #<write your code>"
   ]
  },
  {
   "cell_type": "code",
   "execution_count": 1,
   "id": "31ec0fe2-881e-417a-a8b9-87e3e15a1029",
   "metadata": {},
   "outputs": [
    {
     "name": "stdout",
     "output_type": "stream",
     "text": [
      "30\n"
     ]
    }
   ],
   "source": [
    "# write addition program\n",
    "a=10\n",
    "b=20\n",
    "c=a+b\n",
    "print(c)"
   ]
  },
  {
   "cell_type": "code",
   "execution_count": 5,
   "id": "61dfc5dd-419c-4649-9999-b2f2198694b9",
   "metadata": {},
   "outputs": [],
   "source": [
    "def add():\n",
    "    a=10\n",
    "    b=20\n",
    "    c=a+b\n",
    "    print(c)"
   ]
  },
  {
   "cell_type": "code",
   "execution_count": null,
   "id": "7c26003a-bbf8-4f72-bc6e-fe3a600f508d",
   "metadata": {},
   "outputs": [],
   "source": [
    "# in order to see the output\n",
    "# we need to call the function\n",
    "# function name : add"
   ]
  },
  {
   "cell_type": "code",
   "execution_count": 3,
   "id": "f7c3c11a-d312-4f2a-960b-9dd1aec00003",
   "metadata": {},
   "outputs": [
    {
     "data": {
      "text/plain": [
       "<function __main__.add()>"
      ]
     },
     "execution_count": 3,
     "metadata": {},
     "output_type": "execute_result"
    }
   ],
   "source": [
    "add"
   ]
  },
  {
   "cell_type": "code",
   "execution_count": 4,
   "id": "f371ffae-4569-47ca-91d3-911a9eda07d6",
   "metadata": {},
   "outputs": [
    {
     "data": {
      "text/plain": [
       "<bound method Random.randint of <random.Random object at 0x000001D9FD2F8C40>>"
      ]
     },
     "execution_count": 4,
     "metadata": {},
     "output_type": "execute_result"
    }
   ],
   "source": [
    "import random\n",
    "random.randint"
   ]
  },
  {
   "cell_type": "markdown",
   "id": "31b79544-fbb5-411b-8e95-0b0fefbb5dd3",
   "metadata": {},
   "source": [
    "- whenever we see function \n",
    "\n",
    "- whenever we see bound method \n",
    "\n",
    "- then add normal brackets\n",
    "\n",
    "- functions or methods always with normal brackets only"
   ]
  },
  {
   "cell_type": "code",
   "execution_count": 6,
   "id": "d31a937c-b306-4b18-8912-77e258036637",
   "metadata": {},
   "outputs": [
    {
     "name": "stdout",
     "output_type": "stream",
     "text": [
      "30\n"
     ]
    }
   ],
   "source": [
    "add()"
   ]
  },
  {
   "cell_type": "code",
   "execution_count": 7,
   "id": "b1225bdd-5d0e-4b23-8f9f-a38d5cff7406",
   "metadata": {},
   "outputs": [
    {
     "name": "stdout",
     "output_type": "stream",
     "text": [
      "30\n"
     ]
    }
   ],
   "source": [
    "#defining the function\n",
    "def add():\n",
    "    a=10\n",
    "    b=20\n",
    "    c=a+b\n",
    "    print(c)\n",
    "\n",
    "# call the function\n",
    "add()"
   ]
  },
  {
   "cell_type": "code",
   "execution_count": 8,
   "id": "d4dca354-a7f9-4c28-91a6-8dc8b4ea9775",
   "metadata": {},
   "outputs": [
    {
     "name": "stdout",
     "output_type": "stream",
     "text": [
      "30\n",
      "None\n"
     ]
    }
   ],
   "source": [
    "print(add())\n",
    "# don't print the function name\n",
    "# print is used for only see the output"
   ]
  },
  {
   "cell_type": "code",
   "execution_count": 10,
   "id": "34009432-7a05-43a2-b1aa-2dcd44cfb817",
   "metadata": {},
   "outputs": [
    {
     "name": "stdin",
     "output_type": "stream",
     "text": [
      "enter a num1: 100\n",
      "enter a num2: 200\n"
     ]
    },
    {
     "name": "stdout",
     "output_type": "stream",
     "text": [
      "the addition of 100 and 200 is: 300\n"
     ]
    }
   ],
   "source": [
    "def add1():\n",
    "    a=eval(input('enter a num1:'))\n",
    "    b=eval(input('enter a num2:'))\n",
    "    c=a+b\n",
    "    print(f\"the addition of {a} and {b} is: {c}\")\n",
    "\n",
    "\n",
    "add1()"
   ]
  },
  {
   "cell_type": "code",
   "execution_count": 11,
   "id": "df799430-cd0f-4dcc-bb74-e5fffbacab19",
   "metadata": {},
   "outputs": [
    {
     "name": "stdin",
     "output_type": "stream",
     "text": [
      "enter a num1: 100\n",
      "enter a num2: 200\n"
     ]
    },
    {
     "name": "stdout",
     "output_type": "stream",
     "text": [
      "the addition of 100 and 200 is: 300\n"
     ]
    }
   ],
   "source": [
    "a=eval(input('enter a num1:'))\n",
    "b=eval(input('enter a num2:'))\n",
    "c=a+b\n",
    "print(f\"the addition of {a} and {b} is: {c}\")\n"
   ]
  },
  {
   "cell_type": "code",
   "execution_count": 12,
   "id": "fd2c2604-4b65-4cfa-9cf3-9fb0a68de746",
   "metadata": {},
   "outputs": [
    {
     "name": "stdout",
     "output_type": "stream",
     "text": [
      "The addition of 38 and 149 is 187\n"
     ]
    }
   ],
   "source": [
    "import random\n",
    "num1=random.randint(1,100)\n",
    "num2=random.randint(2,200)\n",
    "add=num1+num2\n",
    "print(f\"The addition of {num1} and {num2} is {add}\")"
   ]
  },
  {
   "cell_type": "code",
   "execution_count": 13,
   "id": "a9a32908-7b6b-46a8-b42b-ed049233660a",
   "metadata": {},
   "outputs": [],
   "source": [
    "import random\n",
    "def add2():\n",
    "    num1=random.randint(1,100)\n",
    "    num2=random.randint(2,200)\n",
    "    add=num1+num2\n",
    "    print(f\"The addition of {num1} and {num2} is {add}\")"
   ]
  },
  {
   "cell_type": "code",
   "execution_count": 14,
   "id": "76104d02-6f6b-4ecd-938b-8ce74f01d859",
   "metadata": {},
   "outputs": [
    {
     "name": "stdout",
     "output_type": "stream",
     "text": [
      "The addition of 56 and 178 is 234\n"
     ]
    }
   ],
   "source": [
    "add2()"
   ]
  },
  {
   "cell_type": "markdown",
   "id": "2c189f77-7b5b-4078-847c-1be816132907",
   "metadata": {},
   "source": [
    "- Function name should not same as variable name\n",
    "\n",
    "- Function name rules same as variable rules\n",
    "\n",
    "- Function name and your file name should not be same\n",
    "\n",
    "- Function name should not be same as package name"
   ]
  },
  {
   "cell_type": "code",
   "execution_count": null,
   "id": "23c580ab-f18b-4bff-8503-3147e2bb9399",
   "metadata": {},
   "outputs": [],
   "source": [
    "def add():\n",
    "    a=10\n",
    "    b=20\n",
    "    c=a+b\n",
    "    print(c)\n",
    "\n",
    "def add1():\n",
    "    a=eval(input('enter a num1:'))\n",
    "    b=eval(input('enter a num2:'))\n",
    "    c=a+b\n",
    "    print(f\"the addition of {a} and {b} is: {c}\")\n",
    "\n",
    "def add2():\n",
    "    num1=random.randint(1,100)\n",
    "    num2=random.randint(2,200)\n",
    "    add=num1+num2\n",
    "    print(f\"The addition of {num1} and {num2} is {add}\")"
   ]
  },
  {
   "cell_type": "code",
   "execution_count": 15,
   "id": "9477b8c9-0008-4571-bf5c-0bf025e57ee6",
   "metadata": {},
   "outputs": [],
   "source": [
    "def add3():\n",
    "    a=eval(input('enter a num1:'))\n",
    "    b=eval(input('enter a num2:'))\n",
    "    c=a+b\n",
    "    print(f\"the addition of {aa} and {b} is: {c}\")\n",
    "\n"
   ]
  },
  {
   "cell_type": "code",
   "execution_count": 16,
   "id": "35b299ce-88ad-466e-80b9-d045844d52ff",
   "metadata": {},
   "outputs": [
    {
     "name": "stdin",
     "output_type": "stream",
     "text": [
      "enter a num1: 20\n",
      "enter a num2: 30\n"
     ]
    },
    {
     "ename": "NameError",
     "evalue": "name 'aa' is not defined",
     "output_type": "error",
     "traceback": [
      "\u001b[1;31m---------------------------------------------------------------------------\u001b[0m",
      "\u001b[1;31mNameError\u001b[0m                                 Traceback (most recent call last)",
      "Cell \u001b[1;32mIn[16], line 1\u001b[0m\n\u001b[1;32m----> 1\u001b[0m add3()\n",
      "Cell \u001b[1;32mIn[15], line 5\u001b[0m, in \u001b[0;36madd3\u001b[1;34m()\u001b[0m\n\u001b[0;32m      3\u001b[0m b\u001b[38;5;241m=\u001b[39m\u001b[38;5;28meval\u001b[39m(\u001b[38;5;28minput\u001b[39m(\u001b[38;5;124m'\u001b[39m\u001b[38;5;124menter a num2:\u001b[39m\u001b[38;5;124m'\u001b[39m))\n\u001b[0;32m      4\u001b[0m c\u001b[38;5;241m=\u001b[39ma\u001b[38;5;241m+\u001b[39mb\n\u001b[1;32m----> 5\u001b[0m \u001b[38;5;28mprint\u001b[39m(\u001b[38;5;124mf\u001b[39m\u001b[38;5;124m\"\u001b[39m\u001b[38;5;124mthe addition of \u001b[39m\u001b[38;5;132;01m{\u001b[39;00maa\u001b[38;5;132;01m}\u001b[39;00m\u001b[38;5;124m and \u001b[39m\u001b[38;5;132;01m{\u001b[39;00mb\u001b[38;5;132;01m}\u001b[39;00m\u001b[38;5;124m is: \u001b[39m\u001b[38;5;132;01m{\u001b[39;00mc\u001b[38;5;132;01m}\u001b[39;00m\u001b[38;5;124m\"\u001b[39m)\n",
      "\u001b[1;31mNameError\u001b[0m: name 'aa' is not defined"
     ]
    }
   ],
   "source": [
    "add3()"
   ]
  },
  {
   "cell_type": "markdown",
   "id": "37fdfb2b-d20e-427d-8f41-21227d1afefa",
   "metadata": {},
   "source": [
    "- when you define the function , if any error is there It will not show\n",
    "\n",
    "- If you want to see the error or output\n",
    "\n",
    "- You need to call the function only"
   ]
  },
  {
   "cell_type": "code",
   "execution_count": null,
   "id": "d48d3e77-0de0-4172-ac78-2732c784b459",
   "metadata": {},
   "outputs": [],
   "source": [
    "#Q2) WAP ask the user take height of the traingle\n",
    "#                       breadth of the traingle\n",
    "# calculate the area  of the right angle traingle\n",
    "# Formual: 1/2*b*h\n",
    "\n",
    "#Q3) Wap ask the user take the radius of circle\n",
    "#    calculate the area of the circle\n",
    "# Formula: pi*r*r  where pi=3.14\n",
    "\n",
    "#Q4) wap ask the user take the length and breadth\n",
    "#    calculate area of the rectangle\n",
    "# Formulae:  lenghth * breadth\n",
    "\n",
    "#Q5) Wap ask the how much bill he wants to pay\n",
    "#                how much tip percentage he wants to give\n",
    "#                calculate the total bill amount\n",
    "\n",
    "# bill amount =1000\n",
    "#  you want give 10% tip = 1000*10/100\n",
    "# total bill= 1000+100=1100"
   ]
  },
  {
   "cell_type": "code",
   "execution_count": 19,
   "id": "b0aa7de5-568f-4002-ad8f-8dc26f848dc5",
   "metadata": {},
   "outputs": [],
   "source": [
    "#Q2) WAP ask the user take height of the traingle\n",
    "#                       breadth of the traingle\n",
    "# calculate the area  of the right angle traingle\n",
    "# Formual: 1/2*b*h\n",
    "def area_of_tri():\n",
    "    height=eval(input('enter the height:'))\n",
    "    breadth=eval(input(\"enter the breadth:\"))\n",
    "    area=0.5*height*breadth\n",
    "    print(f\"The Area of the Traingle is:\",area)"
   ]
  },
  {
   "cell_type": "code",
   "execution_count": 20,
   "id": "6650c7b6-98bb-4ea5-8405-fc8fae3aa5c7",
   "metadata": {},
   "outputs": [
    {
     "name": "stdin",
     "output_type": "stream",
     "text": [
      "enter the height: 20\n",
      "enter the breadth: 30\n"
     ]
    },
    {
     "name": "stdout",
     "output_type": "stream",
     "text": [
      "The Area of the Traingle is: 300.0\n"
     ]
    }
   ],
   "source": [
    "area_of_tri()"
   ]
  },
  {
   "cell_type": "code",
   "execution_count": 21,
   "id": "3c45335a-ed4d-404f-9e19-80885ece8185",
   "metadata": {},
   "outputs": [],
   "source": [
    "# Q3)\n",
    "\n",
    "def circle():\n",
    "    radius=eval(input('enter the radius:'))\n",
    "    pi=3.14\n",
    "    area=pi*radius*radius\n",
    "    print(f\"The area of circle having {radius} is {area}\")\n",
    "    print(\"The area of a circle having {} is {}\".format(radius,area))\n",
    "    "
   ]
  },
  {
   "cell_type": "code",
   "execution_count": 22,
   "id": "12182445-65a7-4adb-b22b-b5ad8ec1d56f",
   "metadata": {},
   "outputs": [
    {
     "name": "stdin",
     "output_type": "stream",
     "text": [
      "enter the height: 20\n"
     ]
    },
    {
     "name": "stdout",
     "output_type": "stream",
     "text": [
      "The area of circle having 20 is 1256.0\n",
      "The area of a circle having 20 is 1256.0\n"
     ]
    }
   ],
   "source": [
    "circle()"
   ]
  },
  {
   "cell_type": "code",
   "execution_count": 23,
   "id": "e6fb75bf-6ce0-44bd-b408-374e5a8d6eb9",
   "metadata": {},
   "outputs": [],
   "source": [
    "# Q4) \n",
    "\n",
    "def rec_area():\n",
    "    length=eval(input('enter the length:'))\n",
    "    breadth=eval(input(\"enter the breadth:\"))\n",
    "    area=length*breadth  \n",
    "    print(f\"The area of the rectangle  having {breadth},{length} is {area}\")\n",
    "    print(\"The area of the rectangle having {},{} is {}\".format(breadth,length,area))"
   ]
  },
  {
   "cell_type": "code",
   "execution_count": 24,
   "id": "08c87b7c-65f1-4153-a205-218843b5d413",
   "metadata": {},
   "outputs": [
    {
     "name": "stdin",
     "output_type": "stream",
     "text": [
      "enter the length: 30\n",
      "enter the breadth: 40\n"
     ]
    },
    {
     "name": "stdout",
     "output_type": "stream",
     "text": [
      "The area of the rectangle  having 40,30 is 1200\n",
      "The area of the rectangle having 40,30 is 1200\n"
     ]
    }
   ],
   "source": [
    "rec_area()"
   ]
  },
  {
   "cell_type": "code",
   "execution_count": 26,
   "id": "7c7cc54c-5c62-402b-a722-cd142f6ce948",
   "metadata": {},
   "outputs": [],
   "source": [
    "# Q5)\n",
    "def bill_pay():\n",
    "    bill_amount=eval(input('enter the bill_amount:'))\n",
    "    tip_percentage=eval(input(\"enter the tip_percentage:\"))\n",
    "    tip_amount= bill_amount*tip_percentage/100\n",
    "    total_bill= bill_amount+tip_amount\n",
    "    print(f\"The total bill is : {total_bill}\")"
   ]
  },
  {
   "cell_type": "code",
   "execution_count": 27,
   "id": "4c36f88e-908f-48a6-a65e-b84e30fb89a6",
   "metadata": {},
   "outputs": [
    {
     "name": "stdin",
     "output_type": "stream",
     "text": [
      "enter the bill_amount: 1000\n",
      "enter the tip_percentage: 10\n"
     ]
    },
    {
     "name": "stdout",
     "output_type": "stream",
     "text": [
      "The total bill is : 1100.0\n"
     ]
    }
   ],
   "source": [
    "bill_pay()"
   ]
  },
  {
   "cell_type": "code",
   "execution_count": 29,
   "id": "a3f64e91-b460-445c-a956-a1a31a300df7",
   "metadata": {},
   "outputs": [
    {
     "name": "stdin",
     "output_type": "stream",
     "text": [
      "enter a num1: 10\n",
      "enter a num2: 20\n"
     ]
    },
    {
     "name": "stdout",
     "output_type": "stream",
     "text": [
      "the addition of 10 and 20 is: 30\n",
      "The addition of 48 and 86 is 134\n"
     ]
    },
    {
     "name": "stdin",
     "output_type": "stream",
     "text": [
      "enter a num1: 100\n",
      "enter a num2: 200\n"
     ]
    },
    {
     "ename": "NameError",
     "evalue": "name 'aa' is not defined",
     "output_type": "error",
     "traceback": [
      "\u001b[1;31m---------------------------------------------------------------------------\u001b[0m",
      "\u001b[1;31mNameError\u001b[0m                                 Traceback (most recent call last)",
      "Cell \u001b[1;32mIn[29], line 3\u001b[0m\n\u001b[0;32m      1\u001b[0m add1()\n\u001b[0;32m      2\u001b[0m add2()\n\u001b[1;32m----> 3\u001b[0m add3()\n\u001b[0;32m      4\u001b[0m area_of_tri()\n\u001b[0;32m      5\u001b[0m circle()\n",
      "Cell \u001b[1;32mIn[15], line 5\u001b[0m, in \u001b[0;36madd3\u001b[1;34m()\u001b[0m\n\u001b[0;32m      3\u001b[0m b\u001b[38;5;241m=\u001b[39m\u001b[38;5;28meval\u001b[39m(\u001b[38;5;28minput\u001b[39m(\u001b[38;5;124m'\u001b[39m\u001b[38;5;124menter a num2:\u001b[39m\u001b[38;5;124m'\u001b[39m))\n\u001b[0;32m      4\u001b[0m c\u001b[38;5;241m=\u001b[39ma\u001b[38;5;241m+\u001b[39mb\n\u001b[1;32m----> 5\u001b[0m \u001b[38;5;28mprint\u001b[39m(\u001b[38;5;124mf\u001b[39m\u001b[38;5;124m\"\u001b[39m\u001b[38;5;124mthe addition of \u001b[39m\u001b[38;5;132;01m{\u001b[39;00maa\u001b[38;5;132;01m}\u001b[39;00m\u001b[38;5;124m and \u001b[39m\u001b[38;5;132;01m{\u001b[39;00mb\u001b[38;5;132;01m}\u001b[39;00m\u001b[38;5;124m is: \u001b[39m\u001b[38;5;132;01m{\u001b[39;00mc\u001b[38;5;132;01m}\u001b[39;00m\u001b[38;5;124m\"\u001b[39m)\n",
      "\u001b[1;31mNameError\u001b[0m: name 'aa' is not defined"
     ]
    }
   ],
   "source": [
    "add1()\n",
    "add2()\n",
    "add3()\n",
    "area_of_tri()\n",
    "circle()\n",
    "rec_area()\n",
    "bill_pay()"
   ]
  },
  {
   "cell_type": "markdown",
   "id": "aa99fd8b-f448-4702-93a2-6240b110b64e",
   "metadata": {},
   "source": [
    "- some thing we are not providing inside the brackets means\n",
    "\n",
    "- It is called as **Functions with out arguments**"
   ]
  },
  {
   "cell_type": "markdown",
   "id": "23ec2c1e-c0f0-49bd-b403-a72d9ff198e0",
   "metadata": {},
   "source": [
    "**Function with arguments**\n",
    "\n",
    "- First check how many variables are there inside the function\n",
    "\n",
    "- There are 3 varaibles\n",
    "\n",
    "- In the how many input varaibles are there: 2 a,b\n",
    "\n",
    "    - input varaible means user will provide\n",
    " \n",
    "    - here a,b provided by user only\n",
    " \n",
    "- In that how many output variables are there: 1 c\n",
    "\n",
    "    - output variables are provided by code by using input variable\n",
    " \n",
    "- Dont touch **Output variable** "
   ]
  },
  {
   "cell_type": "code",
   "execution_count": null,
   "id": "37a47087-fbec-44e5-a37c-8f1b743b1436",
   "metadata": {},
   "outputs": [],
   "source": [
    "def add1():\n",
    "    a=eval(input('enter a num1:'))\n",
    "    b=eval(input('enter a num2:'))\n",
    "    c=a+b\n",
    "    print(f\"the addition of {a} and {b} is: {c}\")\n"
   ]
  },
  {
   "cell_type": "code",
   "execution_count": 37,
   "id": "5c999ec5-4c71-42cd-8ae7-d6e05beda153",
   "metadata": {},
   "outputs": [
    {
     "name": "stdout",
     "output_type": "stream",
     "text": [
      "the addition of 1000 and 2000 is: 3000\n"
     ]
    }
   ],
   "source": [
    "def add4(a1,b1):\n",
    "    c1=a1+b1\n",
    "    print(f\"the addition of {a1} and {b1} is: {c1}\")\n",
    "\n",
    "add4(1000,2000)"
   ]
  },
  {
   "cell_type": "code",
   "execution_count": 38,
   "id": "b5901e09-4726-4c23-975b-4efd28704612",
   "metadata": {},
   "outputs": [
    {
     "name": "stdin",
     "output_type": "stream",
     "text": [
      "enter a : 10\n",
      "enter b: 20\n",
      "enter c : 30\n"
     ]
    },
    {
     "name": "stdout",
     "output_type": "stream",
     "text": [
      "the average of 10 and 20 and 30 is: 20.0\n"
     ]
    }
   ],
   "source": [
    "def average():\n",
    "    a=eval(input('enter a :'))\n",
    "    b=eval(input('enter b:'))\n",
    "    c=eval(input('enter c :'))\n",
    "    avg=(a+b+c)/3\n",
    "    avg1=round(avg,2)\n",
    "    print(f\"the average of {a} and {b} and {c} is:\",avg1)\n",
    "\n",
    "average()"
   ]
  },
  {
   "cell_type": "code",
   "execution_count": 42,
   "id": "5d1e6c66-318d-4008-81dd-3f39c0a52c4d",
   "metadata": {},
   "outputs": [
    {
     "name": "stdout",
     "output_type": "stream",
     "text": [
      "the average of 101 and 20 and 30 is: 50.33\n"
     ]
    }
   ],
   "source": [
    "def average(a,b,c):\n",
    "    avg=(a+b+c)/3\n",
    "    avg1=round(avg,2)\n",
    "    print(f\"the average of {a} and {b} and {c} is:\",avg1)\n",
    "\n",
    "average(101,20,30)"
   ]
  },
  {
   "cell_type": "code",
   "execution_count": 3,
   "id": "8aad6237-f197-496f-bdc9-4c0478c5cdfb",
   "metadata": {},
   "outputs": [
    {
     "name": "stdout",
     "output_type": "stream",
     "text": [
      "The Area of the Traingle is: 200.0\n"
     ]
    }
   ],
   "source": [
    "def area_of_tri(height,breadth):\n",
    "    area=0.5*height*breadth\n",
    "    print(f\"The Area of the Traingle is:\",area)\n",
    "\n",
    "area_of_tri(20,20)"
   ]
  },
  {
   "cell_type": "code",
   "execution_count": 4,
   "id": "dd5f2fd9-8d10-4db6-b4d6-a08e749f0892",
   "metadata": {},
   "outputs": [
    {
     "name": "stdout",
     "output_type": "stream",
     "text": [
      "The area of circle having 30 is 2826.0\n",
      "The area of a circle having 30 is 2826.0\n"
     ]
    }
   ],
   "source": [
    "def circle(radius,pi):\n",
    "    area=pi*radius*radius\n",
    "    print(f\"The area of circle having {radius} is {area}\")\n",
    "    print(\"The area of a circle having {} is {}\".format(radius,area))\n",
    "\n",
    "circle(30,3.14)"
   ]
  },
  {
   "cell_type": "code",
   "execution_count": 5,
   "id": "9b22c9cd-2f7e-471a-9742-8f9810ea69db",
   "metadata": {},
   "outputs": [
    {
     "name": "stdout",
     "output_type": "stream",
     "text": [
      "The area of the rectangle  having 50,40 is 2000\n",
      "The area of the rectangle having 50,40 is 2000\n"
     ]
    }
   ],
   "source": [
    "def rec_area(length,breadth):\n",
    "    area=length*breadth  \n",
    "    print(f\"The area of the rectangle  having {breadth},{length} is {area}\")\n",
    "    print(\"The area of the rectangle having {},{} is {}\".format(breadth,length,area))\n",
    "\n",
    "rec_area(40,50)"
   ]
  },
  {
   "cell_type": "code",
   "execution_count": 6,
   "id": "ef28709b-55df-48df-b2d7-ad179e3aefa8",
   "metadata": {},
   "outputs": [
    {
     "name": "stdout",
     "output_type": "stream",
     "text": [
      "The total bill is : 1200.0\n"
     ]
    }
   ],
   "source": [
    "def bill_pay(bill_amount,tip_percentage):\n",
    "    tip_amount= bill_amount*tip_percentage/100\n",
    "    total_bill= bill_amount+tip_amount\n",
    "    print(f\"The total bill is : {total_bill}\")\n",
    "\n",
    "bill_pay(1000,20)"
   ]
  },
  {
   "cell_type": "code",
   "execution_count": 7,
   "id": "567dc49c-76b7-45a2-81fe-8f136a869b08",
   "metadata": {},
   "outputs": [
    {
     "name": "stdin",
     "output_type": "stream",
     "text": [
      "enter the number: 19\n"
     ]
    },
    {
     "name": "stdout",
     "output_type": "stream",
     "text": [
      "the 19 is an odd\n"
     ]
    }
   ],
   "source": [
    "num=eval(input('enter the number:'))\n",
    "if num%2==0:\n",
    "    print(f\"the {num} is an even\")\n",
    "\n",
    "else:\n",
    "    print(f\"the {num} is an odd\")"
   ]
  },
  {
   "cell_type": "code",
   "execution_count": 8,
   "id": "32685b13-a61f-4497-b61f-6c27fa386caf",
   "metadata": {},
   "outputs": [
    {
     "name": "stdin",
     "output_type": "stream",
     "text": [
      "enter the number: 20\n"
     ]
    },
    {
     "name": "stdout",
     "output_type": "stream",
     "text": [
      "the 20 is an even\n"
     ]
    }
   ],
   "source": [
    "def even_odd():\n",
    "    num=eval(input('enter the number:'))\n",
    "    if num%2==0:\n",
    "        print(f\"the {num} is an even\")\n",
    "\n",
    "    else:\n",
    "        print(f\"the {num} is an odd\")\n",
    "\n",
    "even_odd()"
   ]
  },
  {
   "cell_type": "code",
   "execution_count": 10,
   "id": "6c54a18d-e87e-4776-bfd8-20f5fe3a6a37",
   "metadata": {},
   "outputs": [
    {
     "name": "stdout",
     "output_type": "stream",
     "text": [
      "the 20 is an even\n"
     ]
    }
   ],
   "source": [
    "def even_odd1(num):\n",
    "    if num%2==0:\n",
    "        print(f\"the {num} is an even\")\n",
    "\n",
    "    else:\n",
    "        print(f\"the {num} is an odd\")\n",
    "\n",
    "even_odd1(20)"
   ]
  },
  {
   "cell_type": "markdown",
   "id": "c9f64108-f965-4152-9839-09a3c02adf79",
   "metadata": {},
   "source": [
    "- Try-exception should add inside the function call\n",
    "\n",
    "- we already know that , defining the function will not give any error"
   ]
  },
  {
   "cell_type": "code",
   "execution_count": 12,
   "id": "ec8c019b-575d-4daa-82fb-7c061e754dfc",
   "metadata": {},
   "outputs": [
    {
     "name": "stdout",
     "output_type": "stream",
     "text": [
      "can only concatenate str (not \"int\") to str\n"
     ]
    }
   ],
   "source": [
    "def average(a,b,c):\n",
    "    try:\n",
    "        avg=(a+b+c)/3\n",
    "        avg1=round(avg,2)\n",
    "        print(f\"the average of {a} and {b} and {c} is:\",avg1)\n",
    "    except Exception as e:\n",
    "        print(e)\n",
    "average('A',20,30)"
   ]
  },
  {
   "cell_type": "code",
   "execution_count": 11,
   "id": "c2872521-2cb0-42b7-8c33-4c03227412f1",
   "metadata": {},
   "outputs": [
    {
     "ename": "TypeError",
     "evalue": "can only concatenate str (not \"int\") to str",
     "output_type": "error",
     "traceback": [
      "\u001b[1;31m---------------------------------------------------------------------------\u001b[0m",
      "\u001b[1;31mTypeError\u001b[0m                                 Traceback (most recent call last)",
      "Cell \u001b[1;32mIn[11], line 1\u001b[0m\n\u001b[1;32m----> 1\u001b[0m (\u001b[38;5;124m'\u001b[39m\u001b[38;5;124mA\u001b[39m\u001b[38;5;124m'\u001b[39m\u001b[38;5;241m+\u001b[39m\u001b[38;5;241m20\u001b[39m\u001b[38;5;241m+\u001b[39m\u001b[38;5;241m30\u001b[39m)\u001b[38;5;241m/\u001b[39m\u001b[38;5;241m3\u001b[39m\n",
      "\u001b[1;31mTypeError\u001b[0m: can only concatenate str (not \"int\") to str"
     ]
    }
   ],
   "source": [
    "('A'+20+30)/3"
   ]
  },
  {
   "cell_type": "code",
   "execution_count": 13,
   "id": "ae6e4825-5667-4b94-b60f-b70d15d3e8cd",
   "metadata": {},
   "outputs": [
    {
     "name": "stdout",
     "output_type": "stream",
     "text": [
      "The area of circle having 30 is 2826.0\n",
      "The area of a circle having 30 is 2826.0\n"
     ]
    }
   ],
   "source": [
    "def circle(radius,pi):\n",
    "    try:\n",
    "        area=pi*radius*radius\n",
    "        print(f\"The area of circle having {radius} is {area}\")\n",
    "        print(\"The area of a circle having {} is {}\".format(radius,area))\n",
    "    except Exception as e:\n",
    "        print(e)\n",
    "\n",
    "circle(30,3.14)"
   ]
  },
  {
   "cell_type": "code",
   "execution_count": 16,
   "id": "a8eed2b4-46bb-4988-83fb-949266e4ea85",
   "metadata": {},
   "outputs": [
    {
     "name": "stdout",
     "output_type": "stream",
     "text": [
      "the given 10 is even\n"
     ]
    }
   ],
   "source": [
    "import random\n",
    "def evenoddd(num):\n",
    "    try:\n",
    "        if num%2==0:\n",
    "            print(f\"the given {num} is even\")\n",
    "        else:\n",
    "            print(f\"the given {num} is odd\")\n",
    "    \n",
    "    except Exception as e:\n",
    "        print(e)\n",
    "        \n",
    "evenoddd(10)\n",
    "# what is the variable name: num\n",
    "# Function with arguments\n",
    "# Function with out\n",
    "# what are the rules\n",
    "\n",
    "# Inside function we need to provide variable names\n",
    "# I want to see your notes\n",
    "# Share the screenshot\n",
    "\n",
    "# Im doing the mistake here\n",
    "# Im doing the mistake (already one chance over )\n",
    "# "
   ]
  },
  {
   "cell_type": "code",
   "execution_count": 14,
   "id": "6458f7ad-afce-4145-b90c-f9daf65e7a14",
   "metadata": {},
   "outputs": [
    {
     "name": "stdout",
     "output_type": "stream",
     "text": [
      "20.0\n"
     ]
    }
   ],
   "source": [
    "def average1():\n",
    "    a=10\n",
    "    b=20\n",
    "    c=30\n",
    "    avg=(a+b+c)/3\n",
    "    print(avg)\n",
    "\n",
    "average1()"
   ]
  },
  {
   "cell_type": "code",
   "execution_count": 15,
   "id": "2e3bef19-9037-4fe7-b5cf-db7c182c9cc9",
   "metadata": {},
   "outputs": [
    {
     "name": "stdout",
     "output_type": "stream",
     "text": [
      "the value of a is: 10\n",
      "20.0\n"
     ]
    }
   ],
   "source": [
    "def average1(a):\n",
    "    print(\"the value of a is:\",a)\n",
    "    b=20\n",
    "    c=30\n",
    "    avg=(a+b+c)/3\n",
    "    print(avg)\n",
    "\n",
    "average1(10)"
   ]
  },
  {
   "cell_type": "code",
   "execution_count": 17,
   "id": "24d48e90-2bea-4101-aec8-5f57887a2aa1",
   "metadata": {},
   "outputs": [
    {
     "name": "stdout",
     "output_type": "stream",
     "text": [
      "the value of a is: 10\n",
      "the value of b is: 20\n",
      "20.0\n"
     ]
    }
   ],
   "source": [
    "def average1(a,b):\n",
    "    print(\"the value of a is:\",a)\n",
    "    print(\"the value of b is:\",b)\n",
    "    c=30\n",
    "    avg=(a+b+c)/3\n",
    "    print(avg)\n",
    "\n",
    "average1(10,20)"
   ]
  },
  {
   "cell_type": "markdown",
   "id": "dd78ad7c-fa93-4ad9-9da3-76cbc4cbfd2e",
   "metadata": {},
   "source": [
    "- Function with out arguments\n",
    "\n",
    "- Function with arguments\n"
   ]
  },
  {
   "cell_type": "markdown",
   "id": "8f9014eb-991f-4ad3-b37f-28f175316297",
   "metadata": {},
   "source": [
    "**Function with Default arguments**\n",
    "\n",
    "- There is a situation some variable values always a fixed\n",
    "\n",
    "- for example tip percentage for a hote it is fixed 20\n",
    "\n",
    "- These type varaibles are default parameters"
   ]
  },
  {
   "cell_type": "code",
   "execution_count": 19,
   "id": "cb03d5ad-b3cf-427a-94d0-41e8332d6088",
   "metadata": {},
   "outputs": [
    {
     "name": "stdout",
     "output_type": "stream",
     "text": [
      "60\n"
     ]
    }
   ],
   "source": [
    "def add(a,b,c):\n",
    "    summ=a+b+c\n",
    "    print(summ)\n",
    "\n",
    "add(10,20,30)"
   ]
  },
  {
   "cell_type": "markdown",
   "id": "7bce1c07-cef4-4755-9dc6-03a506c5d9b1",
   "metadata": {},
   "source": [
    "- while defining function we will provide arguments\n",
    "\n",
    "- at that time only we will provide value also\n",
    "\n",
    "- that argument is default argument\n",
    "\n",
    "- below examples there 3 arguments a,b,c\n",
    "\n",
    "- but we given c=100 which means c is our default argument\n",
    "\n",
    "- once you provide the default argument\n",
    "\n",
    "- while calling the function no need to provide c value again"
   ]
  },
  {
   "cell_type": "code",
   "execution_count": 21,
   "id": "1218af46-b020-40ee-a578-beb4087e9221",
   "metadata": {},
   "outputs": [
    {
     "name": "stdout",
     "output_type": "stream",
     "text": [
      "the value a is: 10\n",
      "the value b is: 20\n",
      "the value b is: 100\n",
      "130\n"
     ]
    }
   ],
   "source": [
    "def add(a,b,c=100):\n",
    "    print(\"the value a is:\",a)\n",
    "    print(\"the value b is:\",b)\n",
    "    print(\"the value b is:\",c)\n",
    "    summ=a+b+c\n",
    "    print(summ)\n",
    "\n",
    "add(10,20)"
   ]
  },
  {
   "cell_type": "code",
   "execution_count": null,
   "id": "0af46f3f-765a-4387-af99-35cecca457cc",
   "metadata": {},
   "outputs": [],
   "source": [
    "# how many variables are there: 3\n",
    "# how many default arguments are there: 1\n",
    "# how many non default arguments are there:2\n",
    "# how many values we need to pass while calling the function:2"
   ]
  },
  {
   "cell_type": "markdown",
   "id": "c8af8310-5bb0-4934-94a2-b51ad033e918",
   "metadata": {},
   "source": [
    "**Case-1**\n",
    "\n",
    "- Default arguments always at last\n",
    "\n",
    "- Do not provide in middile"
   ]
  },
  {
   "cell_type": "code",
   "execution_count": 22,
   "id": "03dcce7f-4beb-418a-9b3f-8c3837a78ad8",
   "metadata": {},
   "outputs": [
    {
     "ename": "SyntaxError",
     "evalue": "non-default argument follows default argument (3450278535.py, line 1)",
     "output_type": "error",
     "traceback": [
      "\u001b[1;36m  Cell \u001b[1;32mIn[22], line 1\u001b[1;36m\u001b[0m\n\u001b[1;33m    def add(a,b=100,c):\u001b[0m\n\u001b[1;37m                    ^\u001b[0m\n\u001b[1;31mSyntaxError\u001b[0m\u001b[1;31m:\u001b[0m non-default argument follows default argument\n"
     ]
    }
   ],
   "source": [
    "def add(a,b=100,c):\n",
    "    print(\"the value a is:\",a)\n",
    "    print(\"the value b is:\",b)\n",
    "    print(\"the value b is:\",c)\n",
    "    summ=a+b+c\n",
    "    print(summ)\n",
    "\n",
    "add(10,20)"
   ]
  },
  {
   "cell_type": "code",
   "execution_count": null,
   "id": "a702e5a7-f8a5-4004-acec-7c3788127276",
   "metadata": {},
   "outputs": [],
   "source": [
    "a,b,c=100 =========== c\n",
    "a,b=100,c =========== W\n",
    "a=100,b,c =========== w\n",
    "a,b=100,c=100 ======= C\n",
    "a=100,b=100,c ====== w\n",
    "a=100,b,c=100 ===== w\n",
    "a=100,b=100,c=100 === c"
   ]
  },
  {
   "cell_type": "markdown",
   "id": "abb08c3f-ad80-4007-9346-1aaf549d6a1a",
   "metadata": {},
   "source": [
    "**Case-2**"
   ]
  },
  {
   "cell_type": "code",
   "execution_count": 24,
   "id": "b5277d3d-c61e-42a5-bd87-0524ff178c7b",
   "metadata": {},
   "outputs": [
    {
     "name": "stdout",
     "output_type": "stream",
     "text": [
      "the value a is: 10\n",
      "the value b is: 20\n",
      "the value c is: 200\n",
      "230\n"
     ]
    }
   ],
   "source": [
    "def add(a,b,c=100):\n",
    "    print(\"the value a is:\",a)\n",
    "    print(\"the value b is:\",b)\n",
    "    print(\"the value c is:\",c)\n",
    "    summ=a+b+c\n",
    "    print(summ)\n",
    "\n",
    "add(10,20,200)"
   ]
  },
  {
   "cell_type": "markdown",
   "id": "db04fbf9-355a-4b2b-a753-114251e6bcdc",
   "metadata": {},
   "source": [
    "- If we already provided default value \n",
    "\n",
    "- But while calling the fucntion again we are providing the value\n",
    "\n",
    "- The value will be overwrite \n",
    "\n",
    "- In above example while define the function c=100\n",
    "\n",
    "- but while calling the function c=200\n",
    "\n",
    "- python is a step by step process\n",
    "\n",
    "-  In above there 3 operations\n",
    "\n",
    "    - define the function\n",
    "\n",
    "    - call the function\n",
    "\n",
    "    - running the function\n",
    " \n",
    "- while define the function c=100\n",
    "\n",
    "- while call the function c=200\n",
    "\n",
    "- so the latest values is 200"
   ]
  },
  {
   "cell_type": "code",
   "execution_count": 27,
   "id": "47974afa-30b4-4be0-a5a7-79006c9bc1b7",
   "metadata": {},
   "outputs": [
    {
     "name": "stdout",
     "output_type": "stream",
     "text": [
      "hai\n",
      "1030\n"
     ]
    }
   ],
   "source": [
    "def add(a,b,c=100):\n",
    "    print('hai')\n",
    "    c=1000\n",
    "    summ=a+b+c\n",
    "    print(summ)\n",
    "\n",
    "add(10,20,200)"
   ]
  },
  {
   "cell_type": "code",
   "execution_count": 28,
   "id": "00bbf4e5-c306-4185-9e47-88e5d9696bc2",
   "metadata": {},
   "outputs": [
    {
     "name": "stdout",
     "output_type": "stream",
     "text": [
      "hai\n",
      "40\n"
     ]
    }
   ],
   "source": [
    "def add(a,b,c=100):\n",
    "    print('hai')\n",
    "    c=10\n",
    "    summ=a+b+c\n",
    "    print(summ)\n",
    "\n",
    "add(10,20,1000)\n",
    "\n",
    "# define: 100\n",
    "# call: 1000\n",
    "# Run: 10 "
   ]
  },
  {
   "cell_type": "code",
   "execution_count": 29,
   "id": "34ce48b5-ca87-445a-9838-3176c0849d2c",
   "metadata": {},
   "outputs": [
    {
     "ename": "NameError",
     "evalue": "name 'add1' is not defined",
     "output_type": "error",
     "traceback": [
      "\u001b[1;31m---------------------------------------------------------------------------\u001b[0m",
      "\u001b[1;31mNameError\u001b[0m                                 Traceback (most recent call last)",
      "Cell \u001b[1;32mIn[29], line 1\u001b[0m\n\u001b[1;32m----> 1\u001b[0m add1(\u001b[38;5;241m10\u001b[39m,\u001b[38;5;241m20\u001b[39m,\u001b[38;5;241m1000\u001b[39m)  \u001b[38;5;66;03m# call \u001b[39;00m\n\u001b[0;32m      3\u001b[0m \u001b[38;5;28;01mdef\u001b[39;00m \u001b[38;5;21madd1\u001b[39m(a,b,c\u001b[38;5;241m=\u001b[39m\u001b[38;5;241m100\u001b[39m):\n\u001b[0;32m      4\u001b[0m     \u001b[38;5;28mprint\u001b[39m(\u001b[38;5;124m'\u001b[39m\u001b[38;5;124mhai\u001b[39m\u001b[38;5;124m'\u001b[39m)\n",
      "\u001b[1;31mNameError\u001b[0m: name 'add1' is not defined"
     ]
    }
   ],
   "source": [
    "add1(10,20,1000)  # call \n",
    "\n",
    "def add1(a,b,c=100):\n",
    "    print('hai')\n",
    "    c=10\n",
    "    summ=a+b+c\n",
    "    print(summ)\n"
   ]
  },
  {
   "cell_type": "code",
   "execution_count": 30,
   "id": "15f5ac22-1d97-4563-87ed-8ed2904390f3",
   "metadata": {},
   "outputs": [
    {
     "name": "stdout",
     "output_type": "stream",
     "text": [
      "hai\n",
      "2030\n"
     ]
    }
   ],
   "source": [
    "def add(a,b,c=100):\n",
    "    print('hai')\n",
    "    c=10\n",
    "    summ=a+b+2000\n",
    "    print(summ)\n",
    "\n",
    "add(10,20,1000)\n",
    "# 100 === > 1000 === > 10 ==== > 2000"
   ]
  },
  {
   "cell_type": "markdown",
   "id": "12369579-9eb5-4040-bbf9-7e09d5bda104",
   "metadata": {},
   "source": [
    "- Functions with out argument\n",
    "\n",
    "- Functions with argument\n",
    "\n",
    "- Functions with Default argunment"
   ]
  },
  {
   "cell_type": "code",
   "execution_count": 1,
   "id": "539e1d37-dd49-47a3-a98f-4db40c1ef82b",
   "metadata": {},
   "outputs": [],
   "source": [
    "def average(a,b,c=100):\n",
    "    avg=(a+b+c)/3\n",
    "    avg1=round(avg,2)\n",
    "    print(f\"The average of {a},{b} and {c} is {avg1}\")"
   ]
  },
  {
   "cell_type": "code",
   "execution_count": 2,
   "id": "ea2b7e14-d9aa-43cb-a6dc-ce14e9468b60",
   "metadata": {},
   "outputs": [
    {
     "data": {
      "text/plain": [
       "<function __main__.average(a, b, c=100)>"
      ]
     },
     "execution_count": 2,
     "metadata": {},
     "output_type": "execute_result"
    }
   ],
   "source": [
    "average"
   ]
  },
  {
   "cell_type": "code",
   "execution_count": 4,
   "id": "dac58de8-d38e-41a2-af1d-3fdfc79efdab",
   "metadata": {},
   "outputs": [
    {
     "name": "stdout",
     "output_type": "stream",
     "text": [
      "The average of 30,40 and 100 is 56.67\n"
     ]
    }
   ],
   "source": [
    "average(30,40)"
   ]
  },
  {
   "cell_type": "code",
   "execution_count": 5,
   "id": "b3d4fc70-93e9-4d7a-8fb3-afdec47f0745",
   "metadata": {},
   "outputs": [],
   "source": [
    "def value(a=10):\n",
    "    print(a)"
   ]
  },
  {
   "cell_type": "code",
   "execution_count": 11,
   "id": "f422db13-f4fa-4626-87c3-73c8f6850954",
   "metadata": {},
   "outputs": [
    {
     "name": "stdout",
     "output_type": "stream",
     "text": [
      "100\n"
     ]
    }
   ],
   "source": [
    "value(100)"
   ]
  },
  {
   "cell_type": "markdown",
   "id": "8be73367-f8c4-48d8-a6a7-353936fe99be",
   "metadata": {},
   "source": [
    "**Analogy with packages**"
   ]
  },
  {
   "cell_type": "code",
   "execution_count": null,
   "id": "caf29de9-b92d-447f-a382-568fe335c1bb",
   "metadata": {},
   "outputs": [],
   "source": [
    "#######################################################\n",
    "# A data type is complex\n",
    "#######################################################\n",
    "# By default complex has real=0 imag=0\n",
    "# When we dont provide any value by default \n",
    "# 0+0j === > 0j\n",
    "###############################################\n",
    "# Take your curosr inside the bracket\n",
    "# apply shift+tab\n",
    "###############################################\n",
    "# If any function or method\n",
    "# We dont give any values still is giving output\n",
    "# Which means that function has default values"
   ]
  },
  {
   "cell_type": "code",
   "execution_count": 10,
   "id": "d266ad47-9252-4bc3-893d-b5ff37178a8d",
   "metadata": {},
   "outputs": [
    {
     "data": {
      "text/plain": [
       "0j"
      ]
     },
     "execution_count": 10,
     "metadata": {},
     "output_type": "execute_result"
    }
   ],
   "source": [
    "complex()"
   ]
  },
  {
   "cell_type": "code",
   "execution_count": null,
   "id": "7295398b-9bb1-4510-ad33-9858f186ce8c",
   "metadata": {},
   "outputs": [],
   "source": [
    "0+0J\n",
    "0\n",
    "0j\n",
    "NT"
   ]
  },
  {
   "cell_type": "code",
   "execution_count": 17,
   "id": "165424fa-f9f0-4de2-9175-e5f3d5715f9a",
   "metadata": {},
   "outputs": [
    {
     "data": {
      "text/plain": [
       "(2+7j)"
      ]
     },
     "execution_count": 17,
     "metadata": {},
     "output_type": "execute_result"
    }
   ],
   "source": [
    "# I want 2+3j\n",
    "complex(2+3j,4)"
   ]
  },
  {
   "cell_type": "code",
   "execution_count": 13,
   "id": "09075b08-a7a7-4817-a4d2-61861a08a68b",
   "metadata": {},
   "outputs": [
    {
     "data": {
      "text/plain": [
       "0j"
      ]
     },
     "execution_count": 13,
     "metadata": {},
     "output_type": "execute_result"
    }
   ],
   "source": [
    "complex()"
   ]
  },
  {
   "cell_type": "code",
   "execution_count": 15,
   "id": "e7e206e8-a7ac-45ce-aad7-c61342fc67cf",
   "metadata": {},
   "outputs": [
    {
     "name": "stdout",
     "output_type": "stream",
     "text": [
      "10\n",
      "100\n"
     ]
    },
    {
     "data": {
      "text/plain": [
       "(None, None)"
      ]
     },
     "execution_count": 15,
     "metadata": {},
     "output_type": "execute_result"
    }
   ],
   "source": [
    "value(),value(100)"
   ]
  },
  {
   "cell_type": "code",
   "execution_count": 18,
   "id": "c25371c6-4fe0-4fe8-9dab-f805052f0c4e",
   "metadata": {},
   "outputs": [
    {
     "data": {
      "text/plain": [
       "(-2+2j)"
      ]
     },
     "execution_count": 18,
     "metadata": {},
     "output_type": "execute_result"
    }
   ],
   "source": [
    "complex(2,2+4j)"
   ]
  },
  {
   "cell_type": "code",
   "execution_count": null,
   "id": "464b8716-e0f6-4a4a-affb-82cd43cb1271",
   "metadata": {},
   "outputs": [],
   "source": [
    "value()  # 10 ?\n",
    "# already we given sir  where?\n",
    "# while define the function\n",
    "# what is this method: Default argument"
   ]
  },
  {
   "cell_type": "code",
   "execution_count": 19,
   "id": "63cb1003-e574-4dc8-b463-110256ba8a7c",
   "metadata": {},
   "outputs": [
    {
     "name": "stdout",
     "output_type": "stream",
     "text": [
      "100\n"
     ]
    }
   ],
   "source": [
    "# 100 will come\n",
    "# We need to change the function default value\n",
    "# while calling the function we need to provide the value\n",
    "value(100)"
   ]
  },
  {
   "cell_type": "code",
   "execution_count": 20,
   "id": "66392773-3fe0-465e-8448-83db735a01fa",
   "metadata": {},
   "outputs": [
    {
     "data": {
      "text/plain": [
       "0j"
      ]
     },
     "execution_count": 20,
     "metadata": {},
     "output_type": "execute_result"
    }
   ],
   "source": [
    "complex()"
   ]
  },
  {
   "cell_type": "code",
   "execution_count": 21,
   "id": "081a1b8b-6ee4-40fa-aceb-7603d4232eae",
   "metadata": {},
   "outputs": [
    {
     "data": {
      "text/plain": [
       "(2+3j)"
      ]
     },
     "execution_count": 21,
     "metadata": {},
     "output_type": "execute_result"
    }
   ],
   "source": [
    "complex(2,3)"
   ]
  },
  {
   "cell_type": "code",
   "execution_count": 23,
   "id": "bc0ce0fb-5b0b-49c4-a21b-eb4b5d0ee6d2",
   "metadata": {},
   "outputs": [
    {
     "data": {
      "text/plain": [
       "16"
      ]
     },
     "execution_count": 23,
     "metadata": {},
     "output_type": "execute_result"
    }
   ],
   "source": [
    "import random\n",
    "random.randint(10,20)\n",
    "\n",
    "# why it is not giving answers like complex"
   ]
  },
  {
   "cell_type": "code",
   "execution_count": 26,
   "id": "3a269e9e-b078-4e1c-bcb0-b3332969eae1",
   "metadata": {},
   "outputs": [
    {
     "data": {
      "text/plain": [
       "0.03417216421176261"
      ]
     },
     "execution_count": 26,
     "metadata": {},
     "output_type": "execute_result"
    }
   ],
   "source": [
    "random.random()"
   ]
  },
  {
   "cell_type": "code",
   "execution_count": 25,
   "id": "0de738ba-1bb8-455d-944e-4c3cece1f94f",
   "metadata": {},
   "outputs": [
    {
     "name": "stdout",
     "output_type": "stream",
     "text": [
      "100\n"
     ]
    }
   ],
   "source": [
    "def value1():\n",
    "    print(100)\n",
    "    \n",
    "value1()"
   ]
  },
  {
   "cell_type": "code",
   "execution_count": null,
   "id": "8f045fd3-4ea7-4737-8dcc-5a7edd38f125",
   "metadata": {},
   "outputs": [],
   "source": [
    "- complex\n",
    "\n",
    "- random.randint\n",
    "\n",
    "- random.random"
   ]
  },
  {
   "cell_type": "code",
   "execution_count": 27,
   "id": "29fbc2d7-3606-49f9-a909-6730427607b7",
   "metadata": {},
   "outputs": [
    {
     "ename": "TypeError",
     "evalue": "complex() can't take second arg if first is a string",
     "output_type": "error",
     "traceback": [
      "\u001b[1;31m---------------------------------------------------------------------------\u001b[0m",
      "\u001b[1;31mTypeError\u001b[0m                                 Traceback (most recent call last)",
      "Cell \u001b[1;32mIn[27], line 1\u001b[0m\n\u001b[1;32m----> 1\u001b[0m \u001b[38;5;28mcomplex\u001b[39m(\u001b[38;5;124m'\u001b[39m\u001b[38;5;124m2\u001b[39m\u001b[38;5;124m'\u001b[39m,\u001b[38;5;124m'\u001b[39m\u001b[38;5;124m2\u001b[39m\u001b[38;5;124m'\u001b[39m)\n",
      "\u001b[1;31mTypeError\u001b[0m: complex() can't take second arg if first is a string"
     ]
    }
   ],
   "source": [
    "complex('2','2')"
   ]
  },
  {
   "cell_type": "code",
   "execution_count": null,
   "id": "78352d6b-41aa-48ee-ad83-e694a345a87f",
   "metadata": {},
   "outputs": [],
   "source": [
    "# type your code\n",
    "# paste in chat\n",
    "# i will take it\n",
    "# type in my laptop\n",
    "\n",
    "# where you defined"
   ]
  },
  {
   "cell_type": "code",
   "execution_count": 28,
   "id": "b30b329a-3313-4c8a-a4d3-90efa94e46ce",
   "metadata": {},
   "outputs": [
    {
     "name": "stdout",
     "output_type": "stream",
     "text": [
      "100\n"
     ]
    }
   ],
   "source": [
    "def value():\n",
    "    print(100)\n",
    "    \n",
    "value()"
   ]
  },
  {
   "cell_type": "code",
   "execution_count": null,
   "id": "87b42d48-1525-4ba9-b267-b46dad51c455",
   "metadata": {},
   "outputs": [],
   "source": [
    "#default value is 10 but I am not getting it"
   ]
  },
  {
   "cell_type": "code",
   "execution_count": 29,
   "id": "a5b36b11-ae38-4327-a726-262b8d6fcc4d",
   "metadata": {},
   "outputs": [
    {
     "data": {
      "text/plain": [
       "(-2+2j)"
      ]
     },
     "execution_count": 29,
     "metadata": {},
     "output_type": "execute_result"
    }
   ],
   "source": [
    "complex(2,2+4j)"
   ]
  },
  {
   "cell_type": "code",
   "execution_count": 30,
   "id": "0102586b-2d94-43e2-a95c-bf8eb57bfdca",
   "metadata": {},
   "outputs": [
    {
     "data": {
      "text/plain": [
       "(-1+2j)"
      ]
     },
     "execution_count": 30,
     "metadata": {},
     "output_type": "execute_result"
    }
   ],
   "source": [
    "complex(3,2+4j)"
   ]
  },
  {
   "cell_type": "code",
   "execution_count": null,
   "id": "0074b2f9-546b-4398-9fd5-c19a15087eec",
   "metadata": {},
   "outputs": [],
   "source": [
    "4j*j === 4j^2 ==== 4*-1 === -4\n",
    "\n",
    "2-4= -2"
   ]
  },
  {
   "cell_type": "markdown",
   "id": "b2c3f706-bd9c-4c68-aafc-0b3a125583f0",
   "metadata": {},
   "source": [
    "**Global variable - Local Variable**"
   ]
  },
  {
   "cell_type": "code",
   "execution_count": 33,
   "id": "b811cb93-cb93-4026-82c1-08cc510d174a",
   "metadata": {},
   "outputs": [
    {
     "name": "stdout",
     "output_type": "stream",
     "text": [
      "30\n"
     ]
    }
   ],
   "source": [
    "def add1():\n",
    "    a=10\n",
    "    b=20\n",
    "    c=a+b\n",
    "    print(c)\n",
    "add1()"
   ]
  },
  {
   "cell_type": "code",
   "execution_count": 34,
   "id": "9204351d-1027-4066-be61-8e06dd89f530",
   "metadata": {},
   "outputs": [
    {
     "name": "stdout",
     "output_type": "stream",
     "text": [
      "300\n"
     ]
    }
   ],
   "source": [
    "a1=100\n",
    "b1=200\n",
    "def add2():\n",
    "    c1=a1+b1\n",
    "    print(c1)\n",
    "add2()"
   ]
  },
  {
   "cell_type": "markdown",
   "id": "25c5b3e8-ba79-4230-9e55-e024d5df496f",
   "metadata": {},
   "source": [
    "- Variables inside function is called as **Local variables**\n",
    "\n",
    "- Variables outside function is called as **Global variable**\n",
    "\n",
    "- Global variable can use any where at any time\n",
    "\n",
    "- Imagine that you created 10 functions all 10 functions using same variables\n",
    "\n",
    "- So why we want intialize every time for evey function\n",
    "\n",
    "- we will intailize one time at top , and all 10 functions wil use "
   ]
  },
  {
   "cell_type": "code",
   "execution_count": 36,
   "id": "8d0a75c4-6dca-46ef-9bc9-f221b1adb672",
   "metadata": {},
   "outputs": [
    {
     "name": "stdout",
     "output_type": "stream",
     "text": [
      "30\n",
      "200\n"
     ]
    }
   ],
   "source": [
    "def add():\n",
    "    a=10\n",
    "    b=20\n",
    "    print(a+b)\n",
    "\n",
    "def mul():\n",
    "    a=10\n",
    "    b=20\n",
    "    print(a*b)\n",
    "\n",
    "add()\n",
    "mul()"
   ]
  },
  {
   "cell_type": "code",
   "execution_count": 37,
   "id": "333db242-5e9c-4a6e-b3a4-57a27e04eb0c",
   "metadata": {},
   "outputs": [
    {
     "name": "stdout",
     "output_type": "stream",
     "text": [
      "300\n",
      "20000\n"
     ]
    }
   ],
   "source": [
    "a=100\n",
    "b=200\n",
    "def add():\n",
    "    print(a+b)\n",
    "\n",
    "def mul():\n",
    "    print(a*b)\n",
    "\n",
    "add()\n",
    "mul()"
   ]
  },
  {
   "cell_type": "code",
   "execution_count": 39,
   "id": "f68fe6f3-8538-49ac-a61b-29bdf4aca1f1",
   "metadata": {},
   "outputs": [
    {
     "name": "stdout",
     "output_type": "stream",
     "text": [
      "130\n"
     ]
    }
   ],
   "source": [
    "# Case-4\n",
    "######################################\n",
    "c=500\n",
    "#############################################\n",
    "def add(a,b,c=100):\n",
    "    summ=a+b+c\n",
    "    print(summ)\n",
    "\n",
    "add(10,20)\n",
    "# intializtion=c\n",
    "# Define the function\n",
    "# call the function\n",
    "# Run the function\n",
    "# c=500 === 100 === 100 === 100 "
   ]
  },
  {
   "cell_type": "code",
   "execution_count": 40,
   "id": "42c35597-5ba1-4210-84d8-a8c114a5b312",
   "metadata": {},
   "outputs": [
    {
     "name": "stdout",
     "output_type": "stream",
     "text": [
      "530\n"
     ]
    }
   ],
   "source": [
    "# Case-5\n",
    "\n",
    "c=500\n",
    "def add(a,b):\n",
    "    summ=a+b+c\n",
    "    print(summ)\n",
    "\n",
    "add(10,20)"
   ]
  },
  {
   "cell_type": "code",
   "execution_count": 41,
   "id": "392b3ae5-63a7-49a9-8a1b-ce0aa6820189",
   "metadata": {},
   "outputs": [
    {
     "name": "stdout",
     "output_type": "stream",
     "text": [
      "730\n"
     ]
    }
   ],
   "source": [
    "# Case-6\n",
    "\n",
    "c=500\n",
    "def add(a,b):\n",
    "    summ=a+b+c\n",
    "    print(summ)\n",
    "c=700\n",
    "add(10,20)\n",
    "# Python is a step by step process\n",
    "# First c=500\n",
    "# When we defined there is no c, c=500\n",
    "# after that c=700 === \n",
    "# while calling the function No c value= 700\n",
    "# While running the c value not there c=700\n",
    "# 730"
   ]
  },
  {
   "cell_type": "code",
   "execution_count": 43,
   "id": "ebd3d970-4060-456c-9879-a20a2ceafb63",
   "metadata": {},
   "outputs": [
    {
     "name": "stdout",
     "output_type": "stream",
     "text": [
      "2030\n"
     ]
    }
   ],
   "source": [
    "# Case-7\n",
    "c=500\n",
    "def add(a,b,c=1000):\n",
    "    summ=a+b+c\n",
    "    print(summ)\n",
    "c=700\n",
    "add(10,20,2000)\n",
    "c=800"
   ]
  },
  {
   "cell_type": "code",
   "execution_count": 45,
   "id": "ef5c4dca-d9ba-440c-8e89-e97e99e92eeb",
   "metadata": {},
   "outputs": [
    {
     "name": "stdout",
     "output_type": "stream",
     "text": [
      "9030\n"
     ]
    }
   ],
   "source": [
    "# Case-8\n",
    "c=500\n",
    "def add(a,b,c=1000):\n",
    "    c=9000\n",
    "    summ=a+b+c\n",
    "    print(summ)\n",
    "c=700\n",
    "add(10,20,2000)\n",
    "c=800"
   ]
  },
  {
   "cell_type": "code",
   "execution_count": null,
   "id": "39a9215b-34a4-40bc-bd51-7a69fef32eed",
   "metadata": {},
   "outputs": [],
   "source": [
    "# Global means outside the function\n",
    "# local varaibles\n",
    "\n"
   ]
  },
  {
   "cell_type": "code",
   "execution_count": 1,
   "id": "e7b9f5c9-cda6-43dc-b0ce-289bf97aa9e1",
   "metadata": {},
   "outputs": [],
   "source": [
    "def add():\n",
    "    a=10\n",
    "    b=20\n",
    "    summ=30\n",
    "    print(summ)"
   ]
  },
  {
   "cell_type": "code",
   "execution_count": 2,
   "id": "648525eb-5de2-4a12-a034-2c5e5cb11932",
   "metadata": {},
   "outputs": [
    {
     "name": "stdout",
     "output_type": "stream",
     "text": [
      "30\n"
     ]
    }
   ],
   "source": [
    "add()"
   ]
  },
  {
   "cell_type": "code",
   "execution_count": 3,
   "id": "b3195268-7cd5-4c17-a2f9-d55addc1960a",
   "metadata": {},
   "outputs": [
    {
     "ename": "NameError",
     "evalue": "name 'a' is not defined",
     "output_type": "error",
     "traceback": [
      "\u001b[1;31m---------------------------------------------------------------------------\u001b[0m",
      "\u001b[1;31mNameError\u001b[0m                                 Traceback (most recent call last)",
      "Cell \u001b[1;32mIn[3], line 1\u001b[0m\n\u001b[1;32m----> 1\u001b[0m a\n",
      "\u001b[1;31mNameError\u001b[0m: name 'a' is not defined"
     ]
    }
   ],
   "source": [
    "a"
   ]
  },
  {
   "cell_type": "code",
   "execution_count": 4,
   "id": "27e35ff4-558c-464f-9781-6892f73f9f92",
   "metadata": {},
   "outputs": [
    {
     "ename": "NameError",
     "evalue": "name 'summ' is not defined",
     "output_type": "error",
     "traceback": [
      "\u001b[1;31m---------------------------------------------------------------------------\u001b[0m",
      "\u001b[1;31mNameError\u001b[0m                                 Traceback (most recent call last)",
      "Cell \u001b[1;32mIn[4], line 1\u001b[0m\n\u001b[1;32m----> 1\u001b[0m summ\n",
      "\u001b[1;31mNameError\u001b[0m: name 'summ' is not defined"
     ]
    }
   ],
   "source": [
    "summ"
   ]
  },
  {
   "cell_type": "markdown",
   "id": "1f362c77-e3ab-473f-8171-542e6cc47b3f",
   "metadata": {},
   "source": [
    "- local variables can not use outside the function\n",
    "\n",
    "- here a, b, summ are local variables\n",
    "\n",
    "- there are working and we are able to print the answer also\n",
    "\n",
    "- but when we want print **summ**, **a**, **b** \n",
    "\n",
    "- we are not able to access the values"
   ]
  },
  {
   "cell_type": "code",
   "execution_count": 10,
   "id": "6e10b2e5-8c69-44c3-883d-9b9cad4cd192",
   "metadata": {},
   "outputs": [
    {
     "name": "stdout",
     "output_type": "stream",
     "text": [
      "60\n",
      "n1: 20\n",
      "n2: 40\n"
     ]
    },
    {
     "ename": "NameError",
     "evalue": "name 'summ1' is not defined",
     "output_type": "error",
     "traceback": [
      "\u001b[1;31m---------------------------------------------------------------------------\u001b[0m",
      "\u001b[1;31mNameError\u001b[0m                                 Traceback (most recent call last)",
      "Cell \u001b[1;32mIn[10], line 10\u001b[0m\n\u001b[0;32m      8\u001b[0m \u001b[38;5;28mprint\u001b[39m(\u001b[38;5;124m'\u001b[39m\u001b[38;5;124mn1:\u001b[39m\u001b[38;5;124m'\u001b[39m,n1)\n\u001b[0;32m      9\u001b[0m \u001b[38;5;28mprint\u001b[39m(\u001b[38;5;124m'\u001b[39m\u001b[38;5;124mn2:\u001b[39m\u001b[38;5;124m'\u001b[39m,n2)\n\u001b[1;32m---> 10\u001b[0m \u001b[38;5;28mprint\u001b[39m(summ1)\n",
      "\u001b[1;31mNameError\u001b[0m: name 'summ1' is not defined"
     ]
    }
   ],
   "source": [
    "n1=20\n",
    "n2=40\n",
    "def add1():\n",
    "    summ1=n1+n2\n",
    "    print(summ1)\n",
    "\n",
    "add1()\n",
    "print('n1:',n1)\n",
    "print('n2:',n2)\n",
    "print(summ1)"
   ]
  },
  {
   "cell_type": "code",
   "execution_count": 5,
   "id": "1a28f714-f520-40e9-aaf6-0a043cabc437",
   "metadata": {},
   "outputs": [
    {
     "data": {
      "text/plain": [
       "6"
      ]
     },
     "execution_count": 5,
     "metadata": {},
     "output_type": "execute_result"
    }
   ],
   "source": [
    "sum([1,2,3])\n",
    "\n",
    "# do not use sum as variable\n",
    "# keep that in mind"
   ]
  },
  {
   "cell_type": "markdown",
   "id": "769a7c64-f4c2-4e4f-8494-204516f80c82",
   "metadata": {},
   "source": [
    "**How to use local variable outside the function**\n",
    "\n",
    "- we already know that local variable can not use outside the function call\n",
    "\n",
    "- But we can use those local variables outside  function call\n",
    "\n",
    "- by using a keyword called **global**"
   ]
  },
  {
   "cell_type": "code",
   "execution_count": 14,
   "id": "ac205f8b-dfb9-4a58-8be4-c5b3f6b9128c",
   "metadata": {},
   "outputs": [
    {
     "name": "stdout",
     "output_type": "stream",
     "text": [
      "30\n",
      "summ is: 30\n"
     ]
    }
   ],
   "source": [
    "def add():\n",
    "    global summ\n",
    "    \n",
    "    a=10\n",
    "    b=20\n",
    "    summ=30\n",
    "    print(summ)\n",
    "\n",
    "add()\n",
    "print(\"summ is:\",summ)"
   ]
  },
  {
   "cell_type": "code",
   "execution_count": 17,
   "id": "afcd8af5-1596-4c5f-ac4e-56d916db6250",
   "metadata": {},
   "outputs": [
    {
     "name": "stdout",
     "output_type": "stream",
     "text": [
      "30 -10\n",
      "summ is: 30\n",
      "sub is: -10\n"
     ]
    }
   ],
   "source": [
    "def add_sub():\n",
    "    global summ,sub\n",
    "    #global sub\n",
    "    a=10\n",
    "    b=20\n",
    "    summ=a+b\n",
    "    sub=a-b\n",
    "    print(summ,sub)\n",
    "\n",
    "add_sub()\n",
    "print(\"summ is:\",summ)\n",
    "print(\"sub is:\",sub)"
   ]
  },
  {
   "cell_type": "markdown",
   "id": "f96dd7a1-37b9-471d-9549-767ebaba6fcc",
   "metadata": {},
   "source": [
    "**use case**\n",
    "\n",
    "- imagine we intialize a value with sum number\n",
    "\n",
    "- we updated that value inside function\n",
    "\n",
    "- but when we want to use that value outisde function\n",
    "\n",
    "- we will not able to use\n"
   ]
  },
  {
   "cell_type": "code",
   "execution_count": 18,
   "id": "c70e6510-d364-435d-8d36-defdad6d512f",
   "metadata": {},
   "outputs": [
    {
     "name": "stdout",
     "output_type": "stream",
     "text": [
      "30\n"
     ]
    }
   ],
   "source": [
    "age=0\n",
    "\n",
    "def age_update():\n",
    "    age=30\n",
    "    print(age)\n",
    "\n",
    "age_update()"
   ]
  },
  {
   "cell_type": "code",
   "execution_count": 19,
   "id": "31e915a1-1b9b-4ef4-92f6-2111fe743e50",
   "metadata": {},
   "outputs": [
    {
     "data": {
      "text/plain": [
       "0"
      ]
     },
     "execution_count": 19,
     "metadata": {},
     "output_type": "execute_result"
    }
   ],
   "source": [
    "age"
   ]
  },
  {
   "cell_type": "code",
   "execution_count": 20,
   "id": "e1614fe4-2d50-4a58-aa80-107a9aa51f3c",
   "metadata": {},
   "outputs": [
    {
     "name": "stdout",
     "output_type": "stream",
     "text": [
      "30\n"
     ]
    }
   ],
   "source": [
    "age=0\n",
    "\n",
    "def age_update():\n",
    "    global age\n",
    "    age=30\n",
    "    print(age)\n",
    "\n",
    "age_update()"
   ]
  },
  {
   "cell_type": "code",
   "execution_count": 21,
   "id": "eccbb0d6-465a-4e5a-932f-362cd6cb0775",
   "metadata": {},
   "outputs": [
    {
     "data": {
      "text/plain": [
       "30"
      ]
     },
     "execution_count": 21,
     "metadata": {},
     "output_type": "execute_result"
    }
   ],
   "source": [
    "age"
   ]
  },
  {
   "cell_type": "code",
   "execution_count": 27,
   "id": "dd0ef664-327f-4ac1-80f0-9af8e1aad29e",
   "metadata": {},
   "outputs": [
    {
     "ename": "UnboundLocalError",
     "evalue": "cannot access local variable 'x' where it is not associated with a value",
     "output_type": "error",
     "traceback": [
      "\u001b[1;31m---------------------------------------------------------------------------\u001b[0m",
      "\u001b[1;31mUnboundLocalError\u001b[0m                         Traceback (most recent call last)",
      "Cell \u001b[1;32mIn[27], line 7\u001b[0m\n\u001b[0;32m      4\u001b[0m     \u001b[38;5;28mprint\u001b[39m(x)\n\u001b[0;32m      5\u001b[0m     x\u001b[38;5;241m=\u001b[39m\u001b[38;5;241m30\u001b[39m\n\u001b[1;32m----> 7\u001b[0m fun1()\n",
      "Cell \u001b[1;32mIn[27], line 4\u001b[0m, in \u001b[0;36mfun1\u001b[1;34m()\u001b[0m\n\u001b[0;32m      3\u001b[0m \u001b[38;5;28;01mdef\u001b[39;00m \u001b[38;5;21mfun1\u001b[39m():\n\u001b[1;32m----> 4\u001b[0m     \u001b[38;5;28mprint\u001b[39m(x)\n\u001b[0;32m      5\u001b[0m     x\u001b[38;5;241m=\u001b[39m\u001b[38;5;241m30\u001b[39m\n",
      "\u001b[1;31mUnboundLocalError\u001b[0m: cannot access local variable 'x' where it is not associated with a value"
     ]
    }
   ],
   "source": [
    "x=10\n",
    "\n",
    "def fun1():\n",
    "    print(x)\n",
    "    x=30\n",
    "\n",
    "fun1()"
   ]
  },
  {
   "cell_type": "markdown",
   "id": "af1e2cd6-99c2-40b3-a0c6-e4b0399f4d29",
   "metadata": {},
   "source": [
    "- First check local variable and global variable both have same name\n",
    "\n",
    "- Inside function with out intializing are we using local variable"
   ]
  },
  {
   "cell_type": "code",
   "execution_count": 32,
   "id": "13df2c57-06d9-4f77-8dd1-645ad079da32",
   "metadata": {},
   "outputs": [
    {
     "name": "stdout",
     "output_type": "stream",
     "text": [
      "20\n"
     ]
    }
   ],
   "source": [
    "s=0\n",
    "def fun2():\n",
    "    print(s)\n",
    "    s=s+10\n",
    "    print(s)\n",
    "\n",
    "fun2()"
   ]
  },
  {
   "cell_type": "markdown",
   "id": "f3dcf1e1-fe9e-4b07-8fd2-5e306fa38969",
   "metadata": {},
   "source": [
    "**case-1**"
   ]
  },
  {
   "cell_type": "code",
   "execution_count": 33,
   "id": "6aaf43b9-b089-4b01-bb0f-9c45d792724e",
   "metadata": {},
   "outputs": [
    {
     "name": "stdout",
     "output_type": "stream",
     "text": [
      "10\n"
     ]
    }
   ],
   "source": [
    "x=10\n",
    "\n",
    "def fun1():\n",
    "    print(x)\n",
    "\n",
    "fun1()\n",
    "\n",
    "# No error"
   ]
  },
  {
   "cell_type": "markdown",
   "id": "0b60d5c6-154e-4c87-8069-f88d09cb7f5e",
   "metadata": {},
   "source": [
    "**case-2**"
   ]
  },
  {
   "cell_type": "code",
   "execution_count": 34,
   "id": "4a18c533-b996-4027-957b-d62043b0a7e2",
   "metadata": {},
   "outputs": [
    {
     "name": "stdout",
     "output_type": "stream",
     "text": [
      "30\n"
     ]
    }
   ],
   "source": [
    "x=10\n",
    "\n",
    "def fun1():\n",
    "    x=30\n",
    "    print(x)\n",
    "\n",
    "fun1()\n",
    "\n",
    "# No error"
   ]
  },
  {
   "cell_type": "markdown",
   "id": "6bfc40a9-5d30-469a-ae58-f6f4bd877abd",
   "metadata": {},
   "source": [
    "**Case-3**"
   ]
  },
  {
   "cell_type": "code",
   "execution_count": null,
   "id": "7ee80efb-57f6-4fe3-aa7d-e6e78d6ee65d",
   "metadata": {},
   "outputs": [],
   "source": [
    "x=10\n",
    "\n",
    "def fun1():\n",
    "    print(x)\n",
    "    x=30\n",
    "\n",
    "fun1()\n",
    "\n",
    "# Error will come"
   ]
  },
  {
   "cell_type": "markdown",
   "id": "130ed213-c151-4d4e-8e1f-451ddf0ee375",
   "metadata": {},
   "source": [
    "**Case-4**"
   ]
  },
  {
   "cell_type": "code",
   "execution_count": null,
   "id": "0b217be4-affd-496a-91ff-21ce56d72c69",
   "metadata": {},
   "outputs": [],
   "source": [
    "s=0\n",
    "def fun2():\n",
    "    s=s+10\n",
    "    print(s)\n",
    "\n",
    "fun2()\n",
    "\n",
    "# Error "
   ]
  },
  {
   "cell_type": "code",
   "execution_count": 35,
   "id": "ddb8ae1b-a990-4535-9f00-c644cf5d10b3",
   "metadata": {},
   "outputs": [
    {
     "name": "stdout",
     "output_type": "stream",
     "text": [
      "10\n"
     ]
    }
   ],
   "source": [
    "s=0\n",
    "def fun2():\n",
    "    global s\n",
    "    s=s+10\n",
    "    print(s)\n",
    "\n",
    "fun2()"
   ]
  },
  {
   "cell_type": "code",
   "execution_count": null,
   "id": "3af92c1c-02e3-41e9-8ff4-b69b0a1d0da1",
   "metadata": {},
   "outputs": [],
   "source": [
    "x2=20\n",
    "def add2():\n",
    "    print(x2)\n",
    "add2()\n",
    "\n",
    "\n",
    "#First check local variable and global variable both have same name\n",
    "\n",
    "#Inside function with out intializing are we using local variable"
   ]
  },
  {
   "cell_type": "code",
   "execution_count": null,
   "id": "de67e71a-bc2b-4501-863d-3b1d7585fabc",
   "metadata": {},
   "outputs": [],
   "source": [
    "n1=20\n",
    "n2=40\n",
    "def add1():\n",
    "    summ1=n1+n2\n",
    "    print(summ1)"
   ]
  },
  {
   "cell_type": "code",
   "execution_count": 36,
   "id": "f6d3870b-d080-48ce-8b6e-751fdca67674",
   "metadata": {},
   "outputs": [
    {
     "name": "stdout",
     "output_type": "stream",
     "text": [
      "10\n"
     ]
    }
   ],
   "source": [
    "x=10\n",
    "\n",
    "def fun1():\n",
    "    global x\n",
    "    print(x)\n",
    "    x=30\n",
    "\n",
    "fun1()\n"
   ]
  },
  {
   "cell_type": "code",
   "execution_count": null,
   "id": "6e67e771-d72d-49d1-ac1f-7e430f9893dc",
   "metadata": {},
   "outputs": [],
   "source": [
    "x=10\n",
    "\n",
    "def fun1():\n",
    "    x=10\n",
    "    print(x)\n",
    "    x=30\n",
    "\n",
    "fun1()"
   ]
  },
  {
   "cell_type": "code",
   "execution_count": null,
   "id": "e5b95210-4f0d-465e-bf89-867b3c6406a9",
   "metadata": {},
   "outputs": [],
   "source": [
    "x=10\n",
    "\n",
    "def fun1():\n",
    "    print(x)\n",
    "    x=30\n",
    "\n",
    "fun1()\n",
    "\n",
    "\n",
    "x=10\n",
    "\n",
    "def fun1():\n",
    "    x=10\n",
    "    print(x)\n",
    "    x=30\n",
    "\n",
    "fun1()\n",
    "\n",
    "\n",
    "x=10\n",
    "\n",
    "def fun1():\n",
    "    global x\n",
    "    print(x)\n",
    "    x=30\n",
    "\n",
    "fun1()"
   ]
  },
  {
   "cell_type": "code",
   "execution_count": 37,
   "id": "21b68d47-c2d6-42ca-98f4-02d40a0253dd",
   "metadata": {},
   "outputs": [
    {
     "ename": "UnboundLocalError",
     "evalue": "cannot access local variable 'n2' where it is not associated with a value",
     "output_type": "error",
     "traceback": [
      "\u001b[1;31m---------------------------------------------------------------------------\u001b[0m",
      "\u001b[1;31mUnboundLocalError\u001b[0m                         Traceback (most recent call last)",
      "Cell \u001b[1;32mIn[37], line 10\u001b[0m\n\u001b[0;32m      7\u001b[0m     n3\u001b[38;5;241m=\u001b[39mn1\u001b[38;5;241m+\u001b[39mn2\n\u001b[0;32m      8\u001b[0m     \u001b[38;5;28mprint\u001b[39m(n1,n2,n3)\n\u001b[1;32m---> 10\u001b[0m fun3()\n",
      "Cell \u001b[1;32mIn[37], line 6\u001b[0m, in \u001b[0;36mfun3\u001b[1;34m()\u001b[0m\n\u001b[0;32m      4\u001b[0m \u001b[38;5;28;01mdef\u001b[39;00m \u001b[38;5;21mfun3\u001b[39m():\n\u001b[0;32m      5\u001b[0m     n1\u001b[38;5;241m=\u001b[39m\u001b[38;5;241m100\u001b[39m\n\u001b[1;32m----> 6\u001b[0m     n2\u001b[38;5;241m=\u001b[39mn1\u001b[38;5;241m+\u001b[39mn2\n\u001b[0;32m      7\u001b[0m     n3\u001b[38;5;241m=\u001b[39mn1\u001b[38;5;241m+\u001b[39mn2\n\u001b[0;32m      8\u001b[0m     \u001b[38;5;28mprint\u001b[39m(n1,n2,n3)\n",
      "\u001b[1;31mUnboundLocalError\u001b[0m: cannot access local variable 'n2' where it is not associated with a value"
     ]
    }
   ],
   "source": [
    "n1=10\n",
    "n2=20\n",
    "n3=30\n",
    "def fun3():\n",
    "    n1=100\n",
    "    n2=n1+n2  ####### Error #####\n",
    "    n3=n1+n2\n",
    "    print(n1,n2,n3)\n",
    "\n",
    "fun3()"
   ]
  },
  {
   "cell_type": "code",
   "execution_count": 40,
   "id": "0e038eb0-1a89-4dcd-aa79-c8fd1fa03503",
   "metadata": {},
   "outputs": [
    {
     "ename": "UnboundLocalError",
     "evalue": "cannot access local variable 'n2' where it is not associated with a value",
     "output_type": "error",
     "traceback": [
      "\u001b[1;31m---------------------------------------------------------------------------\u001b[0m",
      "\u001b[1;31mUnboundLocalError\u001b[0m                         Traceback (most recent call last)",
      "Cell \u001b[1;32mIn[40], line 8\u001b[0m\n\u001b[0;32m      5\u001b[0m     n1\u001b[38;5;241m=\u001b[39mn2\n\u001b[0;32m      6\u001b[0m     n2\u001b[38;5;241m=\u001b[39mn2\u001b[38;5;241m+\u001b[39mn3\n\u001b[1;32m----> 8\u001b[0m fun3()\n",
      "Cell \u001b[1;32mIn[40], line 5\u001b[0m, in \u001b[0;36mfun3\u001b[1;34m()\u001b[0m\n\u001b[0;32m      4\u001b[0m \u001b[38;5;28;01mdef\u001b[39;00m \u001b[38;5;21mfun3\u001b[39m():\n\u001b[1;32m----> 5\u001b[0m     n1\u001b[38;5;241m=\u001b[39mn2\n\u001b[0;32m      6\u001b[0m     n2\u001b[38;5;241m=\u001b[39mn2\u001b[38;5;241m+\u001b[39mn3\n",
      "\u001b[1;31mUnboundLocalError\u001b[0m: cannot access local variable 'n2' where it is not associated with a value"
     ]
    }
   ],
   "source": [
    "n1=10\n",
    "n2=20\n",
    "n3=30\n",
    "def fun3():\n",
    "    n1=n2  # 20  n1=20\n",
    "    n2=n2+n3 # 20+30=50\n",
    "\n",
    "fun3()\n",
    "\n"
   ]
  },
  {
   "cell_type": "code",
   "execution_count": 43,
   "id": "1c2a9d1f-95b6-4eb2-9865-f211997a31b9",
   "metadata": {},
   "outputs": [
    {
     "ename": "UnboundLocalError",
     "evalue": "cannot access local variable 'b' where it is not associated with a value",
     "output_type": "error",
     "traceback": [
      "\u001b[1;31m---------------------------------------------------------------------------\u001b[0m",
      "\u001b[1;31mUnboundLocalError\u001b[0m                         Traceback (most recent call last)",
      "Cell \u001b[1;32mIn[43], line 10\u001b[0m\n\u001b[0;32m      7\u001b[0m     c\u001b[38;5;241m=\u001b[39mc\n\u001b[0;32m      8\u001b[0m     \u001b[38;5;28mprint\u001b[39m(a,b,c)\n\u001b[1;32m---> 10\u001b[0m fun4()\n",
      "Cell \u001b[1;32mIn[43], line 5\u001b[0m, in \u001b[0;36mfun4\u001b[1;34m()\u001b[0m\n\u001b[0;32m      4\u001b[0m \u001b[38;5;28;01mdef\u001b[39;00m \u001b[38;5;21mfun4\u001b[39m():\n\u001b[1;32m----> 5\u001b[0m     a\u001b[38;5;241m=\u001b[39mb\u001b[38;5;241m+\u001b[39mc\n\u001b[0;32m      6\u001b[0m     b\u001b[38;5;241m=\u001b[39mc\u001b[38;5;241m+\u001b[39ma\n\u001b[0;32m      7\u001b[0m     c\u001b[38;5;241m=\u001b[39mc\n",
      "\u001b[1;31mUnboundLocalError\u001b[0m: cannot access local variable 'b' where it is not associated with a value"
     ]
    }
   ],
   "source": [
    "a=10\n",
    "b=20\n",
    "c=30\n",
    "def fun4():\n",
    "    a=b+c\n",
    "    b=c+a\n",
    "    c=c\n",
    "    print(a,b,c)\n",
    "\n",
    "fun4()"
   ]
  },
  {
   "cell_type": "code",
   "execution_count": 45,
   "id": "06a59c77-2882-40c4-b21a-9fa9adf65838",
   "metadata": {},
   "outputs": [
    {
     "name": "stdout",
     "output_type": "stream",
     "text": [
      "0\n"
     ]
    }
   ],
   "source": [
    "c=0\n",
    "def fun5():\n",
    "    a=c+1\n",
    "    print(c)\n",
    "\n",
    "fun5()"
   ]
  },
  {
   "cell_type": "markdown",
   "id": "7f2bf451-f32e-4186-a987-4b20af67f2c8",
   "metadata": {},
   "source": [
    "**Return**\n",
    "\n",
    "- As of now we are defining functions\n",
    "\n",
    "- we are calling the functions\n",
    "\n",
    "- if any operation we are performing inside function\n",
    "\n",
    "- we are able to use that values using **global** keyword\n",
    "\n",
    "- we also can use that values using **return** statement"
   ]
  },
  {
   "cell_type": "code",
   "execution_count": 54,
   "id": "06c764a5-0137-4a73-9d98-e63ed77165ea",
   "metadata": {},
   "outputs": [],
   "source": [
    "def average(a,b,c):\n",
    "    avg=(a+b+c)/3\n",
    "    return(avg)\n",
    "\n",
    "# The above function performing\n",
    "# avg calculation and it is returning\n",
    "# that return value we are storing in a variable\n",
    "# called AVG\n",
    "\n",
    "# generally we will keep the variable same as\n",
    "# retutn variable only\n",
    "\n",
    "avg=average(10,20,30)"
   ]
  },
  {
   "cell_type": "code",
   "execution_count": 53,
   "id": "386b3fc0-7f9c-4da6-a84f-af9bacba4845",
   "metadata": {},
   "outputs": [
    {
     "data": {
      "text/plain": [
       "20.0"
      ]
     },
     "execution_count": 53,
     "metadata": {},
     "output_type": "execute_result"
    }
   ],
   "source": [
    "avg"
   ]
  },
  {
   "cell_type": "code",
   "execution_count": 55,
   "id": "b0db183b-7d4e-4a1a-a662-c03ce421ff49",
   "metadata": {},
   "outputs": [
    {
     "data": {
      "text/plain": [
       "(30.0, 90)"
      ]
     },
     "execution_count": 55,
     "metadata": {},
     "output_type": "execute_result"
    }
   ],
   "source": [
    "def fun5(a,b,c):\n",
    "    avg=(a+b+c)/3\n",
    "    summ=a+b+c\n",
    "    return(avg,summ)\n",
    "\n",
    "fun5(20,30,40)"
   ]
  },
  {
   "cell_type": "code",
   "execution_count": null,
   "id": "15286973-729e-4618-9e80-d8a42306d9fd",
   "metadata": {},
   "outputs": [],
   "source": [
    "a=10\n",
    "b=20\n",
    "a=10,20\n",
    "a,b=10,20\n",
    "a,b=10"
   ]
  },
  {
   "cell_type": "code",
   "execution_count": 57,
   "id": "a64e433c-0cfd-447a-8f54-a863beab2173",
   "metadata": {},
   "outputs": [
    {
     "data": {
      "text/plain": [
       "(10, 20)"
      ]
     },
     "execution_count": 57,
     "metadata": {},
     "output_type": "execute_result"
    }
   ],
   "source": [
    "a=10,20\n",
    "a"
   ]
  },
  {
   "cell_type": "code",
   "execution_count": 59,
   "id": "64a83d05-beb4-4b89-aa99-e6a515a15e4d",
   "metadata": {},
   "outputs": [
    {
     "data": {
      "text/plain": [
       "20"
      ]
     },
     "execution_count": 59,
     "metadata": {},
     "output_type": "execute_result"
    }
   ],
   "source": [
    "a,b=10,20\n",
    "a\n",
    "b"
   ]
  },
  {
   "cell_type": "code",
   "execution_count": 60,
   "id": "338e7e9a-9897-4189-89e2-7855656c3fd5",
   "metadata": {},
   "outputs": [
    {
     "ename": "TypeError",
     "evalue": "cannot unpack non-iterable int object",
     "output_type": "error",
     "traceback": [
      "\u001b[1;31m---------------------------------------------------------------------------\u001b[0m",
      "\u001b[1;31mTypeError\u001b[0m                                 Traceback (most recent call last)",
      "Cell \u001b[1;32mIn[60], line 1\u001b[0m\n\u001b[1;32m----> 1\u001b[0m a,b\u001b[38;5;241m=\u001b[39m\u001b[38;5;241m10\u001b[39m\n",
      "\u001b[1;31mTypeError\u001b[0m: cannot unpack non-iterable int object"
     ]
    }
   ],
   "source": [
    "a,b=10"
   ]
  },
  {
   "cell_type": "code",
   "execution_count": 61,
   "id": "aec72de2-919b-44ba-8477-ca17a101adf5",
   "metadata": {},
   "outputs": [
    {
     "data": {
      "text/plain": [
       "(30.0, 90)"
      ]
     },
     "execution_count": 61,
     "metadata": {},
     "output_type": "execute_result"
    }
   ],
   "source": [
    "def fun5(a,b,c):\n",
    "    avg=(a+b+c)/3\n",
    "    summ=a+b+c\n",
    "    return(avg,summ)\n",
    "\n",
    "values=fun5(20,30,40)\n",
    "values"
   ]
  },
  {
   "cell_type": "code",
   "execution_count": 62,
   "id": "ef9cce38-e053-4652-8f5c-1bf64e9c75c8",
   "metadata": {},
   "outputs": [
    {
     "name": "stdout",
     "output_type": "stream",
     "text": [
      "30.0\n",
      "90\n"
     ]
    }
   ],
   "source": [
    "def fun5(a,b,c):\n",
    "    avg=(a+b+c)/3\n",
    "    summ=a+b+c\n",
    "    return(avg,summ)\n",
    "\n",
    "value1,value2=fun5(20,30,40)\n",
    "print(value1)\n",
    "print(value2)"
   ]
  },
  {
   "cell_type": "code",
   "execution_count": 1,
   "id": "037a26d4-004a-40ae-a81b-a51f638db823",
   "metadata": {},
   "outputs": [
    {
     "data": {
      "text/plain": [
       "False"
      ]
     },
     "execution_count": 1,
     "metadata": {},
     "output_type": "execute_result"
    }
   ],
   "source": [
    "100<10"
   ]
  },
  {
   "cell_type": "code",
   "execution_count": 2,
   "id": "0fe88a4b-e581-4234-9ff4-cfc0a76bdd9b",
   "metadata": {},
   "outputs": [
    {
     "data": {
      "text/plain": [
       "True"
      ]
     },
     "execution_count": 2,
     "metadata": {},
     "output_type": "execute_result"
    }
   ],
   "source": [
    "100>10"
   ]
  },
  {
   "cell_type": "code",
   "execution_count": 4,
   "id": "b3098148-47ca-4838-a0cd-538921ac1769",
   "metadata": {},
   "outputs": [
    {
     "name": "stdout",
     "output_type": "stream",
     "text": [
      "The total bill is: 1100.0\n"
     ]
    }
   ],
   "source": [
    "# WAP create the function\n",
    "# For bill pay\n",
    "# bill amount\n",
    "# tip per\n",
    "# calculate total bill\n",
    "# return the total bill\n",
    "\n",
    "def bill_pay(bill_amount,tip_per):\n",
    "    tip_amount=bill_amount*tip_per/100\n",
    "    total_bill=tip_amount+bill_amount\n",
    "    return(total_bill)\n",
    "\n",
    "total_bill=bill_pay(1000,10)\n",
    "print(\"The total bill is:\",total_bill)"
   ]
  },
  {
   "cell_type": "code",
   "execution_count": 6,
   "id": "b5224f2a-8568-40c7-91d6-ad7db8cec1c7",
   "metadata": {},
   "outputs": [
    {
     "name": "stdout",
     "output_type": "stream",
     "text": [
      "The total bill is: 100.0\n",
      "The tip amount is: 1100.0\n"
     ]
    }
   ],
   "source": [
    "def bill_pay(bill_amount,tip_per):\n",
    "    tip_amount=bill_amount*tip_per/100\n",
    "    total_bill=tip_amount+bill_amount\n",
    "    return(tip_amount,total_bill)\n",
    "\n",
    "tip_amount,total_bill=bill_pay(1000,10)\n",
    "print(\"The total bill is:\",total_bill)\n",
    "print(\"The tip amount is:\",tip_amount)"
   ]
  },
  {
   "cell_type": "code",
   "execution_count": 7,
   "id": "fcac7dad-c2a9-4ad9-a2a3-988df1ca7c24",
   "metadata": {},
   "outputs": [
    {
     "name": "stdout",
     "output_type": "stream",
     "text": [
      "The total bill is: (100.0, 1100.0)\n"
     ]
    }
   ],
   "source": [
    "def bill_pay(bill_amount,tip_per):\n",
    "    tip_amount=bill_amount*tip_per/100\n",
    "    total_bill=tip_amount+bill_amount\n",
    "    return(tip_amount,total_bill)\n",
    "\n",
    "total_bill=bill_pay(1000,10)\n",
    "print(\"The total bill is:\",total_bill)"
   ]
  },
  {
   "cell_type": "code",
   "execution_count": null,
   "id": "e381815c-3795-4384-bdbd-d22e459fbd3e",
   "metadata": {},
   "outputs": [],
   "source": [
    "def bill_pay(bill_amount,tip_per):\n",
    "    tip_amount=bill_amount*tip_per/100\n",
    "    total_bill=tip_amount+bill_amount\n",
    "    return(total_bill)\n",
    "\n",
    "total_bill=bill_pay(1000,10)\n",
    "print(\"The total bill is:\",total_bill)\n",
    "#####################################################\n",
    "def bill_pay(bill_amount,tip_per):\n",
    "    tip_amount=bill_amount*tip_per/100\n",
    "    total_bill=tip_amount+bill_amount\n",
    "    return(tip_amount,total_bill)\n",
    "\n",
    "tip_amount,total_bill=bill_pay(1000,10)\n",
    "print(\"The total bill is:\",total_bill)\n",
    "print(\"The tip amount is:\",tip_amount)\n",
    "####################################################\n",
    "def bill_pay(bill_amount,tip_per):\n",
    "    tip_amount=bill_amount*tip_per/100\n",
    "    total_bill=tip_amount+bill_amount\n",
    "    return(tip_amount,total_bill)\n",
    "\n",
    "total_bill=bill_pay(1000,10)\n",
    "print(\"The total bill is:\",total_bill)"
   ]
  },
  {
   "cell_type": "code",
   "execution_count": 9,
   "id": "8e9ab0fb-d27b-46ee-a287-93d80d5d047a",
   "metadata": {},
   "outputs": [
    {
     "ename": "TypeError",
     "evalue": "bill_per() takes 0 positional arguments but 2 were given",
     "output_type": "error",
     "traceback": [
      "\u001b[1;31m---------------------------------------------------------------------------\u001b[0m",
      "\u001b[1;31mTypeError\u001b[0m                                 Traceback (most recent call last)",
      "Cell \u001b[1;32mIn[9], line 7\u001b[0m\n\u001b[0;32m      5\u001b[0m     total_bill \u001b[38;5;241m=\u001b[39m bill\u001b[38;5;241m+\u001b[39mtip \n\u001b[0;32m      6\u001b[0m     \u001b[38;5;28;01mreturn\u001b[39;00m (total_bill, tip) \n\u001b[1;32m----> 7\u001b[0m total_bill\u001b[38;5;241m=\u001b[39mbill_per(\u001b[38;5;241m1000\u001b[39m,\u001b[38;5;241m10\u001b[39m) \n\u001b[0;32m      8\u001b[0m \u001b[38;5;28mprint\u001b[39m(\u001b[38;5;124m'\u001b[39m\u001b[38;5;124mTotal bill:\u001b[39m\u001b[38;5;124m'\u001b[39m,total_bill)\n",
      "\u001b[1;31mTypeError\u001b[0m: bill_per() takes 0 positional arguments but 2 were given"
     ]
    }
   ],
   "source": [
    "def bill_per(): \n",
    "    bill = eval(input(\"Enter bill amount: \")) \n",
    "    tip_per = eval(input(\"Enter tip % wrt bill (1 - 100): \")) \n",
    "    tip = (bill/100)*tip_per \n",
    "    total_bill = bill+tip \n",
    "    return (total_bill, tip)\n",
    "    \n",
    "total_bill=bill(1000,10) \n",
    "print('Total bill:',total_bill)\n"
   ]
  },
  {
   "cell_type": "code",
   "execution_count": 14,
   "id": "2b743de8-79e0-4014-a6ed-122ffd06775c",
   "metadata": {},
   "outputs": [],
   "source": [
    "def fun():\n",
    "    a=10\n",
    "    b=20\n",
    "    return(a,b)\n",
    "\n",
    "v1,v2=fun()"
   ]
  },
  {
   "cell_type": "code",
   "execution_count": 15,
   "id": "7463a56f-74ee-4cbb-95eb-01a9349bd2c6",
   "metadata": {},
   "outputs": [
    {
     "data": {
      "text/plain": [
       "10"
      ]
     },
     "execution_count": 15,
     "metadata": {},
     "output_type": "execute_result"
    }
   ],
   "source": [
    "v1"
   ]
  },
  {
   "cell_type": "code",
   "execution_count": 16,
   "id": "a6156e49-039d-4be8-9b99-f5899d141b7e",
   "metadata": {},
   "outputs": [
    {
     "data": {
      "text/plain": [
       "20"
      ]
     },
     "execution_count": 16,
     "metadata": {},
     "output_type": "execute_result"
    }
   ],
   "source": [
    "v2"
   ]
  },
  {
   "cell_type": "code",
   "execution_count": null,
   "id": "dea7de0d-33cd-4ba7-bb48-5c11bdc2ac47",
   "metadata": {},
   "outputs": [],
   "source": [
    "fun() ==== with out argument\n",
    "fun(a,b) === with arg"
   ]
  },
  {
   "cell_type": "code",
   "execution_count": 18,
   "id": "8a9eeacc-865a-4226-a611-b19b75a0f7d6",
   "metadata": {},
   "outputs": [
    {
     "name": "stdin",
     "output_type": "stream",
     "text": [
      " 2000\n",
      " 20\n"
     ]
    },
    {
     "name": "stdout",
     "output_type": "stream",
     "text": [
      "The total bill is: 2400.0\n"
     ]
    }
   ],
   "source": [
    "\n",
    "def bill_pay():\n",
    "    tip_amount=bill_amount*tip_per/100\n",
    "    total_bill=tip_amount+bill_amount\n",
    "    return(total_bill)\n",
    "\n",
    "bill_amount= eval(input())\n",
    "tip_per= eval(input())\n",
    "\n",
    "total_bill=bill_pay()\n",
    "print(\"The total bill is:\",total_bill)\n",
    "\n",
    "# Step-1: Define the function\n",
    "# Step-2: Taking the bill amount\n",
    "# Step-3: taking the tip per\n",
    "# Step-4: call\n",
    "# Step-5: run \n",
    "\n",
    "#you defined the funciton, but you are not passing input parameters to the functions."
   ]
  },
  {
   "cell_type": "code",
   "execution_count": null,
   "id": "143316ad-6bc3-4e77-b59d-5b8c42cf4ced",
   "metadata": {},
   "outputs": [],
   "source": [
    "bill_amount= eval(input())\n",
    "tip_per= eval(input())\n",
    "\n",
    "\n",
    "def bill_pay():\n",
    "    tip_amount=bill_amount*tip_per/100\n",
    "    total_bill=tip_amount+bill_amount\n",
    "    return(total_bill)\n",
    "\n",
    "\n",
    "total_bill=bill_pay()\n",
    "print(\"The total bill is:\",total_bill)\n",
    "\n",
    "# Step-1: Taking the bill amount\n",
    "# Step-2: taking the tip per\n",
    "# Step-3: Define the function\n",
    "# Step-4: call\n",
    "# Step-5: run \n"
   ]
  },
  {
   "cell_type": "markdown",
   "id": "ef4d535d-f6ac-4ba9-8d8d-3099d0832a8c",
   "metadata": {},
   "source": [
    "- Global variables can intialise anywhere\n",
    "\n",
    "- By the time of the calling function\n",
    "\n",
    "- Is variables are available or not ?\n",
    "\n",
    "- If the variables are available then that function works"
   ]
  },
  {
   "cell_type": "code",
   "execution_count": null,
   "id": "2b86dd64-8c8a-4f07-9ee2-5fff144c5816",
   "metadata": {},
   "outputs": [],
   "source": [
    "def bill_pay(bill_amount,tip_per): \n",
    "    tip_amount=bill_amount*tip_per/100 \n",
    "    total_bill=tip_amount+bill_amount \n",
    "    return(total_bill) \n",
    "total_bill=bill_pay(1000,10) \n",
    "print('the total bill is:',total_bill) \n",
    "print('the tip amount is:',tip_amount)\n",
    "\n",
    "# gobal var\n",
    "# not returned\n",
    "# you are trying to use\n",
    "# local varaibles can not use outside function call"
   ]
  },
  {
   "cell_type": "code",
   "execution_count": 20,
   "id": "c723c833-f932-447a-9ba9-382b3b26bdae",
   "metadata": {},
   "outputs": [
    {
     "ename": "NameError",
     "evalue": "name 'bill_amount1' is not defined",
     "output_type": "error",
     "traceback": [
      "\u001b[1;31m---------------------------------------------------------------------------\u001b[0m",
      "\u001b[1;31mNameError\u001b[0m                                 Traceback (most recent call last)",
      "Cell \u001b[1;32mIn[20], line 7\u001b[0m\n\u001b[0;32m      3\u001b[0m     total_bill1\u001b[38;5;241m=\u001b[39mtip_amount1\u001b[38;5;241m+\u001b[39mbill_amount1\n\u001b[0;32m      4\u001b[0m     \u001b[38;5;28;01mreturn\u001b[39;00m(total_bill1)\n\u001b[1;32m----> 7\u001b[0m total_bill1\u001b[38;5;241m=\u001b[39mbill_pay1()\n\u001b[0;32m      9\u001b[0m bill_amount1\u001b[38;5;241m=\u001b[39m \u001b[38;5;28meval\u001b[39m(\u001b[38;5;28minput\u001b[39m())\n\u001b[0;32m     10\u001b[0m tip_per1\u001b[38;5;241m=\u001b[39m \u001b[38;5;28meval\u001b[39m(\u001b[38;5;28minput\u001b[39m())\n",
      "Cell \u001b[1;32mIn[20], line 2\u001b[0m, in \u001b[0;36mbill_pay1\u001b[1;34m()\u001b[0m\n\u001b[0;32m      1\u001b[0m \u001b[38;5;28;01mdef\u001b[39;00m \u001b[38;5;21mbill_pay1\u001b[39m():\n\u001b[1;32m----> 2\u001b[0m     tip_amount1\u001b[38;5;241m=\u001b[39mbill_amount1\u001b[38;5;241m*\u001b[39mtip_per1\u001b[38;5;241m/\u001b[39m\u001b[38;5;241m100\u001b[39m\n\u001b[0;32m      3\u001b[0m     total_bill1\u001b[38;5;241m=\u001b[39mtip_amount1\u001b[38;5;241m+\u001b[39mbill_amount1\n\u001b[0;32m      4\u001b[0m     \u001b[38;5;28;01mreturn\u001b[39;00m(total_bill1)\n",
      "\u001b[1;31mNameError\u001b[0m: name 'bill_amount1' is not defined"
     ]
    }
   ],
   "source": [
    "def bill_pay1():\n",
    "    tip_amount1=bill_amount1*tip_per1/100\n",
    "    total_bill1=tip_amount1+bill_amount1\n",
    "    return(total_bill1)\n",
    "\n",
    "\n",
    "total_bill1=bill_pay1()\n",
    "\n",
    "bill_amount1= eval(input())\n",
    "tip_per1= eval(input())\n",
    "\n",
    "print(\"The total bill is:\",total_bill1)\n",
    "\n",
    "# Step-1: Taking the bill amount"
   ]
  },
  {
   "cell_type": "markdown",
   "id": "b92a4051-7837-4464-844f-7b69a0d64c35",
   "metadata": {},
   "source": [
    "- Function with arguments\n",
    "\n",
    "- Function with arguments\n",
    "\n",
    "- Function with default arguments\n",
    "\n",
    "- Local variable vs global variable\n",
    "\n",
    "- global keyword\n",
    "\n",
    "- unbound local error\n",
    "\n",
    "- return \n",
    "\n",
    "- function in functions"
   ]
  },
  {
   "cell_type": "code",
   "execution_count": 24,
   "id": "7ef3746a-8583-4934-9913-f1a09ecfee4e",
   "metadata": {},
   "outputs": [
    {
     "name": "stdout",
     "output_type": "stream",
     "text": [
      "hello good morning\n",
      "good night!\n"
     ]
    }
   ],
   "source": [
    "def greet1():\n",
    "    print('hello good morning')\n",
    "\n",
    "def greet2():\n",
    "    print('good night!')\n",
    "\n",
    "greet1()\n",
    "greet2()"
   ]
  },
  {
   "cell_type": "code",
   "execution_count": 25,
   "id": "82b0b9d5-8860-4115-86d4-5ea728a59661",
   "metadata": {},
   "outputs": [
    {
     "name": "stdout",
     "output_type": "stream",
     "text": [
      "hello good morning\n",
      "good night!\n"
     ]
    }
   ],
   "source": [
    "def greet1():\n",
    "    print('hello good morning')\n",
    "    greet2()\n",
    "\n",
    "def greet2():\n",
    "    print('good night!')\n",
    "\n",
    "greet1()\n",
    "\n",
    "# Step-1: define the greet1\n",
    "# Step-2: define the greet2\n",
    "# step-3: calling the greet1()\n",
    "# step-4: run the greet1()\n",
    "#         print ==== hello good mo\n",
    "#         calling the greet2()\n",
    "#         print ===== good night"
   ]
  },
  {
   "cell_type": "code",
   "execution_count": 26,
   "id": "58f414a1-b975-49fc-8daf-58deeb5cef1b",
   "metadata": {},
   "outputs": [
    {
     "name": "stdout",
     "output_type": "stream",
     "text": [
      "good night!\n",
      "hello good morning\n"
     ]
    }
   ],
   "source": [
    "def greet1():\n",
    "    print('hello good morning')\n",
    "\n",
    "def greet2():\n",
    "    print('good night!')\n",
    "    greet1()\n",
    "\n",
    "greet2()"
   ]
  },
  {
   "cell_type": "code",
   "execution_count": null,
   "id": "8ef46cd6-bfa0-4224-9760-ebd6551056f1",
   "metadata": {},
   "outputs": [],
   "source": [
    "################# Infinite loop################\n",
    "def greet1():\n",
    "    print('hello good morning')\n",
    "    greet2()\n",
    "\n",
    "def greet2():\n",
    "    print('good night!')\n",
    "    greet1()\n",
    "\n",
    "greet2()"
   ]
  },
  {
   "cell_type": "markdown",
   "id": "c72d1eda-db82-4351-8a86-a82ed631aff6",
   "metadata": {},
   "source": [
    "**task-1**\n",
    "\n",
    "- Create a function1\n",
    "\n",
    "- take the 3 values from user inside the function\n",
    "\n",
    "-  num1= eval(input()),num2= eval(input()),num2= eval(input())\n",
    "\n",
    "-  return those three values\n",
    "\n",
    "- Create a function2\n",
    "\n",
    "- inside function2 call the function1\n",
    "\n",
    "- we alreday know function1 returning 3 values\n",
    "\n",
    "- so here store in three variables\n",
    "\n",
    "- and find the average and return it"
   ]
  },
  {
   "cell_type": "code",
   "execution_count": 30,
   "id": "4ae7d8c5-42e2-402e-9f8c-034b24091768",
   "metadata": {},
   "outputs": [
    {
     "name": "stdout",
     "output_type": "stream",
     "text": [
      "======== Average starts ==============\n"
     ]
    },
    {
     "name": "stdin",
     "output_type": "stream",
     "text": [
      "enter the num1: 10\n",
      "enter the num2: 20\n"
     ]
    },
    {
     "name": "stdout",
     "output_type": "stream",
     "text": [
      "The avergae is: 15.0\n",
      "======== Addition stats ==============\n"
     ]
    },
    {
     "name": "stdin",
     "output_type": "stream",
     "text": [
      "enter the num1: 20\n",
      "enter the num2: 30\n"
     ]
    },
    {
     "name": "stdout",
     "output_type": "stream",
     "text": [
      "The addition is: 50\n",
      "======== Subtraction starts ==============\n"
     ]
    },
    {
     "name": "stdin",
     "output_type": "stream",
     "text": [
      "enter the num1: 50\n",
      "enter the num2: 40\n"
     ]
    },
    {
     "name": "stdout",
     "output_type": "stream",
     "text": [
      "The subtraction is: 10\n",
      "======== Multiplication stats ==============\n"
     ]
    },
    {
     "name": "stdin",
     "output_type": "stream",
     "text": [
      "enter the num1: 10\n",
      "enter the num2: 20\n"
     ]
    },
    {
     "name": "stdout",
     "output_type": "stream",
     "text": [
      "The multiplication is: 200\n"
     ]
    }
   ],
   "source": [
    "def fun1():\n",
    "    n1=eval(input('enter the num1:'))\n",
    "    n2=eval(input('enter the num2:'))\n",
    "    return(n1,n2)\n",
    "\n",
    "def Average():\n",
    "    print(\"======== Average starts ==============\")\n",
    "    n1,n2=fun1()\n",
    "    avg=(n1+n2)/2\n",
    "    return(avg)\n",
    "avg=Average()\n",
    "print(\"The avergae is:\",avg)\n",
    "\n",
    "def addition():\n",
    "    print(\"======== Addition stats ==============\")\n",
    "    n1,n2=fun1()\n",
    "    add=(n1+n2)\n",
    "    return(add)\n",
    "add=addition()\n",
    "print(\"The addition is:\",add)\n",
    "\n",
    "def subutraction():\n",
    "    print(\"======== Subtraction starts ==============\")\n",
    "    n1,n2=fun1()\n",
    "    sub=(n1-n2)\n",
    "    return(sub)\n",
    "sub=subutraction()\n",
    "print(\"The subtraction is:\",sub)\n",
    "\n",
    "def multiplicaton():\n",
    "    print(\"======== Multiplication stats ==============\")\n",
    "    n1,n2=fun1()\n",
    "    mul=(n1*n2)\n",
    "    return(mul)\n",
    "\n",
    "mul=multiplicaton()\n",
    "print(\"The multiplication is:\",mul)"
   ]
  },
  {
   "cell_type": "code",
   "execution_count": null,
   "id": "1cb93f57-b4ed-4110-86d6-3f4712cc6129",
   "metadata": {},
   "outputs": [],
   "source": [
    "# Step-1: Create a add function\n",
    "          #return the values\n",
    "# Example\n",
    "     #def add(a,b):\n",
    "         #return(a+b)\n",
    "\n",
    "# step-2: mul\n",
    "# step-3: sub\n",
    "# step-4: div\n",
    "\n",
    "# step-5: if-else calculator\n",
    "#         print the statement\n",
    "#         enter 1 ==== add\n",
    "#         enter 2 ==== sub\n",
    "#         enter 3===== mul\n",
    "#         enter 4 ===== div\n",
    "\n",
    "# step-6: ask the user enter the option\n",
    "# step-7 : ask the user enter two values a,b\n",
    "# step-8: if option==1:\n",
    "#            =add()\n",
    "#            print the value\n",
    "# step-9\n",
    "# step-10\n",
    "# step-11"
   ]
  }
 ],
 "metadata": {
  "kernelspec": {
   "display_name": "Python 3 (ipykernel)",
   "language": "python",
   "name": "python3"
  },
  "language_info": {
   "codemirror_mode": {
    "name": "ipython",
    "version": 3
   },
   "file_extension": ".py",
   "mimetype": "text/x-python",
   "name": "python",
   "nbconvert_exporter": "python",
   "pygments_lexer": "ipython3",
   "version": "3.11.7"
  }
 },
 "nbformat": 4,
 "nbformat_minor": 5
}
