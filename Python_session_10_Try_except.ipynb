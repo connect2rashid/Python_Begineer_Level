{
 "cells": [
  {
   "cell_type": "markdown",
   "id": "a5db0f6a-cc8c-4058-b123-2cfbadbc3fc7",
   "metadata": {},
   "source": [
    "- kindly avoid syntax error\n",
    "\n",
    "- brackets are missing\n",
    "\n",
    "- quotes are missing\n",
    "\n",
    "- Name error\n",
    "\n",
    "   - black color is the variable\n",
    "\n",
    "   - red color is the string\n",
    "\n",
    "   - green color keywords\n",
    "\n",
    "- Attribute error , when we call package\n",
    "\n",
    "     random.ranm\n",
    "\n",
    "- indentation error : space "
   ]
  },
  {
   "cell_type": "markdown",
   "id": "e5db4e43-ee7f-4b5c-be72-4f587d12bc54",
   "metadata": {},
   "source": [
    "- python is a step by step process\n",
    "\n",
    "- If we get any error , kernel will not execute the other lines\n",
    "\n",
    "- Forv example we written 1000lines of code\n",
    "\n",
    "- There is an error at 500 line\n",
    "\n",
    "- Then remaining 500 lines will not execute\n",
    "\n",
    "- But you know that that error not a logical error\n",
    "\n",
    "- eventhough we got the error we wants to make sure run our code\n",
    "\n",
    "- Second use case: we need to capture the error also "
   ]
  },
  {
   "cell_type": "code",
   "execution_count": 2,
   "id": "0b64da8f-ed74-48e4-b2e8-9ed8358eeb70",
   "metadata": {},
   "outputs": [
    {
     "name": "stdin",
     "output_type": "stream",
     "text": [
      "Enter the number1: 10\n",
      "Enter the number2: 0\n"
     ]
    },
    {
     "ename": "ZeroDivisionError",
     "evalue": "division by zero",
     "output_type": "error",
     "traceback": [
      "\u001b[1;31m---------------------------------------------------------------------------\u001b[0m",
      "\u001b[1;31mZeroDivisionError\u001b[0m                         Traceback (most recent call last)",
      "Cell \u001b[1;32mIn[2], line 3\u001b[0m\n\u001b[0;32m      1\u001b[0m a\u001b[38;5;241m=\u001b[39m\u001b[38;5;28meval\u001b[39m(\u001b[38;5;28minput\u001b[39m(\u001b[38;5;124m\"\u001b[39m\u001b[38;5;124mEnter the number1:\u001b[39m\u001b[38;5;124m\"\u001b[39m))\n\u001b[0;32m      2\u001b[0m b\u001b[38;5;241m=\u001b[39m\u001b[38;5;28meval\u001b[39m(\u001b[38;5;28minput\u001b[39m(\u001b[38;5;124m\"\u001b[39m\u001b[38;5;124mEnter the number2:\u001b[39m\u001b[38;5;124m\"\u001b[39m))\n\u001b[1;32m----> 3\u001b[0m \u001b[38;5;28mprint\u001b[39m(\u001b[38;5;124m\"\u001b[39m\u001b[38;5;124mThe division of a and b is:\u001b[39m\u001b[38;5;124m\"\u001b[39m,a\u001b[38;5;241m/\u001b[39mb)\n\u001b[0;32m      4\u001b[0m \u001b[38;5;28mprint\u001b[39m(\u001b[38;5;124m'\u001b[39m\u001b[38;5;124mHello\u001b[39m\u001b[38;5;124m'\u001b[39m)\n",
      "\u001b[1;31mZeroDivisionError\u001b[0m: division by zero"
     ]
    }
   ],
   "source": [
    "a=eval(input(\"Enter the number1:\"))\n",
    "b=eval(input(\"Enter the number2:\"))\n",
    "print(\"The division of a and b is:\",a/b)\n",
    "print('Hello')"
   ]
  },
  {
   "cell_type": "markdown",
   "id": "d715803d-a1fb-4e04-979a-35b5315323c8",
   "metadata": {},
   "source": [
    "**try-except**\n",
    "\n",
    "- try and except both are keywords\n",
    "\n",
    "- try block has original code\n",
    "\n",
    "- except block is used to capture the error\n",
    "\n",
    "- it is similar to if-else\n",
    "\n",
    "- try-except should come together\n",
    "\n",
    "- First the code will run in try block, whenever the error occures immediaty it wil redirect to except block"
   ]
  },
  {
   "cell_type": "code",
   "execution_count": 4,
   "id": "6719b45a-7540-4b92-9190-62311383b473",
   "metadata": {},
   "outputs": [
    {
     "name": "stdin",
     "output_type": "stream",
     "text": [
      "Enter the number1: 20\n",
      "Enter the number2: 0\n"
     ]
    },
    {
     "name": "stdout",
     "output_type": "stream",
     "text": [
      "error is coming\n",
      "error is zero division error\n"
     ]
    }
   ],
   "source": [
    "try:\n",
    "    a=eval(input(\"Enter the number1:\"))\n",
    "    b=eval(input(\"Enter the number2:\"))\n",
    "    print(\"The division of a and b is:\",a/b)\n",
    "    print('Hello')\n",
    "\n",
    "except:\n",
    "    print(\"error is coming\")\n",
    "    print(\"error is zero division error\")"
   ]
  },
  {
   "cell_type": "code",
   "execution_count": 6,
   "id": "bdbe940b-29cc-42f9-8801-ed9b95f9216c",
   "metadata": {},
   "outputs": [
    {
     "name": "stdin",
     "output_type": "stream",
     "text": [
      "Enter the number1: 20\n",
      "Enter the number2: 0\n"
     ]
    },
    {
     "name": "stdout",
     "output_type": "stream",
     "text": [
      "error is coming\n",
      "error is name error\n"
     ]
    }
   ],
   "source": [
    "try:\n",
    "    a=eval(input(\"Enter the number1:\"))\n",
    "    b=eval(input(\"Enter the number2:\"))\n",
    "    print(\"The division of a and b is:\",a/b)\n",
    "    print('Hello')\n",
    "\n",
    "except:\n",
    "    print(\"error is coming\")\n",
    "    print(\"error is name error\")"
   ]
  },
  {
   "cell_type": "code",
   "execution_count": null,
   "id": "35c1aba3-546a-4c6d-ae93-a14359be8ea5",
   "metadata": {},
   "outputs": [],
   "source": []
  },
  {
   "cell_type": "code",
   "execution_count": 9,
   "id": "6ad0eb68-1a0c-4f15-9a80-ff6c14d25c61",
   "metadata": {},
   "outputs": [
    {
     "name": "stdin",
     "output_type": "stream",
     "text": [
      "Enter the number1: 10\n",
      "Enter the number2: 20\n"
     ]
    },
    {
     "name": "stdout",
     "output_type": "stream",
     "text": [
      "name 'aa' is not defined\n"
     ]
    }
   ],
   "source": [
    "try:\n",
    "    a=eval(input(\"Enter the number1:\"))\n",
    "    b=eval(input(\"Enter the number2:\"))\n",
    "    print(\"The division of a and b is:\",a/b)\n",
    "    print('Hello')\n",
    "\n",
    "except Exception as e:\n",
    "    print(e)\n"
   ]
  },
  {
   "cell_type": "markdown",
   "id": "4f53ce57-b8d8-44e4-ad65-a580f8041464",
   "metadata": {},
   "source": [
    "**Case-1: Miss the brackets**\n"
   ]
  },
  {
   "cell_type": "code",
   "execution_count": 10,
   "id": "aef32511-51c2-4344-8e5b-10b613e458d7",
   "metadata": {},
   "outputs": [
    {
     "ename": "SyntaxError",
     "evalue": "'(' was never closed (1291357231.py, line 2)",
     "output_type": "error",
     "traceback": [
      "\u001b[1;36m  Cell \u001b[1;32mIn[10], line 2\u001b[1;36m\u001b[0m\n\u001b[1;33m    a=eval(input(\"Enter the number1:\")\u001b[0m\n\u001b[1;37m          ^\u001b[0m\n\u001b[1;31mSyntaxError\u001b[0m\u001b[1;31m:\u001b[0m '(' was never closed\n"
     ]
    }
   ],
   "source": [
    "try:\n",
    "    a=eval(input(\"Enter the number1:\")\n",
    "    b=eval(input(\"Enter the number2:\"))\n",
    "    print(\"The division of a and b is:\",a/b)\n",
    "    print('Hello')\n",
    "\n",
    "except Exception as e:\n",
    "    print(e)\n"
   ]
  },
  {
   "cell_type": "markdown",
   "id": "8e3d6821-83db-4b50-8db7-75a8b529811c",
   "metadata": {},
   "source": [
    "**Case-2: miss the quotes**"
   ]
  },
  {
   "cell_type": "code",
   "execution_count": 11,
   "id": "f82cd4f4-5584-4cfe-81e3-1b0ca41f40ae",
   "metadata": {},
   "outputs": [
    {
     "ename": "SyntaxError",
     "evalue": "unterminated string literal (detected at line 2) (2325577142.py, line 2)",
     "output_type": "error",
     "traceback": [
      "\u001b[1;36m  Cell \u001b[1;32mIn[11], line 2\u001b[1;36m\u001b[0m\n\u001b[1;33m    a=eval(input(\"Enter the number1:))\u001b[0m\n\u001b[1;37m                 ^\u001b[0m\n\u001b[1;31mSyntaxError\u001b[0m\u001b[1;31m:\u001b[0m unterminated string literal (detected at line 2)\n"
     ]
    }
   ],
   "source": [
    "try:\n",
    "    a=eval(input(\"Enter the number1:))\n",
    "    b=eval(input(\"Enter the number2:\"))\n",
    "    print(\"The division of a and b is:\",a/b)\n",
    "    print('Hello')\n",
    "\n",
    "except Exception as e:\n",
    "    print(e)"
   ]
  },
  {
   "cell_type": "code",
   "execution_count": null,
   "id": "eb599030-0acf-457f-ab95-a0eaabc17ed6",
   "metadata": {},
   "outputs": [],
   "source": [
    "# do the even-odd program by taking a random number\n",
    "import random\n",
    "num=random.randint(1,100)\n",
    "if num%2==0:\n",
    "    print(f\"The given {num} is even\")\n",
    "else:\n",
    "    print(f\"The given {num} is odd\")"
   ]
  },
  {
   "cell_type": "code",
   "execution_count": 12,
   "id": "3142f3e7-8131-4a84-af91-225a216aaf0c",
   "metadata": {},
   "outputs": [
    {
     "name": "stdout",
     "output_type": "stream",
     "text": [
      "module 'random' has no attribute 'randin'\n"
     ]
    }
   ],
   "source": [
    "try:\n",
    "    import random\n",
    "    num=random.randint(1,100)\n",
    "    if num%2==0:\n",
    "        print(f\"The given {num} is even\")\n",
    "    else:\n",
    "        print(f\"The given {num} is odd\")\n",
    "\n",
    "except Exception as e:\n",
    "    print(e)"
   ]
  },
  {
   "cell_type": "code",
   "execution_count": null,
   "id": "665567a6-adf3-4f6f-bbb3-80361e639557",
   "metadata": {},
   "outputs": [],
   "source": [
    "may I know why this * is coming while executing\n",
    "\n",
    "*  kernel  it is \n",
    "\n",
    "[]\n",
    "[*]\n",
    "[<num>]"
   ]
  },
  {
   "cell_type": "code",
   "execution_count": null,
   "id": "6e3d8eeb-32ae-49ce-a18f-50135550d0be",
   "metadata": {},
   "outputs": [],
   "source": [
    "try:\n",
    "    \n",
    "except:\n",
    "    \n",
    "finally:\n",
    "    "
   ]
  }
 ],
 "metadata": {
  "kernelspec": {
   "display_name": "Python 3 (ipykernel)",
   "language": "python",
   "name": "python3"
  },
  "language_info": {
   "codemirror_mode": {
    "name": "ipython",
    "version": 3
   },
   "file_extension": ".py",
   "mimetype": "text/x-python",
   "name": "python",
   "nbconvert_exporter": "python",
   "pygments_lexer": "ipython3",
   "version": "3.11.7"
  }
 },
 "nbformat": 4,
 "nbformat_minor": 5
}
