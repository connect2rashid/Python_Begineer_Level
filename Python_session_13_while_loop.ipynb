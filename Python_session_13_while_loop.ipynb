{
 "cells": [
  {
   "cell_type": "markdown",
   "id": "b186aa58-fad1-4a02-aa55-186f96ba9cfb",
   "metadata": {},
   "source": [
    "**While loop**\n",
    "\n",
    "- We already know that any loop we required three things\n",
    "\n",
    "- Intialization to start the loop\n",
    "\n",
    "- Increment or decrement\n",
    "\n",
    "- Condition to stop the loop"
   ]
  },
  {
   "cell_type": "code",
   "execution_count": null,
   "id": "01393fc1-071e-42be-8f93-dc0efae025f2",
   "metadata": {},
   "outputs": [],
   "source": [
    "# Aug7th video dont ask admin\n",
    "# message me what is the class\n",
    "# Assignments are not uploading GC: My drive is full \n",
    "# Online lab \n",
    "\n",
    "# If you not attend the lab ==== proceed \n",
    "# Online exam \n",
    "# One more exam \n",
    "# 10Python screening test\n",
    "# 1-2 months DS : Python \n",
    "# DS 20 screening test + \n",
    "# 19th 1month batch free \n",
    "# 19th 4 weeks \n",
    "# Company ds \n",
    "# 5 to 7 7 to 9 4 hours class"
   ]
  },
  {
   "cell_type": "code",
   "execution_count": 1,
   "id": "4fa55f21-6f42-4d75-b61d-3b80cec44906",
   "metadata": {},
   "outputs": [
    {
     "name": "stdout",
     "output_type": "stream",
     "text": [
      "0\n",
      "1\n",
      "2\n",
      "3\n",
      "4\n"
     ]
    }
   ],
   "source": [
    "for i in range(5):\n",
    "    print(i)\n",
    "# i=0  i +1   i= 5-1=4\n",
    "\n",
    "# here i starts with 0 increment by1\n",
    "# when i reach to 4 the loop stop"
   ]
  },
  {
   "cell_type": "markdown",
   "id": "a42afd85-a2dd-4d73-a3d4-7239b5d0792e",
   "metadata": {},
   "source": [
    "- in for loop all 3 things in a single line\n",
    "\n",
    "- but in while loop we need to write a 3 lines\n",
    "\n",
    "- It is like wrapper\n",
    "\n",
    "- summation and count wrapper\n",
    "\n",
    "- at start intilaization, inside loop increment"
   ]
  },
  {
   "cell_type": "code",
   "execution_count": null,
   "id": "d9658b28-f7d0-4a9b-97de-69f513601396",
   "metadata": {},
   "outputs": [],
   "source": [
    "intial_point= value\n",
    "\n",
    "while <condition>:\n",
    "\n",
    "    # write your lines\n",
    "\n",
    "    increment or decrement"
   ]
  },
  {
   "cell_type": "code",
   "execution_count": null,
   "id": "a0b88d94-51f9-461c-b119-a1f0b4dc2cab",
   "metadata": {},
   "outputs": [],
   "source": [
    "# for i in range(5):\n",
    "#     print(i)\n",
    "i=0\n",
    "while <cond>:\n",
    "    print(i)\n",
    "    i=i+1"
   ]
  },
  {
   "cell_type": "code",
   "execution_count": 6,
   "id": "c6bcf867-c0b7-488f-89b1-38748aaf01dc",
   "metadata": {},
   "outputs": [
    {
     "name": "stdout",
     "output_type": "stream",
     "text": [
      "0 1 2 3 4 "
     ]
    }
   ],
   "source": [
    "# 0  1   2   3   4 \n",
    "i=0\n",
    "while i<5:\n",
    "    print(i,end=' ')\n",
    "    i=i+1\n",
    "\n",
    "# step-1: i=0 === > while 0<5 T == print(0) === i=0+1=1\n",
    "# step-2: i=1 ====> while 1<5 T == print(1) === i=1+1=2\n",
    "# step-3: i=2 ====> while 2<5 T == print(2) === i=2+1=3\n",
    "# step-4: i=3 ===> while 3<5 T == print(3) === i= 3+1=4\n",
    "# step-5: i=4 ===> while 4<5 T == print(4) === i= 4+1=5\n",
    "# step-6: i=5 ==== >  5<5 F"
   ]
  },
  {
   "cell_type": "code",
   "execution_count": 5,
   "id": "b305eef9-dd04-4b4b-be5c-e8b6d218906a",
   "metadata": {},
   "outputs": [
    {
     "name": "stdout",
     "output_type": "stream",
     "text": [
      "0 1 2 3 4 "
     ]
    }
   ],
   "source": [
    "i=0\n",
    "while i<=4:\n",
    "    print(i,end=' ')\n",
    "    i=i+1\n"
   ]
  },
  {
   "cell_type": "code",
   "execution_count": null,
   "id": "9126e518-e77c-45d7-91c8-3980116ff501",
   "metadata": {},
   "outputs": [],
   "source": [
    "# 1 to 10\n",
    "# -1 to -10\n",
    "# 10 to 1\n",
    "# -10 to -1"
   ]
  },
  {
   "cell_type": "code",
   "execution_count": 8,
   "id": "82b2832e-02a5-4d09-ba75-2c33ad41d114",
   "metadata": {},
   "outputs": [
    {
     "name": "stdout",
     "output_type": "stream",
     "text": [
      "0\n",
      "-1\n",
      "-2\n",
      "-3\n",
      "-4\n"
     ]
    }
   ],
   "source": [
    "i=0\n",
    "while i<5:\n",
    "    print(i)\n",
    "    i=i-1\n",
    "    if i==-5:\n",
    "        break\n",
    "\n",
    "# i=0 === > 0<5 T === > 0  ==> 0-1= -1\n",
    "# i=-1 === > -1<5 T === > -1 === > -1-1=-2\n",
    "#i=-2 ===> -2<5  T === > -2  === > -2-1=-3"
   ]
  },
  {
   "cell_type": "code",
   "execution_count": 14,
   "id": "3c9ec4ae-102c-418d-8094-520bd6a233f7",
   "metadata": {},
   "outputs": [
    {
     "name": "stdout",
     "output_type": "stream",
     "text": [
      "1 2 3 4 5 6 7 8 9 10 ====== second case\n",
      "-1 -2 -3 -4 -5 -6 -7 -8 -9 -10 ====== Third case\n",
      "10 9 8 7 6 5 4 3 2 1 ====== Fourth case\n",
      "-10 -9 -8 -7 -6 -5 -4 -3 -2 -1 "
     ]
    }
   ],
   "source": [
    "# 1 to 10\n",
    "i=1\n",
    "while i<=10:\n",
    "    print(i,end=' ')\n",
    "    i=i+1\n",
    "print(\"====== second case\")\n",
    "# -1 to -10\n",
    "i=-1\n",
    "while i>=-10:\n",
    "    print(i,end=' ')\n",
    "    i=i-1\n",
    "\n",
    "print(\"====== Third case\")\n",
    "# 10 to 1\n",
    "i=10\n",
    "while i>=1:\n",
    "    print(i,end=' ')\n",
    "    i=i-1\n",
    "\n",
    "print(\"====== Fourth case\")\n",
    "# -10 to -1\n",
    "i=-10\n",
    "while i<=-1:\n",
    "    print(i,end=' ')\n",
    "    i=i+1"
   ]
  },
  {
   "cell_type": "code",
   "execution_count": 15,
   "id": "308d5cc1-983f-4854-8d92-c531901dc0dd",
   "metadata": {},
   "outputs": [
    {
     "name": "stdout",
     "output_type": "stream",
     "text": [
      "1 2 3 4 5 6 7 8 9 "
     ]
    }
   ],
   "source": [
    "# 1 to 10\n",
    "i=1\n",
    "while True:\n",
    "    print(i,end=' ')\n",
    "    i=i+1\n",
    "    if i==10:\n",
    "        break"
   ]
  },
  {
   "cell_type": "code",
   "execution_count": 16,
   "id": "d38e0af7-4dca-4e29-8cd5-87d6facced33",
   "metadata": {},
   "outputs": [
    {
     "name": "stdout",
     "output_type": "stream",
     "text": [
      "1 2 3 4 5 6 7 8 9 "
     ]
    }
   ],
   "source": [
    "i=1\n",
    "while True:\n",
    "    print(i,end=' ')\n",
    "    i=i+1\n",
    "    if i==10:\n",
    "        break"
   ]
  },
  {
   "cell_type": "code",
   "execution_count": 17,
   "id": "529d6c4e-6032-4432-8337-cbaacadb1660",
   "metadata": {},
   "outputs": [
    {
     "name": "stdout",
     "output_type": "stream",
     "text": [
      "1 2 3 4 5 6 7 8 9 ====== second case\n",
      "-1 -2 -3 -4 -5 -6 -7 -8 -9 ====== Third case\n",
      "10 9 8 7 6 5 4 3 2 ====== Fourth case\n",
      "-10 -9 -8 -7 -6 -5 -4 -3 -2 "
     ]
    }
   ],
   "source": [
    "# 1 to 10\n",
    "i=1\n",
    "while True:\n",
    "    print(i,end=' ')\n",
    "    i=i+1\n",
    "    if i==10:break\n",
    "print(\"====== second case\")\n",
    "# -1 to -10\n",
    "i=-1\n",
    "while True:\n",
    "    print(i,end=' ')\n",
    "    i=i-1\n",
    "    if i==-10:break\n",
    "\n",
    "print(\"====== Third case\")\n",
    "# 10 to 1\n",
    "i=10\n",
    "while True:\n",
    "    print(i,end=' ')\n",
    "    i=i-1\n",
    "    if i==1:break\n",
    "\n",
    "print(\"====== Fourth case\")\n",
    "# -10 to -1\n",
    "i=-10\n",
    "while True:\n",
    "    print(i,end=' ')\n",
    "    i=i+1\n",
    "    if i==-1:break"
   ]
  },
  {
   "cell_type": "code",
   "execution_count": 18,
   "id": "524f738c-3c61-4521-9818-5d1eb504a7c6",
   "metadata": {},
   "outputs": [
    {
     "name": "stdout",
     "output_type": "stream",
     "text": [
      "2 3 4 5 "
     ]
    }
   ],
   "source": [
    "i=1\n",
    "while True:\n",
    "    i=i+1\n",
    "    print(i,end=' ')\n",
    "    if i==5:\n",
    "        break\n",
    "# 1 2 3 4 "
   ]
  },
  {
   "cell_type": "code",
   "execution_count": null,
   "id": "a2e418a6-20c5-4227-a192-627e38a45fc9",
   "metadata": {},
   "outputs": [],
   "source": [
    "# Do not run: infinite loop\n",
    "i=1\n",
    "while True:\n",
    "    print(i,end=' ')\n",
    "    if i==5:\n",
    "        break"
   ]
  },
  {
   "cell_type": "code",
   "execution_count": 19,
   "id": "079daae7-3c96-4bbf-b6a9-6af07905105f",
   "metadata": {},
   "outputs": [
    {
     "name": "stdout",
     "output_type": "stream",
     "text": [
      "3 4 5 "
     ]
    }
   ],
   "source": [
    "i=1\n",
    "i=i+1\n",
    "while True:\n",
    "    i=i+1\n",
    "    print(i,end=' ')\n",
    "    if i==5:\n",
    "        break"
   ]
  },
  {
   "cell_type": "code",
   "execution_count": 20,
   "id": "33bb916c-6ca8-474a-af5b-039c5a91068b",
   "metadata": {},
   "outputs": [
    {
     "name": "stdout",
     "output_type": "stream",
     "text": [
      "The square of 81 is 6561\n",
      "The square of 19 is 361\n",
      "The square of 23 is 529\n"
     ]
    }
   ],
   "source": [
    "# WAP ask the user get three numbers randomly and print the square of the numbers\n",
    "# First do with for loop\n",
    "# Exactly replace with while loop\n",
    "import random\n",
    "for i in range(3):\n",
    "    num=random.randint(1,100)\n",
    "    print(f\"The square of {num} is {num*num}\")"
   ]
  },
  {
   "cell_type": "code",
   "execution_count": 21,
   "id": "428695eb-7642-4162-87f4-1aa710da1816",
   "metadata": {},
   "outputs": [
    {
     "name": "stdout",
     "output_type": "stream",
     "text": [
      "The square of 70 is 4900\n",
      "The square of 90 is 8100\n",
      "The square of 13 is 169\n"
     ]
    }
   ],
   "source": [
    "import random\n",
    "i=0\n",
    "while i<3:\n",
    "    num=random.randint(1,100)\n",
    "    print(f\"The square of {num} is {num*num}\")\n",
    "    i=i+1"
   ]
  },
  {
   "cell_type": "markdown",
   "id": "d540bf0f-f287-4a12-bef1-aac81c6745b7",
   "metadata": {},
   "source": [
    "**For loop and While loop**\n",
    "\n",
    "- with for loop infinte iterations not possibile\n",
    "\n",
    "- with while loop infinte iterations are possibile\n",
    "\n",
    "    - which means we can perform the loop till condition satisfies"
   ]
  },
  {
   "cell_type": "code",
   "execution_count": null,
   "id": "568384fd-0db5-4383-ba36-193aff4e6b39",
   "metadata": {},
   "outputs": [],
   "source": [
    "# ask the user enter a pwd\n",
    "# original pwd is : iam a ds\n",
    "# if the pwd==originalpwd then only you have life\n",
    "# else : pwd is incorrect\n",
    "# and ask the pwd again\n",
    "# the loop should continue till the pwd is correct\n",
    "# step-1: original_pwd='iam a ds'\n",
    "# step-2: while True\n",
    "# step-3:     user_pwd=input()\n",
    "# step-4:     if original_pwd==user_pwd:\n",
    "# step-5:          print and apply break\n",
    "# step-6:    else: print ('')"
   ]
  },
  {
   "cell_type": "code",
   "execution_count": 22,
   "id": "1704859f-7430-45f4-b3e4-154f1c07c6b5",
   "metadata": {},
   "outputs": [
    {
     "name": "stdin",
     "output_type": "stream",
     "text": [
      "enter the pwd iam a cs\n"
     ]
    },
    {
     "name": "stdout",
     "output_type": "stream",
     "text": [
      "enter the correct pwd\n"
     ]
    },
    {
     "name": "stdin",
     "output_type": "stream",
     "text": [
      "enter the pwd iam a de\n"
     ]
    },
    {
     "name": "stdout",
     "output_type": "stream",
     "text": [
      "enter the correct pwd\n"
     ]
    },
    {
     "name": "stdin",
     "output_type": "stream",
     "text": [
      "enter the pwd iam a ds\n"
     ]
    },
    {
     "name": "stdout",
     "output_type": "stream",
     "text": [
      "correct pwd\n"
     ]
    }
   ],
   "source": [
    "original_pwd='iam a ds'\n",
    "while True:\n",
    "    user_pwd=input(\"enter the pwd\")\n",
    "    if original_pwd==user_pwd:\n",
    "        print(\"correct pwd\")\n",
    "        break\n",
    "    else:\n",
    "        print(\"enter the correct pwd\")"
   ]
  },
  {
   "cell_type": "code",
   "execution_count": null,
   "id": "59823f7c-bad5-40b5-be74-7d8fc04c271b",
   "metadata": {},
   "outputs": [],
   "source": [
    "########## ALL For loop need to conver into while =============\n",
    "kindly complete all questions , we will do same replica in While loop\n",
    "#1Q) For example\n",
    "# take a random number between  1 to 100\n",
    "# print it is a even number and odd number\n",
    "# you need to generate 3 random number\n",
    "\n",
    "#2Q) wap ask the user print the number is even or odd between 10 to 20\n",
    "\n",
    "#3Q) wap ask the user print the square of the number between\n",
    "# 20 to 25\n",
    "\n",
    "#4Q) WAP ask the user enter number three times find the square of the number\n",
    "# How many times loop should run\n",
    "\n",
    "\n",
    "#5Q) Print the 14th table\n",
    "# ans:   14 x 1 = 14\n",
    "#        14 x 2 = 28\n",
    "#        14 x 3 = 42\n",
    "#\n",
    "#\n",
    "#        14 x10 = 140\n",
    "# How many times 10\n",
    "\n",
    "\n",
    "#6 Q) Find the factors of 75\n",
    "# step-1: Iterate the loop = which numbers factor you want\n",
    "# step-2: Apply the if condition\n",
    "#         cond= divide the number with each i\n",
    "\n",
    "\n",
    "#7Q) Write the sum of first 10 Natural numbers\n",
    "# 1 to 10\n",
    "# 1+2+3+4+5+6+7+8+9+10=55\n",
    "\n",
    "\n",
    "# 8Q) Average first 1 to 10 numbers\n",
    "# avg= summation of all the numbers/total number\n",
    "#Wap to find the average of ' N ' numbers in Python.\n",
    "\n",
    "\n",
    "#9Q) Find the number of divisors of 75\n",
    "# ans: 1,3,5,15,25,75\n",
    "# Number =6\n",
    "\n",
    "\n",
    "\n",
    "# 10Q)\n",
    "# Get a random number between  1 to 10 :  num1\n",
    "# Ask the user enter a number : num2\n",
    "# if num1 == num2  then print won\n",
    "# else print fail\n",
    "\n",
    "# Give 3 chances\n",
    "\n",
    "# Case-2: whenever you won the code should stop\n",
    "\n",
    "# Case-3:\n",
    "# Suppose i want to give 4 chances\n",
    "# Every time you fail I want to display\n",
    "#      Number of chances left\n",
    "\n",
    "# If all the chances you are used\n",
    "#    Try again after 24 hours\n",
    "\n",
    "# If you are win\n",
    "\n",
    "\n",
    "\n",
    "\n",
    "11q)# wap ask the user get 5 random numbers\n",
    "# Get it is an even number or odd number\n",
    "# also count how many even numbers are there\n",
    "# and  count how many odd numbers are there\n",
    "\n",
    "# Idea\n",
    "# take two counters one even and odd count\n",
    "# For loop 5 times\n",
    "# each time take the random number\n",
    "# If condition\n",
    "#    True counter update\n",
    "# else\n",
    "#   Update the counter\n",
    "\n",
    "\n",
    "12Q) # wap ask the user get 5 random numbers\n",
    "# Get it is an even number or odd number\n",
    "# also count how many even numbers are there\n",
    "# and  count how many odd numbers are there\n",
    "# I want summ even numbers\n",
    "# I want summ odd numbers"
   ]
  }
 ],
 "metadata": {
  "kernelspec": {
   "display_name": "Python 3 (ipykernel)",
   "language": "python",
   "name": "python3"
  },
  "language_info": {
   "codemirror_mode": {
    "name": "ipython",
    "version": 3
   },
   "file_extension": ".py",
   "mimetype": "text/x-python",
   "name": "python",
   "nbconvert_exporter": "python",
   "pygments_lexer": "ipython3",
   "version": "3.11.7"
  }
 },
 "nbformat": 4,
 "nbformat_minor": 5
}
