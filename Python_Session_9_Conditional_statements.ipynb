{
 "cells": [
  {
   "cell_type": "markdown",
   "id": "e7fc3ce6-2b1a-4253-b97a-5edfc991ab7a",
   "metadata": {},
   "source": [
    "**Conditional statements**\n",
    "\n",
    "- We want to execute python statements based on conditions\n",
    "\n",
    "- For eaxmple:\n",
    "\n",
    "    - I want to play cricket, If there is No rain\n",
    "\n",
    "    - I want to eat icecream, If there is a Rain\n",
    "\n",
    "- if \n",
    "\n",
    "- if - else\n",
    "\n",
    "- if-elif-else"
   ]
  },
  {
   "cell_type": "markdown",
   "id": "87f34140-7b8a-47b7-8568-688a3ebbe0c6",
   "metadata": {},
   "source": [
    "**Case-1**\n",
    "\n",
    "$if$"
   ]
  },
  {
   "cell_type": "code",
   "execution_count": null,
   "id": "12774d62-68a6-47e7-9f43-472deb0d9436",
   "metadata": {},
   "outputs": [],
   "source": [
    "# synatx\n",
    "\n",
    "if <write some condition>:\n",
    "    <code line1>\n",
    "    <code line2>\n",
    "\n",
    "# whenever if we start any line with keyword\n",
    "# at the end of the line we have :\n",
    "# whenever we have colon\n",
    "# the next lines will start by maintaining some gap\n",
    "# that gap is called as indentation\n",
    "# keyword --- colon --- indentation\n"
   ]
  },
  {
   "cell_type": "code",
   "execution_count": 1,
   "id": "78f05910-fb6e-4f1c-9e8d-622de54bc3b3",
   "metadata": {},
   "outputs": [
    {
     "data": {
      "text/plain": [
       "True"
      ]
     },
     "execution_count": 1,
     "metadata": {},
     "output_type": "execute_result"
    }
   ],
   "source": [
    "100>10"
   ]
  },
  {
   "cell_type": "code",
   "execution_count": null,
   "id": "5b179c4b-ff22-46e8-9325-c6d2668548b4",
   "metadata": {},
   "outputs": [],
   "source": [
    "if 100>10:\n",
    "    print('the answer is correct')\n",
    "\n",
    "# step-1:  Condition 100>10:  True    if   True\n",
    "# step-2: It is entering inside \n",
    "#              inside print statement is therv : 'the answer is correct'"
   ]
  },
  {
   "cell_type": "code",
   "execution_count": 2,
   "id": "a72d4de7-69d2-4ab9-9cf9-bf1a3e6b8d37",
   "metadata": {},
   "outputs": [],
   "source": [
    "if 100<10:\n",
    "    print('the answer is correct')\n",
    "# Step-1: Condition 100<10 : False   if  False\n",
    "# Step-2: The condition is false , the compiler will not enter inside the if block\n",
    "# No error - No asnwer"
   ]
  },
  {
   "cell_type": "markdown",
   "id": "4bcb2048-8092-4b7e-a011-a512c5ff5b44",
   "metadata": {},
   "source": [
    "$mistake-1$"
   ]
  },
  {
   "cell_type": "markdown",
   "id": "dec14308-8201-44b2-998e-ed35228e99a8",
   "metadata": {},
   "source": [
    "- indentation error\n",
    "\n",
    "- after :  we are not providing any space"
   ]
  },
  {
   "cell_type": "code",
   "execution_count": 3,
   "id": "95ca76a8-12eb-4382-ba55-3b537b4b67da",
   "metadata": {},
   "outputs": [
    {
     "ename": "IndentationError",
     "evalue": "expected an indented block after 'if' statement on line 1 (3704969398.py, line 2)",
     "output_type": "error",
     "traceback": [
      "\u001b[1;36m  Cell \u001b[1;32mIn[3], line 2\u001b[1;36m\u001b[0m\n\u001b[1;33m    print('hello')\u001b[0m\n\u001b[1;37m    ^\u001b[0m\n\u001b[1;31mIndentationError\u001b[0m\u001b[1;31m:\u001b[0m expected an indented block after 'if' statement on line 1\n"
     ]
    }
   ],
   "source": [
    "if 100>10:\n",
    "print('hello')"
   ]
  },
  {
   "cell_type": "markdown",
   "id": "af97bdb1-b0eb-4669-b7ad-bc974cf4129f",
   "metadata": {},
   "source": [
    "- what is the input number cell number :  Cell In[3]\n",
    "\n",
    "- what is the line  :  line 2\n",
    "\n",
    "- where is the error :  starting upcap "
   ]
  },
  {
   "cell_type": "code",
   "execution_count": 10,
   "id": "10af4975-d2b1-402e-a591-a46747ec9888",
   "metadata": {},
   "outputs": [
    {
     "name": "stdout",
     "output_type": "stream",
     "text": [
      "hello\n"
     ]
    }
   ],
   "source": [
    "if 100>10:\n",
    "    print('hello')"
   ]
  },
  {
   "cell_type": "code",
   "execution_count": null,
   "id": "3310d14a-2853-42f7-a243-ea60c6c4f324",
   "metadata": {},
   "outputs": [],
   "source": [
    "sir why it is only printing hello?\n",
    "whats the use of if 100>10?\n",
    "\n",
    "sultana: you want to play cricket\n",
    "         condition: if<sultana can play cricket>\n",
    "\n",
    "i want to print hello when 100>10 only\n",
    "if 100>10:\n",
    "    print('hello')\n",
    "\n",
    "i want to a addition program when 100>10\n",
    "a=10\n",
    "b=20\n",
    "c=a+b\n",
    "print(c)"
   ]
  },
  {
   "cell_type": "code",
   "execution_count": 11,
   "id": "dab87bda-cee2-4727-addb-61751f7599a6",
   "metadata": {},
   "outputs": [
    {
     "name": "stdout",
     "output_type": "stream",
     "text": [
      "The addition of 10 and 20 is:30\n"
     ]
    }
   ],
   "source": [
    "a=10\n",
    "b=20\n",
    "c=a+b\n",
    "print(f\"The addition of {a} and {b} is:{c}\")"
   ]
  },
  {
   "cell_type": "code",
   "execution_count": 13,
   "id": "428d1215-3cf7-48b8-9b27-79c395484060",
   "metadata": {},
   "outputs": [
    {
     "name": "stdout",
     "output_type": "stream",
     "text": [
      "The addition of 10 and 20 is:30\n"
     ]
    }
   ],
   "source": [
    "if 100>10:\n",
    "    a=10\n",
    "    b=20\n",
    "    c=a+b\n",
    "    print(f\"The addition of {a} and {b} is:{c}\")"
   ]
  },
  {
   "cell_type": "code",
   "execution_count": 14,
   "id": "32690414-e83d-49c3-856c-c69f773f0ec1",
   "metadata": {},
   "outputs": [
    {
     "name": "stdin",
     "output_type": "stream",
     "text": [
      "enter breadth: 20\n",
      "enter height 30\n"
     ]
    },
    {
     "name": "stdout",
     "output_type": "stream",
     "text": [
      "The area of traingle is :300.0\n"
     ]
    }
   ],
   "source": [
    "# Area of traingle \n",
    "# 0.5*breadth*height\n",
    "\n",
    "breadth=eval(input('enter breadth:'))\n",
    "height=eval(input(\"enter height\"))\n",
    "area=0.5*breadth*height\n",
    "print(f\"The area of traingle is :{area}\")"
   ]
  },
  {
   "cell_type": "code",
   "execution_count": 15,
   "id": "2f373c1a-dbc3-4045-8a61-08da68874895",
   "metadata": {},
   "outputs": [],
   "source": [
    "if 2>10: \n",
    "    a=10\n",
    "    b=20\n",
    "    c=a+b\n",
    "    print(f\"the addition value is {c}\")"
   ]
  },
  {
   "cell_type": "code",
   "execution_count": 16,
   "id": "58a135ae-9ff4-4b48-850e-f6c97879ef13",
   "metadata": {},
   "outputs": [
    {
     "name": "stdout",
     "output_type": "stream",
     "text": [
      "sandeep\n",
      "prajwal\n"
     ]
    }
   ],
   "source": [
    "print('sandeep')\n",
    "print('prajwal')\n",
    "if 100<10:\n",
    "    print('sultana')\n",
    "\n",
    "# Think like computer\n",
    "# step-1: sandeep\n",
    "# step-2: prajwal\n",
    "# step-3: 100<10:  False code will stop "
   ]
  },
  {
   "cell_type": "code",
   "execution_count": null,
   "id": "b2f227e9-06ed-43de-a98d-587a8c1159f1",
   "metadata": {},
   "outputs": [],
   "source": [
    "print('sandeep')\n",
    "print('prajwal')\n",
    "if 100>10:\n",
    "    print('sultana')\n",
    "    print('raj')\n",
    "# step-1: sandeep\n",
    "# step-2: prajwal\n",
    "# step-3: 100>10   True ===== > inside the block\n",
    "# step-4: sultana\n",
    "# step-5: raj"
   ]
  },
  {
   "cell_type": "code",
   "execution_count": 17,
   "id": "06ac6313-3532-4440-a24e-aca81da38bb9",
   "metadata": {},
   "outputs": [
    {
     "name": "stdout",
     "output_type": "stream",
     "text": [
      "sandeep\n",
      "prajwal\n",
      "hello\n",
      "sultana\n",
      "raj\n",
      "bye\n",
      "katam zindagi\n"
     ]
    }
   ],
   "source": [
    "print('sandeep')\n",
    "print('prajwal')\n",
    "print('hello')\n",
    "###################################\n",
    "if 100>10:\n",
    "    print('sultana')\n",
    "    print('raj')\n",
    "###################################\n",
    "print('bye')\n",
    "print('katam zindagi')"
   ]
  },
  {
   "cell_type": "code",
   "execution_count": 18,
   "id": "fb013ca0-6d07-4329-9cfc-7240327de408",
   "metadata": {},
   "outputs": [
    {
     "name": "stdout",
     "output_type": "stream",
     "text": [
      "sandeep\n",
      "prajwal\n",
      "hello\n",
      "bye\n",
      "katam zindagi\n"
     ]
    }
   ],
   "source": [
    "print('sandeep')\n",
    "print('prajwal')\n",
    "print('hello')\n",
    "###################################\n",
    "if 100<10:\n",
    "    print('sultana')\n",
    "    print('raj')\n",
    "###################################\n",
    "print('bye')\n",
    "print('katam zindagi')"
   ]
  },
  {
   "cell_type": "code",
   "execution_count": 21,
   "id": "e207ffec-b163-47b4-ac78-5507b181f59c",
   "metadata": {},
   "outputs": [
    {
     "name": "stdout",
     "output_type": "stream",
     "text": [
      "sandeep\n",
      "prajwal\n",
      "hello\n",
      "sultana\n",
      "raj\n",
      "bye\n",
      "katam zindagi\n"
     ]
    }
   ],
   "source": [
    "print('sandeep')\n",
    "print('prajwal')\n",
    "print('hello')\n",
    "###################################\n",
    "if 100>10:\n",
    "    print('sultana')\n",
    "    print('raj')\n",
    "###################################\n",
    "print('bye')\n",
    "print('katam zindagi')"
   ]
  },
  {
   "cell_type": "code",
   "execution_count": 24,
   "id": "33cd5caf-39f0-4eca-99e1-e3f954672005",
   "metadata": {},
   "outputs": [
    {
     "ename": "NameError",
     "evalue": "name 'area1' is not defined",
     "output_type": "error",
     "traceback": [
      "\u001b[1;31m---------------------------------------------------------------------------\u001b[0m",
      "\u001b[1;31mNameError\u001b[0m                                 Traceback (most recent call last)",
      "Cell \u001b[1;32mIn[24], line 6\u001b[0m\n\u001b[0;32m      3\u001b[0m     height\u001b[38;5;241m=\u001b[39m\u001b[38;5;28meval\u001b[39m(\u001b[38;5;28minput\u001b[39m(\u001b[38;5;124m\"\u001b[39m\u001b[38;5;124menter height\u001b[39m\u001b[38;5;124m\"\u001b[39m))\n\u001b[0;32m      4\u001b[0m     area1\u001b[38;5;241m=\u001b[39m\u001b[38;5;241m0.5\u001b[39m\u001b[38;5;241m*\u001b[39mbreadth\u001b[38;5;241m*\u001b[39mheight\n\u001b[1;32m----> 6\u001b[0m \u001b[38;5;28mprint\u001b[39m(\u001b[38;5;124mf\u001b[39m\u001b[38;5;124m\"\u001b[39m\u001b[38;5;124mThe area of traingle is :\u001b[39m\u001b[38;5;132;01m{\u001b[39;00marea1\u001b[38;5;132;01m}\u001b[39;00m\u001b[38;5;124m\"\u001b[39m)\n",
      "\u001b[1;31mNameError\u001b[0m: name 'area1' is not defined"
     ]
    }
   ],
   "source": [
    "if 100<10:\n",
    "    breadth=eval(input('enter breadth:'))\n",
    "    height=eval(input(\"enter height\"))\n",
    "    area1=0.5*breadth*height\n",
    "    \n",
    "print(f\"The area of traingle is :{area1}\")"
   ]
  },
  {
   "cell_type": "markdown",
   "id": "1c8ea9c4-44b4-4de6-b8e5-9b3b6d6dc136",
   "metadata": {},
   "source": [
    "$mistake-2$"
   ]
  },
  {
   "cell_type": "code",
   "execution_count": 30,
   "id": "a9808835-0c67-44b9-92d3-3a4dea6a8ca1",
   "metadata": {},
   "outputs": [
    {
     "ename": "SyntaxError",
     "evalue": "expected ':' (3378397743.py, line 1)",
     "output_type": "error",
     "traceback": [
      "\u001b[1;36m  Cell \u001b[1;32mIn[30], line 1\u001b[1;36m\u001b[0m\n\u001b[1;33m    if 100<10\u001b[0m\n\u001b[1;37m             ^\u001b[0m\n\u001b[1;31mSyntaxError\u001b[0m\u001b[1;31m:\u001b[0m expected ':'\n"
     ]
    }
   ],
   "source": [
    "if 100<10"
   ]
  },
  {
   "cell_type": "markdown",
   "id": "d4d30623-6430-49ef-94ae-e66918bdddbe",
   "metadata": {},
   "source": [
    "$mistake-3$"
   ]
  },
  {
   "cell_type": "code",
   "execution_count": 31,
   "id": "c39244ac-5ff1-4fa8-9195-5e5b97547ea8",
   "metadata": {},
   "outputs": [
    {
     "ename": "SyntaxError",
     "evalue": "invalid syntax (792086214.py, line 1)",
     "output_type": "error",
     "traceback": [
      "\u001b[1;36m  Cell \u001b[1;32mIn[31], line 1\u001b[1;36m\u001b[0m\n\u001b[1;33m    if:\u001b[0m\n\u001b[1;37m      ^\u001b[0m\n\u001b[1;31mSyntaxError\u001b[0m\u001b[1;31m:\u001b[0m invalid syntax\n"
     ]
    }
   ],
   "source": [
    "if:\n",
    "  print('hello')"
   ]
  },
  {
   "cell_type": "code",
   "execution_count": 26,
   "id": "9d992f87-862d-4112-827f-f84215af1e81",
   "metadata": {},
   "outputs": [
    {
     "name": "stdout",
     "output_type": "stream",
     "text": [
      "sandeep1\n",
      "rashid\n",
      "naresh\n",
      "raj\n",
      "aparna\n"
     ]
    }
   ],
   "source": [
    "print('sandeep1')\n",
    "print('rashid')\n",
    "print('naresh')\n",
    "if 1>10:    \n",
    "    print('sandeep2') \n",
    "print('raj')\n",
    "print('aparna')\n",
    "#sandeep1\n",
    "# rashid\n",
    "# naresh\n",
    "# if "
   ]
  },
  {
   "cell_type": "markdown",
   "id": "ecb791df-f4ba-4db8-9523-5ef3148003b3",
   "metadata": {},
   "source": [
    "**if-else**"
   ]
  },
  {
   "cell_type": "code",
   "execution_count": null,
   "id": "981a78d4-b5a4-47e1-97f5-0a9955476c95",
   "metadata": {},
   "outputs": [],
   "source": [
    "# syntax\n",
    "\n",
    "#if <write your condition here>:\n",
    "#     <line1>\n",
    "#else:\n",
    "#    <lines>"
   ]
  },
  {
   "cell_type": "code",
   "execution_count": 32,
   "id": "9def24ff-5d7a-4bd1-92fd-0c40e1be4430",
   "metadata": {},
   "outputs": [
    {
     "name": "stdout",
     "output_type": "stream",
     "text": [
      "your condition is correct\n",
      "You are in\n"
     ]
    }
   ],
   "source": [
    "if 100>10:\n",
    "    print(\"your condition is correct\")\n",
    "    print('You are in')\n",
    "else:\n",
    "    print(\"your condition is wrong\")\n",
    "    print(\"you are out\")\n",
    "\n",
    "# step-1:  if   100>10   if  True\n",
    "# step-2:  your condition is correct\n",
    "# step-3: You are in"
   ]
  },
  {
   "cell_type": "code",
   "execution_count": 33,
   "id": "ae6d69d5-bddb-4cb8-b011-4ce65ac6ec5c",
   "metadata": {},
   "outputs": [
    {
     "name": "stdout",
     "output_type": "stream",
     "text": [
      "your condition is wrong\n",
      "you are out\n"
     ]
    }
   ],
   "source": [
    "if 100<10:\n",
    "    print(\"your condition is correct\")\n",
    "    print('You are in')\n",
    "else:\n",
    "    print(\"your condition is wrong\")\n",
    "    print(\"you are out\")\n",
    "\n",
    "# step-1:  if  100<10  False === not enter inside \n",
    "# step-2:  else block\n",
    "# step-3:  your condition is wrong\n",
    "# step-4:   you are out"
   ]
  },
  {
   "cell_type": "code",
   "execution_count": 34,
   "id": "6e72188b-fc3f-4231-a2d9-cccc17a1f307",
   "metadata": {},
   "outputs": [
    {
     "name": "stdout",
     "output_type": "stream",
     "text": [
      "Hello\n",
      "your condition is wrong\n",
      "you are out\n",
      "bye\n"
     ]
    }
   ],
   "source": [
    "print(\"Hello\")\n",
    "if 100<10:\n",
    "    print(\"your condition is correct\")\n",
    "    print('You are in')\n",
    "else:\n",
    "    print(\"your condition is wrong\")\n",
    "    print(\"you are out\")\n",
    "print(\"bye\")"
   ]
  },
  {
   "cell_type": "code",
   "execution_count": 35,
   "id": "ef1559a2-39b6-49bf-a4a2-ca099594a25d",
   "metadata": {},
   "outputs": [
    {
     "name": "stdout",
     "output_type": "stream",
     "text": [
      "Hello\n",
      "1\n",
      "your condition is correct\n",
      "You are in\n",
      "bye\n",
      "2\n"
     ]
    }
   ],
   "source": [
    "print(\"Hello\")\n",
    "print(1)\n",
    "if 100>10:\n",
    "    print(\"your condition is correct\")\n",
    "    print('You are in')\n",
    "else:\n",
    "    print(\"your condition is wrong\")\n",
    "    print(\"you are out\")\n",
    "print(\"bye\")\n",
    "print(2)"
   ]
  },
  {
   "cell_type": "code",
   "execution_count": 38,
   "id": "87c54d8c-501b-4ae3-89d4-dcaee81a3fb3",
   "metadata": {},
   "outputs": [
    {
     "ename": "SyntaxError",
     "evalue": "invalid syntax (3070260114.py, line 6)",
     "output_type": "error",
     "traceback": [
      "\u001b[1;36m  Cell \u001b[1;32mIn[38], line 6\u001b[1;36m\u001b[0m\n\u001b[1;33m    else:\u001b[0m\n\u001b[1;37m    ^\u001b[0m\n\u001b[1;31mSyntaxError\u001b[0m\u001b[1;31m:\u001b[0m invalid syntax\n"
     ]
    }
   ],
   "source": [
    "print(\"Hello\")\n",
    "if 100<10:\n",
    "    print(\"your condition is correct\")\n",
    "    print('You are in')\n",
    "print(\"why you are in middile\")\n",
    "else:\n",
    "    print(\"your condition is wrong\")\n",
    "    print(\"you are out\")\n",
    "print(\"bye\")"
   ]
  },
  {
   "cell_type": "code",
   "execution_count": 5,
   "id": "64be1bd5-af10-4976-b9a2-fcbc9baeb0ae",
   "metadata": {},
   "outputs": [
    {
     "name": "stdout",
     "output_type": "stream",
     "text": [
      "Thank you!\n"
     ]
    }
   ],
   "source": [
    "if 100<10:\n",
    "    print('Okay')\n",
    "\n",
    "print(\"Thank you!\")"
   ]
  },
  {
   "cell_type": "code",
   "execution_count": 3,
   "id": "95fb6feb-6c22-40e2-b1f7-4ecc0f9b627e",
   "metadata": {},
   "outputs": [
    {
     "name": "stdout",
     "output_type": "stream",
     "text": [
      "not okay\n"
     ]
    }
   ],
   "source": [
    "if 100<10:\n",
    "    print('okay')\n",
    "else:\n",
    "    print('not okay')"
   ]
  },
  {
   "cell_type": "code",
   "execution_count": 4,
   "id": "6c3bd475-c493-4f58-a367-2e5b7efe1846",
   "metadata": {},
   "outputs": [
    {
     "ename": "SyntaxError",
     "evalue": "invalid syntax (2165300050.py, line 4)",
     "output_type": "error",
     "traceback": [
      "\u001b[1;36m  Cell \u001b[1;32mIn[4], line 4\u001b[1;36m\u001b[0m\n\u001b[1;33m    else:\u001b[0m\n\u001b[1;37m    ^\u001b[0m\n\u001b[1;31mSyntaxError\u001b[0m\u001b[1;31m:\u001b[0m invalid syntax\n"
     ]
    }
   ],
   "source": [
    "if 100>10:\n",
    "    print('okay')\n",
    "print(\"why you are here?\")\n",
    "else:\n",
    "    print('not okay')"
   ]
  },
  {
   "cell_type": "code",
   "execution_count": 6,
   "id": "8c758972-e1e9-4887-b043-aaf8f74d6587",
   "metadata": {},
   "outputs": [
    {
     "ename": "SyntaxError",
     "evalue": "expected ':' (2293335773.py, line 1)",
     "output_type": "error",
     "traceback": [
      "\u001b[1;36m  Cell \u001b[1;32mIn[6], line 1\u001b[1;36m\u001b[0m\n\u001b[1;33m    if 100>10\u001b[0m\n\u001b[1;37m             ^\u001b[0m\n\u001b[1;31mSyntaxError\u001b[0m\u001b[1;31m:\u001b[0m expected ':'\n"
     ]
    }
   ],
   "source": [
    "if 100>10"
   ]
  },
  {
   "cell_type": "code",
   "execution_count": null,
   "id": "8bc72413-dd8d-426b-91e2-1bd46dcdac6b",
   "metadata": {},
   "outputs": [],
   "source": [
    "#WAP ask the user enter two numbers\n",
    "# print the greatest number\n",
    "\n",
    "# Idea\n",
    "# step-1: Take the number1 = eval\n",
    "# step-2: Take the number2= eval \n",
    "# step-3: if <cond>:\n",
    "# step-4     print()\n",
    "# step-5: else:\n",
    "# step-6:    print()"
   ]
  },
  {
   "cell_type": "code",
   "execution_count": 7,
   "id": "adb7a451-1fb2-4d5d-861d-f60bfb79528a",
   "metadata": {},
   "outputs": [
    {
     "name": "stdin",
     "output_type": "stream",
     "text": [
      "enter the number1: 40\n",
      "enter the number2: 50\n"
     ]
    },
    {
     "name": "stdout",
     "output_type": "stream",
     "text": [
      "the greatest number is: 50\n"
     ]
    }
   ],
   "source": [
    "n1=eval(input(\"enter the number1:\"))\n",
    "n2=eval(input(\"enter the number2:\"))\n",
    "if n1>n2:\n",
    "    print(f\"the greatest number is: {n1}\")\n",
    "else:\n",
    "    print(f\"the greatest number is: {n2}\")"
   ]
  },
  {
   "cell_type": "code",
   "execution_count": null,
   "id": "54403567-7e9e-4d8d-9731-6c7204064ce0",
   "metadata": {},
   "outputs": [],
   "source": [
    "# WAP ask the user enter the distance\n",
    "# if the distance > 25, then ask the user enter the charge \n",
    "# and print the total charge\n",
    "# otherwise (distance<25) print free ride\n",
    "# Idea:\n",
    "# Step-1: distance=eval()\n",
    "# Step-2: if <cond>:\n",
    "# step-3:    charge=eval()\n",
    "# step-4:    total charge= dist*charge\n",
    "# step-5: else:\n",
    "# step-6:  print free ride\n"
   ]
  },
  {
   "cell_type": "code",
   "execution_count": 11,
   "id": "7dbea2c0-6c53-4526-b46d-3a2beed33585",
   "metadata": {},
   "outputs": [
    {
     "name": "stdin",
     "output_type": "stream",
     "text": [
      "enter the distance: 25\n"
     ]
    },
    {
     "name": "stdout",
     "output_type": "stream",
     "text": [
      "Enjoy the free ride\n"
     ]
    }
   ],
   "source": [
    "distance=eval(input(\"enter the distance:\"))\n",
    "if distance>=25:\n",
    "    charge=eval(input(\"enter the charge:\"))\n",
    "    total_charge=distance*charge\n",
    "    print(\"Total charge is:\",total_charge)\n",
    "else:\n",
    "    print(\"Enjoy the free ride\")"
   ]
  },
  {
   "cell_type": "code",
   "execution_count": 18,
   "id": "19ea7180-8e9e-442e-8d45-9905eba2ec1d",
   "metadata": {},
   "outputs": [
    {
     "name": "stdin",
     "output_type": "stream",
     "text": [
      "enter the distance: 100\n",
      "enter the charge: 5\n"
     ]
    },
    {
     "name": "stdout",
     "output_type": "stream",
     "text": [
      "Total charge is: 500\n"
     ]
    }
   ],
   "source": [
    "distance=eval(input(\"enter the distance:\"))\n",
    "if distance<25:\n",
    "    print(\"Free ride\")\n",
    "    \n",
    "else:\n",
    "    charge=eval(input(\"enter the charge:\"))\n",
    "    total_charge=distance*charge\n",
    "    print(\"Total charge is:\",total_charge)"
   ]
  },
  {
   "cell_type": "code",
   "execution_count": null,
   "id": "535f3c42-a415-4c7d-8451-8f0de0db61c9",
   "metadata": {},
   "outputs": [],
   "source": [
    "#Q3)till 25 free ride\n",
    "#after 25 km\n",
    "#you need to take those upper value\n",
    "#100km \n",
    "#100-25=75km \n",
    "\n",
    "#Idea\n",
    "# Step-1: calcuate the distance you want to travel\n",
    "#         tarvel_distance= eval()\n",
    "# Step-2: free_distance=25km\n",
    "# Step-3: if travel_distance>free_distance:\n",
    "#          amount_distance= travel_distance-free_distance\n",
    "#          charge=\n",
    "#          total charge\n",
    "# step-4: else:\n",
    "#           free ride"
   ]
  },
  {
   "cell_type": "code",
   "execution_count": 19,
   "id": "c21ff9e3-63eb-494d-8797-bb6a16ee4e46",
   "metadata": {},
   "outputs": [
    {
     "name": "stdin",
     "output_type": "stream",
     "text": [
      "enter the distance you want travel: 100\n",
      "Enter the distance which govt is giving free: 25\n",
      "enter the charge: 10\n"
     ]
    },
    {
     "name": "stdout",
     "output_type": "stream",
     "text": [
      "Total charge is: 750\n"
     ]
    }
   ],
   "source": [
    "travel_distance=eval(input(\"enter the distance you want travel:\"))\n",
    "free_distance=eval(input(\"Enter the distance which govt is giving free:\"))\n",
    "if travel_distance>free_distance:\n",
    "    amount_distance=travel_distance-free_distance\n",
    "    charge=eval(input(\"enter the charge:\"))\n",
    "    total_charge=amount_distance*charge\n",
    "    print(\"Total charge is:\",total_charge)\n",
    "\n",
    "else:\n",
    "    print(\"Enjoy free ride\")"
   ]
  },
  {
   "cell_type": "code",
   "execution_count": null,
   "id": "df0ab843-786b-4a92-8031-b79436f26950",
   "metadata": {},
   "outputs": [],
   "source": [
    "# Daughter: hey Mom\n",
    "# Mom:  Hi beta\n",
    "# D: Mom do you know govt has given free ride for us\n",
    "# Mom: Achaa great\n",
    "# D: then we will go to grandmother house\n",
    "# Cond: show me your id card\n",
    "# Mom: No we dont have ide card, my dau has\n",
    "# Cond: For you we will take money, for your datuget is free ride\n",
    "# Mom: how much charge\n",
    "# Cond: how much distance youwant travel\n",
    "# distance= eval(input(\"Mom says:\"))\n",
    "# if distance>25:\n",
    "#      charge= eval(input('conductor says cahrge'))\n",
    "#      toatl charge\n",
    "# else: \n",
    "#     print(Free ride)"
   ]
  },
  {
   "cell_type": "code",
   "execution_count": 22,
   "id": "c149a6b2-390f-4335-97a4-2fdfdd5444b3",
   "metadata": {},
   "outputs": [
    {
     "name": "stdout",
     "output_type": "stream",
     "text": [
      "Daughter: Hey mom\n",
      "Mom: Hi beta\n",
      "Daughter: Mom do you know govt has given free ride for us\n",
      "Mom: Acha great\n",
      "Daughter: Then we will go to Grandmother house\n",
      "Cond: Show me your id card\n",
      "Mom: No we dont have id card, my daughter has\n",
      "Cond: For you we will take money, for your daughter is free ride\n",
      "Mom: How much charge\n",
      "Cond: How much distance you want to travel\n"
     ]
    },
    {
     "name": "stdin",
     "output_type": "stream",
     "text": [
      "Mom: Distance I want to Travel:  40\n",
      "Cond: Charge is:  5\n"
     ]
    },
    {
     "name": "stdout",
     "output_type": "stream",
     "text": [
      "Cond: Total charge you have to pay is: 200\n"
     ]
    }
   ],
   "source": [
    "import time\n",
    "print(\"Daughter: Hey mom\")\n",
    "time.sleep(2)\n",
    "print('Mom: Hi beta')\n",
    "time.sleep(2)\n",
    "print('Daughter: Mom do you know govt has given free ride for us')\n",
    "time.sleep(2)\n",
    "print('Mom: Acha great')\n",
    "time.sleep(2)\n",
    "print('Daughter: Then we will go to Grandmother house')\n",
    "time.sleep(2)\n",
    "print('Cond: Show me your id card')\n",
    "time.sleep(2)\n",
    "print('Mom: No we dont have id card, my daughter has')\n",
    "time.sleep(2)\n",
    "print('Cond: For you we will take money, for your daughter is free ride')\n",
    "time.sleep(2)\n",
    "print('Mom: How much charge')\n",
    "time.sleep(2)\n",
    "print('Cond: How much distance you want to travel')\n",
    "time.sleep(2)\n",
    "distance=eval(input('Mom: Distance I want to Travel: '))\n",
    "if distance>25:\n",
    "    charge=eval(input('Cond: Charge is: '))\n",
    "    total_charge=distance*charge\n",
    "    print(f'Cond: Total charge you have to pay is: {total_charge}')\n",
    "else:\n",
    "    print('You are eligible for free ride')"
   ]
  },
  {
   "cell_type": "code",
   "execution_count": null,
   "id": "f6af9fe7-3d6b-4006-9f5f-7dea9a8eef07",
   "metadata": {},
   "outputs": [],
   "source": [
    "# eval is using\n",
    "# why not float\n",
    "\n",
    "# is eval takes the user input: No\n",
    "#       input will take the user value from the keyboard\n",
    "\n",
    "# you are giving the direct numerical values to the eval\n",
    "#       eval is math family\n",
    "#       direct numbers means already same family\n",
    "#       No need to provide direct values\n",
    "\n",
    "# You are giving english inside the eval\n",
    "#       eval is math family\n",
    "#       english letters english family\n",
    "#       should not provide"
   ]
  },
  {
   "cell_type": "code",
   "execution_count": 1,
   "id": "cee946e6-1f73-4369-8030-b5879188f0f7",
   "metadata": {},
   "outputs": [
    {
     "data": {
      "text/plain": [
       "(1.5, 1.0)"
      ]
     },
     "execution_count": 1,
     "metadata": {},
     "output_type": "execute_result"
    }
   ],
   "source": [
    "float('1.5'),float('1')"
   ]
  },
  {
   "cell_type": "code",
   "execution_count": 2,
   "id": "8787dddc-2fa9-480f-ab19-fbac9bd40d25",
   "metadata": {},
   "outputs": [
    {
     "data": {
      "text/plain": [
       "1"
      ]
     },
     "execution_count": 2,
     "metadata": {},
     "output_type": "execute_result"
    }
   ],
   "source": [
    "int('1')"
   ]
  },
  {
   "cell_type": "code",
   "execution_count": 3,
   "id": "c46cd720-1b1e-4dad-bd31-d80e8a5182f7",
   "metadata": {},
   "outputs": [
    {
     "data": {
      "text/plain": [
       "(1.5, 1)"
      ]
     },
     "execution_count": 3,
     "metadata": {},
     "output_type": "execute_result"
    }
   ],
   "source": [
    "eval('1.5'),eval('1')"
   ]
  },
  {
   "cell_type": "code",
   "execution_count": 4,
   "id": "7d881458-56d8-400e-bdba-5f8266c90756",
   "metadata": {},
   "outputs": [
    {
     "data": {
      "text/plain": [
       "(1.5, 1.0)"
      ]
     },
     "execution_count": 4,
     "metadata": {},
     "output_type": "execute_result"
    }
   ],
   "source": [
    "float('1.5'),float('1')"
   ]
  },
  {
   "cell_type": "code",
   "execution_count": null,
   "id": "e8db4499-f566-48ba-b1ec-6f26aa3d5eb7",
   "metadata": {},
   "outputs": [],
   "source": [
    "float('1.5'),int('1')\n",
    "eval('1.5'),eval('1')"
   ]
  },
  {
   "cell_type": "code",
   "execution_count": 5,
   "id": "df347925-d701-4f16-bd5d-f451a2dbf155",
   "metadata": {},
   "outputs": [
    {
     "name": "stdin",
     "output_type": "stream",
     "text": [
      " 1.5\n"
     ]
    },
    {
     "data": {
      "text/plain": [
       "'1.5'"
      ]
     },
     "execution_count": 5,
     "metadata": {},
     "output_type": "execute_result"
    }
   ],
   "source": [
    "input()"
   ]
  },
  {
   "cell_type": "code",
   "execution_count": null,
   "id": "1dde6d68-4cbc-4590-adc6-912c612dd95d",
   "metadata": {},
   "outputs": [],
   "source": [
    "eval('1.5')\n",
    "eval(input())"
   ]
  },
  {
   "cell_type": "code",
   "execution_count": 7,
   "id": "68879dff-35a5-45b4-a510-e719a5c8fe33",
   "metadata": {},
   "outputs": [
    {
     "data": {
      "text/plain": [
       "2"
      ]
     },
     "execution_count": 7,
     "metadata": {},
     "output_type": "execute_result"
    }
   ],
   "source": [
    "eval('2')"
   ]
  },
  {
   "cell_type": "code",
   "execution_count": 8,
   "id": "e220cdc2-b9f3-42df-8aa0-2cce5006a0e7",
   "metadata": {},
   "outputs": [
    {
     "ename": "NameError",
     "evalue": "name 'python' is not defined",
     "output_type": "error",
     "traceback": [
      "\u001b[1;31m---------------------------------------------------------------------------\u001b[0m",
      "\u001b[1;31mNameError\u001b[0m                                 Traceback (most recent call last)",
      "Cell \u001b[1;32mIn[8], line 1\u001b[0m\n\u001b[1;32m----> 1\u001b[0m \u001b[38;5;28meval\u001b[39m(\u001b[38;5;124m'\u001b[39m\u001b[38;5;124mpython\u001b[39m\u001b[38;5;124m'\u001b[39m)\n",
      "File \u001b[1;32m<string>:1\u001b[0m\n",
      "\u001b[1;31mNameError\u001b[0m: name 'python' is not defined"
     ]
    }
   ],
   "source": [
    "eval('python')"
   ]
  },
  {
   "cell_type": "code",
   "execution_count": null,
   "id": "0d6710e2-0e24-4b23-a410-a59ddc379215",
   "metadata": {},
   "outputs": [],
   "source": [
    "#WAP ask the user enter two numbers\n",
    "# print the greatest number\n",
    "\n",
    "# Idea\n",
    "# step-1: Take the number1 = eval\n",
    "# step-2: Take the number2= eval \n",
    "# step-3: if <cond>:\n",
    "# step-4     print()\n",
    "# step-5: else:\n",
    "# step-6:    print()"
   ]
  },
  {
   "cell_type": "code",
   "execution_count": null,
   "id": "701e3162-cc16-49ab-b2a4-2d8f9a6ca44d",
   "metadata": {},
   "outputs": [],
   "source": [
    "distance=eval(input(\"enter the distance:\"))\n",
    "if distance>=25:\n",
    "    charge=eval(input(\"enter the charge:\"))\n",
    "    total_charge=distance*charge\n",
    "    print(\"Total charge is:\",total_charge)\n",
    "else:\n",
    "    print(\"Enjoy the free ride\")"
   ]
  },
  {
   "cell_type": "code",
   "execution_count": null,
   "id": "3d6e9985-be44-406a-8559-b8f180e02616",
   "metadata": {},
   "outputs": [],
   "source": [
    "#Q3)till 25 free ride\n",
    "#after 25 km\n",
    "#you need to take those upper value\n",
    "#100km \n",
    "#100-25=75km \n",
    "\n",
    "#Idea\n",
    "# Step-1: calcuate the distance you want to travel\n",
    "#         tarvel_distance= eval()\n",
    "# Step-2: free_distance=25km\n",
    "# Step-3: if travel_distance>free_distance:\n",
    "#          amount_distance= travel_distance-free_distance\n",
    "#          charge=\n",
    "#          total charge\n",
    "# step-4: else:\n",
    "#           free ride"
   ]
  },
  {
   "cell_type": "code",
   "execution_count": null,
   "id": "16ed12e5-6f14-4b78-9df6-eb91d7d48575",
   "metadata": {},
   "outputs": [],
   "source": [
    "# 5)wap ask the user\n",
    "# enter course name\n",
    "# enter institute name\n",
    "# if course name equal to data sceience\n",
    "# and institute name equal to naresh it\n",
    "# then print good\n",
    "# other wise print bad\n",
    "# Idea\n",
    "# Step-1: course_name=input()\n",
    "# Step-2: inst_name= input()\n",
    "# Step-3: if course_name=='' and inst_name==''\n",
    "# Step-4:     print()\n",
    "# Step-5: else\n",
    "# Step-6:    print()"
   ]
  },
  {
   "cell_type": "code",
   "execution_count": 10,
   "id": "0c518345-f502-46fc-9fc7-1c35a1ee6d80",
   "metadata": {},
   "outputs": [
    {
     "name": "stdin",
     "output_type": "stream",
     "text": [
      " Data science\n",
      " nareshit\n"
     ]
    },
    {
     "name": "stdout",
     "output_type": "stream",
     "text": [
      "Bad\n"
     ]
    }
   ],
   "source": [
    "c_name=input()\n",
    "i_name=input()\n",
    "# var='d'\n",
    "if c_name=='data science' and i_name=='naresh it':\n",
    "    print('Good')\n",
    "else:\n",
    "    print('Bad')"
   ]
  },
  {
   "cell_type": "code",
   "execution_count": 13,
   "id": "bcf8f7ea-72b6-43e5-b296-bfa71c729ea7",
   "metadata": {},
   "outputs": [
    {
     "name": "stdin",
     "output_type": "stream",
     "text": [
      " devops\n",
      " byjus\n"
     ]
    },
    {
     "name": "stdout",
     "output_type": "stream",
     "text": [
      "Bad\n"
     ]
    }
   ],
   "source": [
    "c_name=input()\n",
    "i_name=input()\n",
    "if c_name=='data science' or i_name=='naresh it':\n",
    "    print('Good')\n",
    "else:\n",
    "    print('Bad')"
   ]
  },
  {
   "cell_type": "code",
   "execution_count": 14,
   "id": "fcb3b28a-9fb0-48d6-ab11-cd12d011d356",
   "metadata": {},
   "outputs": [
    {
     "name": "stdin",
     "output_type": "stream",
     "text": [
      " data science\n",
      " naresh it\n"
     ]
    },
    {
     "name": "stdout",
     "output_type": "stream",
     "text": [
      "Good\n"
     ]
    }
   ],
   "source": [
    "c_name=input()\n",
    "i_name=input()\n",
    "pref_course_name='data science'\n",
    "pref_inst_name='naresh it'\n",
    "if c_name==pref_course_name and i_name==pref_inst_name:\n",
    "    print('Good')\n",
    "else:\n",
    "    print('Bad')"
   ]
  },
  {
   "cell_type": "code",
   "execution_count": null,
   "id": "2dbc5cbc-59b3-4145-94a8-702a95ac5e44",
   "metadata": {},
   "outputs": [],
   "source": [
    "name='python'\n",
    "name=='python'"
   ]
  },
  {
   "cell_type": "code",
   "execution_count": null,
   "id": "b9e4b0da-1073-4140-8e0c-4e22814a5648",
   "metadata": {},
   "outputs": [],
   "source": [
    "var='data science'\n",
    "var1='naresh it'\n",
    "course_name=input('Enter Course Name: ')\n",
    "institute_name=input('Enter Institute Name: ')\n",
    "\n",
    "if course_name==var and institute_name==var1:\n",
    "    print('Good')\n",
    "else:\n",
    "    print('Bad')"
   ]
  },
  {
   "cell_type": "code",
   "execution_count": 15,
   "id": "f08d2d57-65f1-4495-83c6-fab173e4a826",
   "metadata": {},
   "outputs": [
    {
     "name": "stdout",
     "output_type": "stream",
     "text": [
      "hello\n",
      "bye\n"
     ]
    }
   ],
   "source": [
    "print('hello')\n",
    "if 100>10:\n",
    "    print('bye')"
   ]
  },
  {
   "cell_type": "code",
   "execution_count": 16,
   "id": "2e3ae1fe-4d13-49c2-99da-3ea276747cae",
   "metadata": {},
   "outputs": [
    {
     "data": {
      "text/plain": [
       "True"
      ]
     },
     "execution_count": 16,
     "metadata": {},
     "output_type": "execute_result"
    }
   ],
   "source": [
    "100>10"
   ]
  },
  {
   "cell_type": "code",
   "execution_count": 17,
   "id": "1a60c321-797f-4943-b0cc-d0f728623e2d",
   "metadata": {},
   "outputs": [
    {
     "name": "stdout",
     "output_type": "stream",
     "text": [
      "hello\n",
      "bye\n"
     ]
    }
   ],
   "source": [
    "print('hello')\n",
    "if True:\n",
    "    print('bye')"
   ]
  },
  {
   "cell_type": "code",
   "execution_count": 18,
   "id": "3f8e3384-a73e-4d75-913f-34a043bb13f8",
   "metadata": {},
   "outputs": [
    {
     "name": "stdout",
     "output_type": "stream",
     "text": [
      "hello\n"
     ]
    }
   ],
   "source": [
    "print('hello')\n",
    "if False:\n",
    "    print('bye')"
   ]
  },
  {
   "cell_type": "code",
   "execution_count": 19,
   "id": "1627ecb6-fcb2-4c01-9927-0f6b6cd59ce0",
   "metadata": {},
   "outputs": [
    {
     "name": "stdout",
     "output_type": "stream",
     "text": [
      "hello\n",
      "bye\n",
      "2.5\n"
     ]
    },
    {
     "ename": "ZeroDivisionError",
     "evalue": "division by zero",
     "output_type": "error",
     "traceback": [
      "\u001b[1;31m---------------------------------------------------------------------------\u001b[0m",
      "\u001b[1;31mZeroDivisionError\u001b[0m                         Traceback (most recent call last)",
      "Cell \u001b[1;32mIn[19], line 5\u001b[0m\n\u001b[0;32m      3\u001b[0m \u001b[38;5;28mprint\u001b[39m(\u001b[38;5;124m'\u001b[39m\u001b[38;5;124mbye\u001b[39m\u001b[38;5;124m'\u001b[39m)\n\u001b[0;32m      4\u001b[0m \u001b[38;5;28mprint\u001b[39m(\u001b[38;5;241m5\u001b[39m\u001b[38;5;241m/\u001b[39m\u001b[38;5;241m2\u001b[39m)\n\u001b[1;32m----> 5\u001b[0m \u001b[38;5;28mprint\u001b[39m(\u001b[38;5;241m2\u001b[39m\u001b[38;5;241m/\u001b[39m\u001b[38;5;241m0\u001b[39m)\n\u001b[0;32m      6\u001b[0m \u001b[38;5;28mprint\u001b[39m(\u001b[38;5;124m'\u001b[39m\u001b[38;5;124mhai\u001b[39m\u001b[38;5;124m'\u001b[39m)\n\u001b[0;32m      7\u001b[0m \u001b[38;5;28mprint\u001b[39m(\u001b[38;5;124m'\u001b[39m\u001b[38;5;124mgood\u001b[39m\u001b[38;5;124m'\u001b[39m)\n",
      "\u001b[1;31mZeroDivisionError\u001b[0m: division by zero"
     ]
    }
   ],
   "source": [
    "print('hello')\n",
    "if True:\n",
    "    print('bye')\n",
    "    print(5/2)\n",
    "    print(0/0)\n",
    "    print('hai')\n",
    "    print('good')\n"
   ]
  },
  {
   "cell_type": "code",
   "execution_count": null,
   "id": "3f64477b-0d06-4954-9236-35a6b62d3b09",
   "metadata": {},
   "outputs": [],
   "source": [
    "5/2  # 2.5 Normal division\n",
    "5//2 # 2   floor division\n",
    "5%2  # 1   modulus \n",
    "\n",
    "Modulus takes the remainder \n",
    "Normal division gives normal divison value\n",
    "Floor division takes the round of the quotient "
   ]
  },
  {
   "cell_type": "code",
   "execution_count": null,
   "id": "4fe7903b-e61f-4876-8d2f-f2679f2d7d42",
   "metadata": {},
   "outputs": [],
   "source": [
    "# Q6)\n",
    "# Ask the user take the number from keyboard\n",
    "# print the number is even or odd\n",
    "\n",
    "# Idea: any number divide with 2 , the reminder is zero\n",
    "#       then it is an even\n",
    "# Step-1: num=eval(input())\n",
    "# Step-2: if <con>:\n",
    "# Step-3:     print()\n",
    "# Step-4: else:\n",
    "# Step-5:    print()"
   ]
  },
  {
   "cell_type": "code",
   "execution_count": 21,
   "id": "46c78ac0-ce5e-4d45-a177-2aa9a83e92ad",
   "metadata": {},
   "outputs": [
    {
     "name": "stdin",
     "output_type": "stream",
     "text": [
      "Enter the number: 33\n"
     ]
    },
    {
     "name": "stdout",
     "output_type": "stream",
     "text": [
      "33 is an odd number\n"
     ]
    }
   ],
   "source": [
    "num=eval(input(\"Enter the number:\"))\n",
    "if(num%2==0):\n",
    "    print(f'{num} is an even number')\n",
    "else:\n",
    "    print(f'{num} is an odd number')"
   ]
  },
  {
   "cell_type": "code",
   "execution_count": null,
   "id": "fb63e296-4488-4991-8949-05d3ae9d6438",
   "metadata": {},
   "outputs": [],
   "source": [
    "# Q7)\n",
    "# Ask the user get a random number between 1 to 100\n",
    "# print the number is even or odd\n",
    "\n",
    "# Idea: any number divide with 2 , the reminder is zero\n",
    "#       then it is an even\n",
    "# import random\n",
    "# Step-1: num=<ranom number>\n",
    "# Step-2: if <con>:\n",
    "# Step-3:     print()\n",
    "# Step-4: else:\n",
    "# Step-5:    print()"
   ]
  },
  {
   "cell_type": "code",
   "execution_count": 27,
   "id": "fe0824cf-04ba-43f2-8444-0367af433fda",
   "metadata": {},
   "outputs": [
    {
     "name": "stdout",
     "output_type": "stream",
     "text": [
      "54 is an even number\n"
     ]
    }
   ],
   "source": [
    "import random\n",
    "num=random.randint(1,100)\n",
    "if(num%2==0):\n",
    "    print(f'{num} is an even number')\n",
    "else:\n",
    "    print(f'{num} is an odd number')"
   ]
  },
  {
   "cell_type": "markdown",
   "id": "14f63e68-dd41-4dda-8bf9-0ddf31c0e570",
   "metadata": {},
   "source": [
    "**Concentrate how we are providing the numbers**\n",
    "\n",
    "- we can provide hard code: **direct value**\n",
    "\n",
    "- we can provide from keyboard: **input**\n",
    "\n",
    "- we can provide randomly : **using random package**"
   ]
  },
  {
   "cell_type": "code",
   "execution_count": null,
   "id": "bef6249b-141f-4db6-9a17-bc679b297784",
   "metadata": {},
   "outputs": [],
   "source": [
    "num=10\n",
    "if(num%2==0):\n",
    "    print(f'{num} is an even number')\n",
    "else:\n",
    "    print(f'{num} is an odd number')\n",
    "\n",
    "num=eval(input(\"Enter the number:\"))\n",
    "if(num%2==0):\n",
    "    print(f'{num} is an even number')\n",
    "else:\n",
    "    print(f'{num} is an odd number')\n",
    "\n",
    "import random\n",
    "num=random.randint(1,100)\n",
    "if(num%2==0):\n",
    "    print(f'{num} is an even number')\n",
    "else:\n",
    "    print(f'{num} is an odd number')"
   ]
  },
  {
   "cell_type": "code",
   "execution_count": null,
   "id": "8a39c0ee-5c62-41df-99fd-fc82dddcf149",
   "metadata": {},
   "outputs": [],
   "source": [
    "#Q8)\n",
    "# WAP ask the user get a random integer number(n1) between 1 to 10\n",
    "#     ask the user take another number(n2) from keyboard\n",
    "# if n1 equal to n2\n",
    "#     print won\n",
    "# else\n",
    "#    print loss\n",
    "\n",
    "# Step-1: n1=random number\n",
    "# Step-2: n2=eval(input())\n",
    "# step-3: if <con>:\n",
    "# Step-4:     print('won')\n",
    "# Step-5: elsse:\n",
    "# Step-6:    print('loss')"
   ]
  },
  {
   "cell_type": "code",
   "execution_count": 33,
   "id": "6d85f07e-52b2-4b12-9099-79ef4e4234cd",
   "metadata": {},
   "outputs": [
    {
     "name": "stdout",
     "output_type": "stream",
     "text": [
      "5\n"
     ]
    },
    {
     "name": "stdin",
     "output_type": "stream",
     "text": [
      "Enter the number: 5\n"
     ]
    },
    {
     "name": "stdout",
     "output_type": "stream",
     "text": [
      "you won\n"
     ]
    }
   ],
   "source": [
    "import random\n",
    "n1=random.randint(1,10)\n",
    "n2=eval(input(\"Enter the number:\"))\n",
    "if n1==n2:\n",
    "    print(\"you won\")\n",
    "else:\n",
    "    print(\"you loss\")"
   ]
  },
  {
   "cell_type": "code",
   "execution_count": null,
   "id": "7b2089d5-a0f6-4ecc-9f86-57010f5a4f25",
   "metadata": {},
   "outputs": [],
   "source": [
    "- Till now we have seen if-else\n",
    "\n",
    "- two outputs based on one condition\n",
    "\n",
    "- there are three outputs based on two conditions\n",
    "\n",
    "- if -elif-else\n",
    "\n",
    "- if con:\n",
    "     statements\n",
    "- elif con\n",
    "     statements\n",
    "- else:\n",
    "    statements"
   ]
  },
  {
   "cell_type": "code",
   "execution_count": null,
   "id": "a9868ff8-db51-461d-9be6-3cedf14aefdd",
   "metadata": {},
   "outputs": [],
   "source": [
    "#9) WAP ask the user enter a number\n",
    "#      if num equal to one then print ('one')\n",
    "#      if num equal to 2 then print ('two')\n",
    "#      if num equal to 3 then print ('three')\n",
    "#      if num equal to 4 then print ('four')\n",
    "# if-elif-elif-else"
   ]
  },
  {
   "cell_type": "code",
   "execution_count": 2,
   "id": "6cefba2b-4009-4784-8c3b-bd27ea4d532d",
   "metadata": {},
   "outputs": [
    {
     "name": "stdin",
     "output_type": "stream",
     "text": [
      "enter the number: 5\n"
     ]
    },
    {
     "name": "stdout",
     "output_type": "stream",
     "text": [
      "Enter a valid number\n"
     ]
    }
   ],
   "source": [
    "num=eval(input(\"enter the number:\"))\n",
    "if num==1:\n",
    "    print('one')\n",
    "elif num==2:\n",
    "    print('two')\n",
    "elif num==3:\n",
    "    print('three')\n",
    "elif num==4:\n",
    "    print(\"Four\")\n",
    "else:\n",
    "    print(\"Enter a valid number\")"
   ]
  },
  {
   "cell_type": "code",
   "execution_count": 3,
   "id": "2ddf0a59-f4eb-4129-b60f-d22e03962628",
   "metadata": {},
   "outputs": [
    {
     "name": "stdin",
     "output_type": "stream",
     "text": [
      "enter the number: 3\n"
     ]
    },
    {
     "name": "stdout",
     "output_type": "stream",
     "text": [
      "Enter a valid number\n"
     ]
    }
   ],
   "source": [
    "num=input(\"enter the number:\")\n",
    "if num=='1':\n",
    "    print('one')\n",
    "elif num=='2':\n",
    "    print('two')\n",
    "elif num=='3':\n",
    "    print('three')\n",
    "elif num=='4':\n",
    "    print(\"Four\")\n",
    "else:\n",
    "    print(\"Enter a valid number\")"
   ]
  },
  {
   "cell_type": "code",
   "execution_count": 6,
   "id": "942d1149-6b66-4bba-a5d1-f260092cbb00",
   "metadata": {},
   "outputs": [
    {
     "name": "stdout",
     "output_type": "stream",
     "text": [
      "three\n"
     ]
    }
   ],
   "source": [
    "num=3\n",
    "if num==1:\n",
    "    print('one')\n",
    "\n",
    "if num==2:\n",
    "    print('two')\n",
    "\n",
    "if num==3:\n",
    "    print('three')\n"
   ]
  },
  {
   "cell_type": "code",
   "execution_count": null,
   "id": "a998ba63-1844-4711-b2f6-6999225482f4",
   "metadata": {},
   "outputs": [],
   "source": [
    "# WAP ask the user enter a percentage\n",
    "# if the per greater than 90  print Garde A\n",
    "# if the per greater between 75 to 90  print Garde B\n",
    "# if the per greater between 60 to 75  print Garde C\n",
    "# if the per greater between 40 to 60  print Garde D\n",
    "# if the per greater between less than 40  print fail"
   ]
  },
  {
   "cell_type": "code",
   "execution_count": 10,
   "id": "aa71069c-a48f-4be0-ace7-38b6c8177798",
   "metadata": {},
   "outputs": [
    {
     "name": "stdin",
     "output_type": "stream",
     "text": [
      "Enter the percentage:  99\n"
     ]
    },
    {
     "name": "stdout",
     "output_type": "stream",
     "text": [
      "Grade A\n"
     ]
    }
   ],
   "source": [
    "percentage=eval(input(\"Enter the percentage: \"))\n",
    "if percentage>=90:\n",
    "    print(\"Grade A\")\n",
    "elif percentage>=75 and percentage<90:\n",
    "    print(\"Grade B\")\n",
    "elif percentage>=60 and percentage<75:\n",
    "    print(\"Grade c\")\n",
    "elif percentage>=40 and percentage<65:\n",
    "    print(\"Grade D\")\n",
    "else:\n",
    "    print(\"fail\")"
   ]
  },
  {
   "cell_type": "code",
   "execution_count": 16,
   "id": "eefbceff-ec18-4f5a-93ea-023295d36afc",
   "metadata": {},
   "outputs": [
    {
     "name": "stdin",
     "output_type": "stream",
     "text": [
      "Enter the percentage betwwn 0 to 100:  98\n"
     ]
    },
    {
     "name": "stdout",
     "output_type": "stream",
     "text": [
      "Grade A\n"
     ]
    }
   ],
   "source": [
    "percentage=eval(input(\"Enter the percentage betwwn 0 to 100: \"))\n",
    "if percentage>=90:\n",
    "    print(\"Grade A\")\n",
    "elif percentage>=75 :\n",
    "    print(\"Grade B\")\n",
    "elif percentage>=60 :\n",
    "    print(\"Grade c\")\n",
    "elif percentage>=40 :\n",
    "    print(\"Grade D\")\n",
    "else:\n",
    "    print(\"fail\")\n",
    "# Step-1 : Per =79\n",
    "# Step-2: if 79>=99    False\n",
    "# Step-3: elif 79>=75  True\n",
    "# Step-4: elif 79>=60  True\n",
    "# Step-5: elif 79>=40  True"
   ]
  },
  {
   "cell_type": "markdown",
   "id": "d4153bae-9520-4fe8-a06b-c6c9dbbd4e5a",
   "metadata": {},
   "source": [
    "- whenever we use if-elif code will stop first True condition only\n",
    "\n",
    "- For example in above code per=99\n",
    "\n",
    "- It satisfy all the conditions but first one only print\n",
    "\n",
    "- that is the first true value"
   ]
  },
  {
   "cell_type": "code",
   "execution_count": 18,
   "id": "32ddb41d-028d-4722-9130-5ee66baf8fa3",
   "metadata": {},
   "outputs": [
    {
     "name": "stdin",
     "output_type": "stream",
     "text": [
      "Enter the percentage betwwn 0 to 100:  99\n"
     ]
    },
    {
     "name": "stdout",
     "output_type": "stream",
     "text": [
      "Grade B\n",
      "Grade c\n",
      "Grade D\n"
     ]
    }
   ],
   "source": [
    "percentage=eval(input(\"Enter the percentage betwwn 0 to 100: \"))\n",
    "if False:\n",
    "    print(\"Grade A\")\n",
    "    \n",
    "if percentage>=75 :\n",
    "    print(\"Grade B\")# \n",
    "    \n",
    "if percentage>=60 :\n",
    "    print(\"Grade c\")\n",
    "    \n",
    "if percentage>=40 :\n",
    "    print(\"Grade D\")\n",
    "else:\n",
    "    print(\"fail\")"
   ]
  },
  {
   "cell_type": "code",
   "execution_count": null,
   "id": "6ab7c33b-41ca-448e-918e-9ff9c9b8c26a",
   "metadata": {},
   "outputs": [],
   "source": [
    "# WAP ask the user enter a age\n",
    "# if the age greater than 100  print unlucky\n",
    "# if the age greater between 60 to 100  print SS\n",
    "# if the age greater between 30 to 60  print Middile aged\n",
    "# if the age greater between 20 to 30  print Young\n",
    "# if the age greater between 10 to 20  print teenage\n",
    "# otherwise print kid"
   ]
  },
  {
   "cell_type": "code",
   "execution_count": 19,
   "id": "0fdcab26-6fc3-4cdd-bdc1-fed65a823a11",
   "metadata": {},
   "outputs": [
    {
     "name": "stdin",
     "output_type": "stream",
     "text": [
      "Enter the age:  44\n"
     ]
    },
    {
     "name": "stdout",
     "output_type": "stream",
     "text": [
      "Middle age\n"
     ]
    }
   ],
   "source": [
    "age=eval(input('Enter the age: '))\n",
    "if age>100:\n",
    "    print(\"Unlucky person\")\n",
    "elif age>=60:\n",
    "    print(\"Senior Citizen\")\n",
    "elif age>=30:\n",
    "    print(\"Middle age\")\n",
    "elif age>=20:\n",
    "    print(\"Young age\")\n",
    "elif age>=10:\n",
    "    print(\"Teenage\")\n",
    "else:\n",
    "    print(\"Kid\")\n"
   ]
  },
  {
   "cell_type": "code",
   "execution_count": null,
   "id": "567c8393-153e-41c0-82ac-eee7929ab7f5",
   "metadata": {},
   "outputs": [],
   "source": [
    "# WAP ask the user enter the distance\n",
    "# If the distance is greater than 50\n",
    "#        ask the user charge (enter 10)\n",
    "#        print the total charge\n",
    "# If the distance is between 25 to 50\n",
    "#        ask the user charge = 5\n",
    "#        print the total charge\n",
    "# If the distance is between 10 to 25\n",
    "#        ask the user charge = 2\n",
    "#        print the total charge\n",
    "# else free ride"
   ]
  },
  {
   "cell_type": "code",
   "execution_count": 23,
   "id": "5117194c-9c46-4474-9fb8-811917a0f277",
   "metadata": {},
   "outputs": [
    {
     "name": "stdin",
     "output_type": "stream",
     "text": [
      "Enter the distance:  15\n",
      "Enter  charge  2\n"
     ]
    },
    {
     "name": "stdout",
     "output_type": "stream",
     "text": [
      "30\n"
     ]
    }
   ],
   "source": [
    "distance=eval(input(\"Enter the distance: \"))\n",
    "if distance>=50:\n",
    "    charge=eval(input(\"Enter  charge \"))\n",
    "    print(distance*charge)\n",
    "elif distance>=25:\n",
    "    charge=eval(input(\"Enter  charge \"))\n",
    "    print(distance*charge)\n",
    "elif distance>=10:\n",
    "    charge=eval(input(\"Enter  charge \"))\n",
    "    print(distance*charge)\n",
    "else:\n",
    "    print(\"Free ride\")"
   ]
  },
  {
   "cell_type": "code",
   "execution_count": null,
   "id": "753dfcf9-6d6b-4176-9431-e660fa9d3c10",
   "metadata": {},
   "outputs": [],
   "source": [
    "# Ask the user number1\n",
    "# Ask the user number2\n",
    "# print statemets\n",
    "#  enter 1 for addition opertation\n",
    "#  enter 2 for sub opertation\n",
    "#  enter 3 for mul opertation\n",
    "#  enter 4 for div opertation\n",
    "# ask the user operation=eval(input())\n",
    "# if operation equal to 1 then print a+b\n",
    "# if operation equal to 2 then print a*b\n",
    "# if operation equal to 3 then print a-b\n",
    "# if operation equal to 4 then print a/b\n",
    "# else print enter valid operation"
   ]
  },
  {
   "cell_type": "code",
   "execution_count": 27,
   "id": "7e44ca69-36b9-4a47-b56f-619ad228676e",
   "metadata": {},
   "outputs": [
    {
     "name": "stdin",
     "output_type": "stream",
     "text": [
      "Enter first number. 50\n",
      "Enter second number. 60\n"
     ]
    },
    {
     "name": "stdout",
     "output_type": "stream",
     "text": [
      "Enter 1 for: addition\n",
      "Enter 2 for: subtraction\n",
      "Enter 3 for: multiplication\n",
      "Enter 4 for: division\n"
     ]
    },
    {
     "name": "stdin",
     "output_type": "stream",
     "text": [
      "Enter the operation: 6\n"
     ]
    },
    {
     "name": "stdout",
     "output_type": "stream",
     "text": [
      "Enter a valid operation\n"
     ]
    }
   ],
   "source": [
    "import time\n",
    "a=eval(input(\"Enter first number.\"))\n",
    "b=eval(input(\"Enter second number.\"))\n",
    "\n",
    "print(\"Enter 1 for: addition\")\n",
    "time.sleep(1)\n",
    "print(\"Enter 2 for: subtraction\")\n",
    "time.sleep(1)\n",
    "print(\"Enter 3 for: multiplication\")\n",
    "time.sleep(1)\n",
    "print(\"Enter 4 for: division\")\n",
    "\n",
    "option=eval(input(\"Enter the operation:\"))\n",
    "\n",
    "if option==1:\n",
    "    print(f\"The addition of {a} and {b} is {a+b}\")\n",
    "\n",
    "elif option==2:\n",
    "    print(f\"The subtraction of {a} and {b} is {a-b}\")\n",
    "\n",
    "elif option==3:\n",
    "    print(f\"The multiplication of {a} and {b} is {a*b}\")\n",
    "\n",
    "elif option==4:\n",
    "    print(f\"The division of {a} and {b} is {a/b}\")\n",
    "\n",
    "else:\n",
    "    print(\"Enter a valid operation\")"
   ]
  },
  {
   "cell_type": "code",
   "execution_count": null,
   "id": "2d94309f-c445-4001-a309-5d9da113d6f5",
   "metadata": {},
   "outputs": [],
   "source": [
    "n1 = eval(input(\"Enter a number: \"))\n",
    "n2 = eval(input(\"Enter another number: \"))\n",
    "op = input(\"Enter 1 for add 2 for sub 3 for mul 4 for div: \")\n",
    "if op=='1': \n",
    "    print(n1+n2)\n",
    "elif op=='2':\n",
    "    print(n1-n2)  \n",
    "elif op=='3':\n",
    "    print(n1*n2)  \n",
    "elif op=='4':\n",
    "    print(n1/n2)   \n",
    "else:\n",
    "    print(\"Enter valid operation!\")         \n"
   ]
  },
  {
   "cell_type": "code",
   "execution_count": 29,
   "id": "74a6429b-3f00-4078-aa2e-d014a8f951d8",
   "metadata": {},
   "outputs": [
    {
     "name": "stdin",
     "output_type": "stream",
     "text": [
      "enter the number 1 : 60\n",
      "enter the number 2 : 80\n",
      "enter the opeator from this [+,-, *, /] to perform operation : *\n"
     ]
    },
    {
     "name": "stdout",
     "output_type": "stream",
     "text": [
      "the multiiplication is : 4800\n"
     ]
    }
   ],
   "source": [
    "a=eval(input(\"enter the number 1 :\"))\n",
    "b=eval(input(\"enter the number 2 :\"))\n",
    "exp=input(\"enter the opeator from this [+,-, *, /] to perform operation :\")\n",
    "if exp==\"+\":\n",
    "    print(\"the addition is :\",a+b)\n",
    "elif exp==\"-\":\n",
    "    print(\"the minus is :\",a-b)\n",
    "elif exp==\"*\":\n",
    "    print(\"the multiiplication is :\",a*b)\n",
    "elif exp==\"/\":\n",
    "    print(\"the divisioin is :\",a/b)\n",
    "else:\n",
    "    print(\"invalid operator\")"
   ]
  },
  {
   "cell_type": "code",
   "execution_count": 35,
   "id": "de724bbf-ec93-4ccf-9cc1-87c1cfc5d4c0",
   "metadata": {},
   "outputs": [
    {
     "name": "stdin",
     "output_type": "stream",
     "text": [
      "enter the number: 0\n"
     ]
    },
    {
     "name": "stdout",
     "output_type": "stream",
     "text": [
      "It is a zero number\n"
     ]
    }
   ],
   "source": [
    "# WAP ask the user enter a number\n",
    "# if the number greater than eqaul to zero\n",
    "#        if number equal to zero\n",
    "#               print it is a zero\n",
    "#        else\n",
    "#              print it is a pos number\n",
    "#else\n",
    "#    print it is a negative number\n",
    "\n",
    "number=eval(input(\"enter the number:\"))\n",
    "if number>=0:\n",
    "    if number==0:\n",
    "        print(\"It is a zero number\")\n",
    "    else:\n",
    "        print(\"It is a pos number\")\n",
    "else:\n",
    "    print(\"It is a negative \")"
   ]
  },
  {
   "cell_type": "code",
   "execution_count": 32,
   "id": "c8e0c06a-4f61-412b-9e9d-be053c1094d6",
   "metadata": {},
   "outputs": [
    {
     "name": "stdin",
     "output_type": "stream",
     "text": [
      "Please enter first number:  100\n",
      "Please enter second number:  200\n",
      "Please enter operation like +,-,*,/ or number like 1,2 3,4: 3\n"
     ]
    },
    {
     "name": "stdout",
     "output_type": "stream",
     "text": [
      "multiplication of 100 and 200 is :20000\n"
     ]
    }
   ],
   "source": [
    "num1= eval(input(\"Please enter first number: \"))\n",
    "num2= eval(input(\"Please enter second number: \"))\n",
    "operation=input(\"Please enter operation like +,-,*,/ or number like 1,2 3,4:\")\n",
    "if operation==\"1\" or operation==\"+\":\n",
    "    addition=num1+num2\n",
    "    print(f\"Summation of {num1} and {num2} is :{addition}\")\n",
    "elif operation==\"2\" or operation==\"-\":\n",
    "    substraction=num1-num2\n",
    "    print(f\"substraction of {num1} and {num2} is :{substraction}\")\n",
    "elif operation==\"3\" or operation==\"*\":\n",
    "    multiplication=num1*num2\n",
    "    print(f\"multiplication of {num1} and {num2} is :{multiplication}\")\n",
    "elif operation==\"4\" or operation==\"/\":\n",
    "    division=num1/num2\n",
    "    print(f\"division of {num1} and {num2} is :{division}\")\n",
    "else:\n",
    "    print(\"Please enter valid opetration\")"
   ]
  },
  {
   "cell_type": "code",
   "execution_count": null,
   "id": "ed56b26d-02ae-43a9-9e94-b1d9feb63945",
   "metadata": {},
   "outputs": [],
   "source": [
    "# wap \n",
    "# ask the user enter gender\n",
    "# if gender equal to male\n",
    "#      ask the user enter age\n",
    "#      if age gretaer than 60 print ss\n",
    "#      if age greater between 30 to 60 priny MM\n",
    "#      if age betweeen 10 to 20  print young man\n",
    "#      otherwise print Boy\n",
    "# if gender equal to Female\n",
    "#      ask the user enter age\n",
    "#      if age gretaer than 60 print ss\n",
    "#      if age greater between 30 to 60 priny MW\n",
    "#      if age betweeen 10 to 20  print young Girl\n",
    "#      otherwise print Girl\n",
    "# Otherwise print enter a valid gender"
   ]
  },
  {
   "cell_type": "code",
   "execution_count": 38,
   "id": "c3449d05-7b32-4fb7-9083-8bcac9182659",
   "metadata": {},
   "outputs": [
    {
     "name": "stdin",
     "output_type": "stream",
     "text": [
      "Please enter your gender, enter m for male and f for female tryhjlk;\n"
     ]
    },
    {
     "name": "stdout",
     "output_type": "stream",
     "text": [
      "invalid gender\n"
     ]
    }
   ],
   "source": [
    "gender = input('Please enter your gender, enter m for male and f for female')\n",
    "if gender == 'm':\n",
    "    age = eval(input('Please enter your age'))\n",
    "    if age >=60:\n",
    "        print('senior citizen')\n",
    "    elif age >=30:\n",
    "        print('middle aged')\n",
    "    elif age >=10:\n",
    "        print('young man')\n",
    "    else:\n",
    "        print('kid')\n",
    "elif gender == 'f':\n",
    "    age = eval(input('Please enter your age'))\n",
    "    if age >=60:\n",
    "        print('senior citizen')\n",
    "    elif age >=30:\n",
    "        print('middle aged')\n",
    "    elif age >=10:\n",
    "        print('young women')\n",
    "    else:\n",
    "        print('kid')\n",
    "else:\n",
    "    print('invalid gender')"
   ]
  },
  {
   "cell_type": "code",
   "execution_count": null,
   "id": "becb07d3-b2cf-4633-b7e8-1e33510b7f5b",
   "metadata": {},
   "outputs": [],
   "source": [
    "# WAP\n",
    "# Ask the user enter n1\n",
    "#                    n2\n",
    "#                    n2\n",
    "# find the greatest value"
   ]
  }
 ],
 "metadata": {
  "kernelspec": {
   "display_name": "Python 3 (ipykernel)",
   "language": "python",
   "name": "python3"
  },
  "language_info": {
   "codemirror_mode": {
    "name": "ipython",
    "version": 3
   },
   "file_extension": ".py",
   "mimetype": "text/x-python",
   "name": "python",
   "nbconvert_exporter": "python",
   "pygments_lexer": "ipython3",
   "version": "3.11.7"
  }
 },
 "nbformat": 4,
 "nbformat_minor": 5
}
