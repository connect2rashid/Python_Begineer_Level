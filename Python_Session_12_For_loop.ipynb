{
 "cells": [
  {
   "cell_type": "markdown",
   "id": "4728f472-0400-46c5-b978-4df8ceae52e9",
   "metadata": {},
   "source": [
    "**Loops**\n",
    "\n",
    "- Repeating the same task \n",
    "\n",
    "- For example we want to do tax calculation\n",
    "\n",
    "- Tax calcilation has 4 lines of code\n",
    "\n",
    "- I want to apply the tax calculations to my 100 employees\n",
    "\n",
    "- How many lines required : 400\n",
    "\n",
    "- But if I keep the 4 lines in form of function\n",
    "\n",
    "- Then only one line can use for 100 members\n",
    "\n",
    "- The making one line : Functions\n",
    "\n",
    "- we are applying that one line for all 100 members : Loop"
   ]
  },
  {
   "cell_type": "markdown",
   "id": "66c175f4-5348-48af-b784-b2eb145d89a3",
   "metadata": {},
   "source": [
    "- Generally we have two types of loops \n",
    "\n",
    "    - For loop\n",
    "\n",
    "    - while loop\n",
    "\n",
    "- Any loop we required three things\n",
    "\n",
    "    - Intial point : start point to enter into the loop\n",
    "\n",
    "    - Increment or decrement : Number of times iterate the loop\n",
    "\n",
    "    - Condition to stop : we want to stop the loop based on specific condition\n",
    "\n",
    "- In for loop all these 3 are in a single line\n",
    "\n",
    "- In while loop all these 3 are 3 different lines"
   ]
  },
  {
   "cell_type": "markdown",
   "id": "2fb3e0ad-e133-4564-9ba1-8df07653ba90",
   "metadata": {},
   "source": [
    "**For loop**"
   ]
  },
  {
   "cell_type": "markdown",
   "id": "b943f1ff-28af-4fe6-aa4f-84e840851b5e",
   "metadata": {},
   "source": [
    "$pattern-1$\n",
    "\n",
    "**range(stop)**\n",
    "\n",
    "- for loop use range data type\n",
    "\n",
    "- inside range we can keep some values\n",
    "\n",
    "- suppose if you keep only one value\n",
    "\n",
    "- start= 0  by default\n",
    "\n",
    "- increment by 1\n",
    "\n",
    "- stop value= the given value -1\n",
    "\n",
    "- range(3)\n",
    "\n",
    "  - start=0\n",
    "    \n",
    "  - increment=1\n",
    "    \n",
    "  - stop= last-1= 3-1=2\n",
    " \n",
    "  - 0 1  2\n",
    " \n",
    "**python index start with zero**"
   ]
  },
  {
   "cell_type": "code",
   "execution_count": 1,
   "id": "db7a90a9-ef0f-4b75-873d-247dc23a5421",
   "metadata": {},
   "outputs": [
    {
     "name": "stdout",
     "output_type": "stream",
     "text": [
      "0\n",
      "1\n",
      "2\n"
     ]
    }
   ],
   "source": [
    "# syntax\n",
    "\n",
    "for i in range(3):\n",
    "    print(i)"
   ]
  },
  {
   "cell_type": "code",
   "execution_count": 2,
   "id": "0e107e66-d48d-4a05-9296-9fffc2f0e63e",
   "metadata": {},
   "outputs": [
    {
     "name": "stdout",
     "output_type": "stream",
     "text": [
      "0\n",
      "1\n",
      "2\n",
      "4\n"
     ]
    }
   ],
   "source": [
    "print(0)\n",
    "print(1)\n",
    "print(2)\n",
    "print(4)\n",
    "\n",
    "print(i) "
   ]
  },
  {
   "cell_type": "code",
   "execution_count": null,
   "id": "e5c5ebe9-26db-4860-a13a-f5050699896a",
   "metadata": {},
   "outputs": [],
   "source": [
    "for i in range(4):\n",
    "    print(i)\n",
    "# step-1  i=0  ===== print(0)\n",
    "# step-2  i=1  ===== print(1)\n",
    "# step-3  i=2  ===== print(2)\n",
    "# step-4  i=3  ===== print(3)"
   ]
  },
  {
   "cell_type": "code",
   "execution_count": 10,
   "id": "10a9d36b-e8dc-47d5-8936-6c01efdcdd44",
   "metadata": {},
   "outputs": [
    {
     "name": "stdout",
     "output_type": "stream",
     "text": [
      "0 1 2 3 "
     ]
    }
   ],
   "source": [
    "for i in range(4):\n",
    "    print(i,end=' ')"
   ]
  },
  {
   "cell_type": "code",
   "execution_count": 9,
   "id": "43cec8e5-2c18-4b94-ac65-c6d69045dbfa",
   "metadata": {},
   "outputs": [
    {
     "name": "stdout",
     "output_type": "stream",
     "text": [
      "0 1 2 4\n"
     ]
    }
   ],
   "source": [
    "print(0,end=' ')\n",
    "print(1,end=' ')\n",
    "print(2,end=' ')\n",
    "print(4)\n",
    "\n",
    "print(i,end=' ')"
   ]
  },
  {
   "cell_type": "code",
   "execution_count": 11,
   "id": "fc138045-389e-433b-9acf-9c06efbb8cc7",
   "metadata": {},
   "outputs": [
    {
     "name": "stdout",
     "output_type": "stream",
     "text": [
      "hello\n",
      "hello\n",
      "hello\n",
      "hello\n",
      "hello\n"
     ]
    }
   ],
   "source": [
    "# print hello 5 times\n",
    "print('hello')\n",
    "print('hello')\n",
    "print('hello')\n",
    "print('hello')\n",
    "print('hello')\n",
    "\n"
   ]
  },
  {
   "cell_type": "code",
   "execution_count": 12,
   "id": "f71b91b7-f13a-40f8-b922-3b579f2a8ae1",
   "metadata": {},
   "outputs": [
    {
     "name": "stdout",
     "output_type": "stream",
     "text": [
      "hello\n",
      "hello\n",
      "hello\n",
      "hello\n",
      "hello\n"
     ]
    }
   ],
   "source": [
    "for i in range(5):\n",
    "    print('hello')"
   ]
  },
  {
   "cell_type": "code",
   "execution_count": null,
   "id": "7a2f9c82-0cb3-47da-a420-eaa31c6b993a",
   "metadata": {},
   "outputs": [],
   "source": [
    "# wap ask the use get a number ranndomly between 1 to 100\n",
    "#       print the square of the number\n",
    "#   ask the user repeat this task for three times"
   ]
  },
  {
   "cell_type": "code",
   "execution_count": 14,
   "id": "d2a082a4-9e41-4834-8002-c38373542b37",
   "metadata": {},
   "outputs": [
    {
     "name": "stdout",
     "output_type": "stream",
     "text": [
      "the square of 2 is 4\n",
      "the square of 32 is 1024\n",
      "the square of 82 is 6724\n"
     ]
    }
   ],
   "source": [
    "import random \n",
    "num=random.randint(1,100)\n",
    "print(f\"the square of {num} is {num*num}\")\n",
    "\n",
    "import random \n",
    "num=random.randint(1,100)\n",
    "print(f\"the square of {num} is {num*num}\")\n",
    "\n",
    "import random \n",
    "num=random.randint(1,100)\n",
    "print(f\"the square of {num} is {num*num}\")"
   ]
  },
  {
   "cell_type": "code",
   "execution_count": 15,
   "id": "329b78fb-2a86-4fb3-bd79-2c3bccf456bc",
   "metadata": {},
   "outputs": [
    {
     "name": "stdout",
     "output_type": "stream",
     "text": [
      "the square of 8 is 64\n",
      "the square of 89 is 7921\n",
      "the square of 96 is 9216\n"
     ]
    }
   ],
   "source": [
    "import random \n",
    "for i in range(3):\n",
    "    num=random.randint(1,100)\n",
    "    print(f\"the square of {num} is {num*num}\")"
   ]
  },
  {
   "cell_type": "markdown",
   "id": "27d3c462-dca3-4ae2-837b-8d5f6ea288f8",
   "metadata": {},
   "source": [
    "$pattern-2$\n",
    "\n",
    "**range(start,stop)**\n",
    "\n",
    "- Whenever we see the above pattern\n",
    "\n",
    "- start= start\n",
    "\n",
    "- increment by 1\n",
    "\n",
    "- last=stop-1\n",
    "\n",
    "- range(5,10)\n",
    "\n",
    "    - start=5\n",
    "\n",
    "    - increment=1\n",
    "\n",
    "    - last= 10-1=9\n",
    "\n",
    "    - 5,6,7,8,9"
   ]
  },
  {
   "cell_type": "code",
   "execution_count": 16,
   "id": "3a228daa-8064-4f04-91f7-aabe3f4f2980",
   "metadata": {},
   "outputs": [
    {
     "name": "stdout",
     "output_type": "stream",
     "text": [
      "5\n",
      "6\n",
      "7\n",
      "8\n",
      "9\n"
     ]
    }
   ],
   "source": [
    "for i in range(5,10):\n",
    "    print(i)"
   ]
  },
  {
   "cell_type": "code",
   "execution_count": 17,
   "id": "825c8f09-30b2-4b46-ba35-b474f3840d7a",
   "metadata": {},
   "outputs": [
    {
     "name": "stdout",
     "output_type": "stream",
     "text": [
      "the square of 1 is 1\n",
      "the square of 2 is 4\n",
      "the square of 3 is 9\n",
      "the square of 4 is 16\n",
      "the square of 5 is 25\n"
     ]
    }
   ],
   "source": [
    "# wap ask the user print the square of the numbers\n",
    "# from 1 to 5\n",
    "for i in range(1,6):\n",
    "     print(f\"the square of {i} is {i*i}\")"
   ]
  },
  {
   "cell_type": "code",
   "execution_count": 20,
   "id": "04672870-068b-4208-9552-252f94640a1a",
   "metadata": {},
   "outputs": [
    {
     "name": "stdout",
     "output_type": "stream",
     "text": [
      "the square of 99 is 9801\n",
      "the square of 6 is 36\n",
      "the square of 7 is 49\n"
     ]
    }
   ],
   "source": [
    "import random \n",
    "for i in range(1333,1336):\n",
    "    num=random.randint(1,100)\n",
    "    print(f\"the square of {num} is {num*num}\")"
   ]
  },
  {
   "cell_type": "code",
   "execution_count": 22,
   "id": "fc4d8afc-2759-4152-bdc8-5a2696d3e3f8",
   "metadata": {},
   "outputs": [
    {
     "name": "stdin",
     "output_type": "stream",
     "text": [
      "enter a number: 1\n"
     ]
    },
    {
     "name": "stdout",
     "output_type": "stream",
     "text": [
      "the 1 is an odd\n"
     ]
    },
    {
     "name": "stdin",
     "output_type": "stream",
     "text": [
      "enter a number: 2\n"
     ]
    },
    {
     "name": "stdout",
     "output_type": "stream",
     "text": [
      "the 2 is an even\n"
     ]
    },
    {
     "name": "stdin",
     "output_type": "stream",
     "text": [
      "enter a number: 3\n"
     ]
    },
    {
     "name": "stdout",
     "output_type": "stream",
     "text": [
      "the 3 is an odd\n"
     ]
    },
    {
     "name": "stdin",
     "output_type": "stream",
     "text": [
      "enter a number: 4\n"
     ]
    },
    {
     "name": "stdout",
     "output_type": "stream",
     "text": [
      "the 4 is an even\n"
     ]
    },
    {
     "name": "stdin",
     "output_type": "stream",
     "text": [
      "enter a number: 5\n"
     ]
    },
    {
     "name": "stdout",
     "output_type": "stream",
     "text": [
      "the 5 is an odd\n"
     ]
    }
   ],
   "source": [
    "# wap ask the use get a number from keyboard\n",
    "#   find that number even or odd\n",
    "# repeat this 5 times\n",
    "\n",
    "for i in range(5):\n",
    "    num=eval(input('enter a number:'))\n",
    "    if num%2==0:\n",
    "        print(f\"the {num} is an even\")\n",
    "    else:\n",
    "        print(f\"the {num} is an odd\")"
   ]
  },
  {
   "cell_type": "code",
   "execution_count": 23,
   "id": "1949511b-7342-43ee-aeb6-182f2cd1b741",
   "metadata": {},
   "outputs": [
    {
     "name": "stdin",
     "output_type": "stream",
     "text": [
      "enter the number: 20\n"
     ]
    },
    {
     "name": "stdout",
     "output_type": "stream",
     "text": [
      "the number is even 20\n",
      "the number is even 20\n",
      "the number is even 20\n",
      "the number is even 20\n",
      "the number is even 20\n"
     ]
    }
   ],
   "source": [
    "num= eval(input(\"enter the number:\"))\n",
    "if num%2==0:\n",
    "    for i in range(5):\n",
    "         print(f\"the number is even {num}\")\n",
    "else:\n",
    "    print(\"number is odd\")"
   ]
  },
  {
   "cell_type": "markdown",
   "id": "f046b75b-74f1-422a-a3c2-60a4bb791540",
   "metadata": {},
   "source": [
    "$pattern-3$\n",
    "\n",
    "**range(start,stop,step)**\n",
    "\n",
    "- start= start only\n",
    "\n",
    "- step value\n",
    "\n",
    "    - if step value is postive\n",
    "\n",
    "        - postive step means postive direction\n",
    "\n",
    "        - increment= step \n",
    "\n",
    "        - last= stop-1\n",
    "\n",
    "   - if step value is negative\n",
    "\n",
    "        - negative step means reverse direction\n",
    "\n",
    "        - decrement = step\n",
    "\n",
    "        - last= stop+1"
   ]
  },
  {
   "cell_type": "code",
   "execution_count": 25,
   "id": "50f7169f-8ae4-4be1-9fbe-81adff31695c",
   "metadata": {},
   "outputs": [
    {
     "name": "stdout",
     "output_type": "stream",
     "text": [
      "1 3 5 7 9 "
     ]
    }
   ],
   "source": [
    "for i in range(1,11,2):\n",
    "    print(i,end=' ')\n",
    "\n",
    "# start=1\n",
    "# direction= step =+2\n",
    "# increment =2\n",
    "# last= stop-1=11-1=10\n",
    "\n",
    "#1  2  3  4  5  6  7  8  9  10\n",
    "#1     3     5     7     9"
   ]
  },
  {
   "cell_type": "code",
   "execution_count": 26,
   "id": "96ec4591-846c-4864-a038-5a995980e050",
   "metadata": {},
   "outputs": [],
   "source": [
    "for i in range(1,11,-2):\n",
    "    print(i,end=' ')\n",
    "\n",
    "# start=1\n",
    "# negative = step = -2\n",
    "# last = stop+1= 11+1=12"
   ]
  },
  {
   "cell_type": "code",
   "execution_count": 27,
   "id": "244c72cf-932f-4161-bb82-d9baa5d193b1",
   "metadata": {},
   "outputs": [
    {
     "name": "stdout",
     "output_type": "stream",
     "text": [
      "11 9 7 5 3 "
     ]
    }
   ],
   "source": [
    "for i in range(11,1,-2):\n",
    "    print(i,end=' ')\n",
    "\n",
    "# start=11\n",
    "# dire = negative = -2\n",
    "# last=stop+1= 1+1=2\n",
    "# 11  10  9  8  7  6  5  4  3  2\n",
    "# 11      9     7     5     3"
   ]
  },
  {
   "cell_type": "code",
   "execution_count": 28,
   "id": "fe6f4acf-2ebc-4c3a-bd49-4e7b62a1a322",
   "metadata": {},
   "outputs": [],
   "source": [
    "for i in range(-11,1,-2):\n",
    "    print(i,end=' ')\n",
    "\n",
    "# start=-11\n",
    "# direction= negative step=-2  decrement\n",
    "# last= stop+1=1+1=2"
   ]
  },
  {
   "cell_type": "code",
   "execution_count": 29,
   "id": "4dfdc48c-1cd3-4bb8-920a-e8c280473088",
   "metadata": {},
   "outputs": [
    {
     "name": "stdout",
     "output_type": "stream",
     "text": [
      "-11 -9 -7 -5 -3 "
     ]
    }
   ],
   "source": [
    "for i in range(-11,-1,2):\n",
    "    print(i,end=' ')"
   ]
  },
  {
   "cell_type": "code",
   "execution_count": null,
   "id": "e26ace6b-4496-4566-8f76-26be20650f7a",
   "metadata": {},
   "outputs": [],
   "source": [
    "range(3,15,3) # P\n",
    "range(3,15,-3) # Np\n",
    "range(3,-15,3) # NP\n",
    "range(-3,15,3) # P\n",
    "range(3,-15,-3) # P\n",
    "range(-3,15,-3) # NP\n",
    "range(-3,-15,-3) # P\n",
    "range(15,3,3) # NP\n",
    "range(15,3,-3) # P\n",
    "range(15,-3,3) # NP\n",
    "range(-15,-3,-3) # NP"
   ]
  },
  {
   "cell_type": "code",
   "execution_count": 1,
   "id": "22b7b7e7-050b-4d14-9cb9-75e51cbdf0b7",
   "metadata": {},
   "outputs": [
    {
     "data": {
      "text/plain": [
       "range(-22, 22, -2)"
      ]
     },
     "execution_count": 1,
     "metadata": {},
     "output_type": "execute_result"
    }
   ],
   "source": [
    "range(-22,22,-2)"
   ]
  },
  {
   "cell_type": "code",
   "execution_count": null,
   "id": "9ad59f91-6edc-4587-82f9-7abbcc850bc1",
   "metadata": {},
   "outputs": [],
   "source": [
    "#1) wap ask the use get a number ranndomly between 1 to 100\n",
    "#       print the square of the number\n",
    "#   ask the user repeat this task for three times\n",
    "import random \n",
    "for i in range(3):\n",
    "    num=random.randint(1,100)\n",
    "    print(f\"the square of {num} is {num*num}\")"
   ]
  },
  {
   "cell_type": "code",
   "execution_count": null,
   "id": "afe78a40-58e1-45fa-8717-c74010b07453",
   "metadata": {},
   "outputs": [],
   "source": [
    "#2) wap ask the user print the square of the numbers\n",
    "# from 1 to 5\n",
    "for i in range(1,6):\n",
    "     print(f\"the square of {i} is {i*i}\")"
   ]
  },
  {
   "cell_type": "code",
   "execution_count": null,
   "id": "21a26ee6-95cd-4fe7-8eac-aec5ba9404e6",
   "metadata": {},
   "outputs": [],
   "source": [
    "#3) wap ask the use get a number from keyboard\n",
    "#   find that number even or odd\n",
    "# repeat this 5 times\n",
    "\n",
    "for i in range(5):\n",
    "    num=eval(input('enter a number:'))\n",
    "    if num%2==0:\n",
    "        print(f\"the {num} is an even\")\n",
    "    else:\n",
    "        print(f\"the {num} is an odd\")"
   ]
  },
  {
   "cell_type": "code",
   "execution_count": 6,
   "id": "812c09ce-e0d6-4a7c-a1d2-d879f0cbbeb6",
   "metadata": {},
   "outputs": [
    {
     "name": "stdout",
     "output_type": "stream",
     "text": [
      "7x1=7\n",
      "7x2=14\n",
      "7x3=21\n",
      "7x4=28\n",
      "7x5=35\n",
      "7x6=42\n",
      "7x7=49\n",
      "7x8=56\n",
      "7x9=63\n",
      "7x10=70\n"
     ]
    }
   ],
   "source": [
    "#4) Wap: Print the 7the table\n",
    "# 7 x 1 = 7\n",
    "# 7 x 2 = 14\n",
    "# 7 x 10 = 70\n",
    "\n",
    "# 7 x i = ans\n",
    "for i in range(1,11):\n",
    "    #print(7*i)\n",
    "    print(f\"7x{i}={7*i}\")"
   ]
  },
  {
   "cell_type": "code",
   "execution_count": 10,
   "id": "08b232b6-9707-40f7-8445-ec40b9875c10",
   "metadata": {},
   "outputs": [
    {
     "name": "stdin",
     "output_type": "stream",
     "text": [
      "Enter the number to display the table: 19\n"
     ]
    },
    {
     "name": "stdout",
     "output_type": "stream",
     "text": [
      "19x1=19\n",
      "19x2=38\n",
      "19x3=57\n",
      "19x4=76\n",
      "19x5=95\n",
      "19x6=114\n",
      "19x7=133\n",
      "19x8=152\n",
      "19x9=171\n",
      "19x10=190\n"
     ]
    }
   ],
   "source": [
    "def table():\n",
    "    num=eval(input('Enter the number to display the table:'))\n",
    "    for i in range(1,11):\n",
    "        print(f\"{num}x{i}={num*i}\")\n",
    "\n",
    "table()"
   ]
  },
  {
   "cell_type": "code",
   "execution_count": null,
   "id": "2937d4ba-b30e-4969-a0fb-edddf92222ce",
   "metadata": {},
   "outputs": [],
   "source": [
    "# Code\n",
    "# Type the code \n",
    "# 5 qns \n",
    "# till if-else\n",
    "# online offline \n",
    "# write the exam"
   ]
  },
  {
   "cell_type": "code",
   "execution_count": 12,
   "id": "a78f14ef-6438-4cca-b3d7-166da9b16251",
   "metadata": {},
   "outputs": [
    {
     "name": "stdin",
     "output_type": "stream",
     "text": [
      "enter the number: 75\n"
     ]
    },
    {
     "name": "stdout",
     "output_type": "stream",
     "text": [
      "1\n",
      "3\n",
      "5\n",
      "15\n",
      "25\n",
      "75\n"
     ]
    }
   ],
   "source": [
    "# 5) WAP to find the divisiors of a given number : 75\n",
    "# What is mean by divisors\n",
    "# If you dived a number with another number the remineder =0\n",
    "# Idea\n",
    "# Itearte the loop with given number\n",
    "# For example if you want divisors of number =10\n",
    "# start=1   end with 10\n",
    "# So there are 1 to 10 numbers \n",
    "# every number divide with the itartor number\n",
    "# Find the reminder\n",
    "# if reminder =0 then print that number\n",
    "\n",
    "# step-1: num= eval()\n",
    "# step-2: for i in range(1,num+1):\n",
    "# step-3:     if <reminder>:\n",
    "# step-4:         print(i)\n",
    "\n",
    "num=eval(input(\"enter the number:\"))\n",
    "for i in range(1,num+1):\n",
    "    if num%i==0:\n",
    "        print(i)"
   ]
  },
  {
   "cell_type": "code",
   "execution_count": null,
   "id": "c5caa5fe-9521-4ce4-9883-cdf281623beb",
   "metadata": {},
   "outputs": [],
   "source": [
    "# 6) wap ask the to get sum of first 10 natural numbers\n",
    "# 1+2+3+4+5+6+7+8+9+10= 55\n",
    "\n",
    "0+1=1\n",
    "1+2=3\n",
    "3+3=6\n",
    "6+4=10\n",
    "10+5=15\n",
    "15+6=21\n",
    "21+7=28\n",
    "28+8=36\n",
    "36+9=45\n",
    "45+10=55\n",
    "\n",
    "{sum}+i={sum}"
   ]
  },
  {
   "cell_type": "markdown",
   "id": "a5bd0b04-c27f-458b-9795-0a0023df574c",
   "metadata": {},
   "source": [
    "**Summation wrapper**\n",
    "\n",
    "- whenever we do summation using loop\n",
    "\n",
    "- always keep summ=0 at starting of the code\n",
    "\n",
    "- second line iterate the for loop\n",
    "\n",
    "- Third line inside for loop write :  summ=summ+i\n",
    "\n",
    "- summ+=i  or summ=summ+i\n",
    "\n",
    "- dont give variable name as **sum**"
   ]
  },
  {
   "cell_type": "code",
   "execution_count": null,
   "id": "76081ffe-732b-4a78-bc60-9cbe81f84557",
   "metadata": {},
   "outputs": [],
   "source": [
    "# summ=0\n",
    "# forloop:\n",
    "#   summ=summ+i\n",
    "summ=0 # Intial point\n",
    "for i in range(1,11):\n",
    "    summ=summ+i  # updation\n",
    "\n",
    "# step-1: summ=0  i=1   summ=0+1=1\n",
    "# step-2: summ=1  i=2   summ=1+2=3\n",
    "# step-3: summ=2  i=3   summ=3+3=6\n",
    "\n"
   ]
  },
  {
   "cell_type": "code",
   "execution_count": 13,
   "id": "4ea3cf44-81ca-44e5-9103-9ba460a3fb7b",
   "metadata": {},
   "outputs": [
    {
     "name": "stdout",
     "output_type": "stream",
     "text": [
      "1\n",
      "3\n",
      "6\n",
      "10\n",
      "15\n",
      "21\n",
      "28\n",
      "36\n",
      "45\n",
      "55\n"
     ]
    }
   ],
   "source": [
    "summ=0 # Intial point\n",
    "for i in range(1,11):\n",
    "    summ=summ+i  # updation\n",
    "    print(summ)"
   ]
  },
  {
   "cell_type": "code",
   "execution_count": 14,
   "id": "d26f224e-18e0-4a69-93c9-83338bc22b55",
   "metadata": {},
   "outputs": [
    {
     "name": "stdout",
     "output_type": "stream",
     "text": [
      "55\n"
     ]
    }
   ],
   "source": [
    "summ=0 # Intial point\n",
    "for i in range(1,11):\n",
    "    summ=summ+i  # updation\n",
    "\n",
    "print(summ)"
   ]
  },
  {
   "cell_type": "code",
   "execution_count": 15,
   "id": "30f7b842-cc10-4d30-86de-b2cb67eadd2c",
   "metadata": {},
   "outputs": [
    {
     "name": "stdout",
     "output_type": "stream",
     "text": [
      "5.5\n"
     ]
    }
   ],
   "source": [
    "#Q8) Find the average of first 10 natural numbers\n",
    "summ=0 # Intial point\n",
    "for i in range(1,11):\n",
    "    summ=summ+i  # updation\n",
    "\n",
    "print(summ/10)"
   ]
  },
  {
   "cell_type": "code",
   "execution_count": 24,
   "id": "246488e5-b756-4468-984a-b9f13826eef6",
   "metadata": {},
   "outputs": [
    {
     "name": "stdin",
     "output_type": "stream",
     "text": [
      "enter the start: 1\n",
      "enter the last num: 11\n"
     ]
    },
    {
     "name": "stdout",
     "output_type": "stream",
     "text": [
      "5.5\n"
     ]
    }
   ],
   "source": [
    "summ=0\n",
    "def add():\n",
    "    global summ,n1,n2\n",
    "    n1=eval(input(\"enter the start:\"))\n",
    "    n2=eval(input(\"enter the last num:\"))\n",
    "    for i in range(n1,n2):\n",
    "        summ=summ+i\n",
    "    return(summ)\n",
    "summ=add()\n",
    "avg=summ/(n2-n1)\n",
    "print(avg)"
   ]
  },
  {
   "cell_type": "markdown",
   "id": "31b631c6-2909-4a36-b805-2af5dd370be0",
   "metadata": {},
   "source": [
    "**Counter wrapper**"
   ]
  },
  {
   "cell_type": "code",
   "execution_count": 25,
   "id": "40bb3f9b-52bd-4a66-a367-c5a797bf24ac",
   "metadata": {},
   "outputs": [
    {
     "name": "stdout",
     "output_type": "stream",
     "text": [
      "hello\n",
      "hello\n",
      "hello\n"
     ]
    }
   ],
   "source": [
    "for i in range(3):\n",
    "    print(\"hello\")"
   ]
  },
  {
   "cell_type": "markdown",
   "id": "97883431-5311-4dc8-aff1-30849125dc3a",
   "metadata": {},
   "source": [
    "- count=0\n",
    "\n",
    "- for loop\n",
    "\n",
    "- whenerver the creteria meet count=count+1\n",
    "\n",
    "- in the summation we use sum=sum+i\n",
    "\n",
    "- in the counter we use count=count+1"
   ]
  },
  {
   "cell_type": "code",
   "execution_count": 26,
   "id": "6edaca44-1a2e-43ea-a531-035185155fc9",
   "metadata": {},
   "outputs": [
    {
     "name": "stdout",
     "output_type": "stream",
     "text": [
      "hello\n",
      "hello\n",
      "hello\n",
      "3\n"
     ]
    }
   ],
   "source": [
    "# q9)\n",
    "count=0\n",
    "for i in range(3):\n",
    "    print(\"hello\")\n",
    "    count=count+1\n",
    "\n",
    "print(count)"
   ]
  },
  {
   "cell_type": "code",
   "execution_count": 28,
   "id": "ddbaae12-a4a4-4415-bea4-a09245044de0",
   "metadata": {},
   "outputs": [
    {
     "name": "stdin",
     "output_type": "stream",
     "text": [
      "enter the number: 75\n"
     ]
    },
    {
     "name": "stdout",
     "output_type": "stream",
     "text": [
      "1\n",
      "3\n",
      "5\n",
      "15\n",
      "25\n",
      "75\n",
      "The number of divisiors are: 6\n"
     ]
    }
   ],
   "source": [
    "# Q10) \n",
    "count=0\n",
    "num=eval(input(\"enter the number:\"))\n",
    "for i in range(1,num+1):\n",
    "    if num%i==0:\n",
    "        print(i)\n",
    "        count=count+1\n",
    "print(\"The number of divisiors are:\",count)"
   ]
  },
  {
   "cell_type": "code",
   "execution_count": 29,
   "id": "fe291d15-8086-4081-825c-381c3ea8754c",
   "metadata": {},
   "outputs": [
    {
     "name": "stdin",
     "output_type": "stream",
     "text": [
      "enter the number: 75\n"
     ]
    },
    {
     "name": "stdout",
     "output_type": "stream",
     "text": [
      "1\n",
      "3\n",
      "5\n",
      "15\n",
      "25\n",
      "75\n",
      "The number of divisiors are: 6\n",
      "The summation of all divisiors are: 124\n"
     ]
    }
   ],
   "source": [
    "# Q11) \n",
    "count,summ=0,0\n",
    "num=eval(input(\"enter the number:\"))\n",
    "for i in range(1,num+1):\n",
    "    if num%i==0:\n",
    "        print(i)\n",
    "        count=count+1\n",
    "        summ=summ+i\n",
    "print(\"The number of divisiors are:\",count)\n",
    "print(\"The summation of all divisiors are:\",summ)"
   ]
  },
  {
   "cell_type": "code",
   "execution_count": null,
   "id": "1daf6fd6-ca75-4f71-816b-7601dd2d65ee",
   "metadata": {},
   "outputs": [],
   "source": [
    "# Q12)\n",
    "# ask the user get a random number: n1\n",
    "# ask the user enter a number: n2\n",
    "# if n1==n2: print(won)\n",
    "# otherwise print(fals)\n",
    "\n",
    "# i want to give 3 chances"
   ]
  },
  {
   "cell_type": "code",
   "execution_count": 35,
   "id": "083372c4-bf1a-4f4a-9069-03126dccbc45",
   "metadata": {},
   "outputs": [
    {
     "name": "stdout",
     "output_type": "stream",
     "text": [
      "3\n"
     ]
    },
    {
     "name": "stdin",
     "output_type": "stream",
     "text": [
      "Enter your number 4\n"
     ]
    },
    {
     "name": "stdout",
     "output_type": "stream",
     "text": [
      "Failed,mate\n",
      "1\n"
     ]
    },
    {
     "name": "stdin",
     "output_type": "stream",
     "text": [
      "Enter your number 1\n"
     ]
    },
    {
     "name": "stdout",
     "output_type": "stream",
     "text": [
      "Congrats yo've won\n"
     ]
    }
   ],
   "source": [
    "import random\n",
    "for i in range(3):\n",
    "    num1 = random.randint(1,10)\n",
    "    print(num1)\n",
    "    num2 = eval(input(\"Enter your number\"))\n",
    "    if num1 == num2:\n",
    "        print(\"Congrats yo've won\")\n",
    "        break\n",
    "    else:\n",
    "        print(\"Failed,mate\")"
   ]
  },
  {
   "cell_type": "code",
   "execution_count": null,
   "id": "3fdd6b33-fb25-43e3-86ba-85437b0645a6",
   "metadata": {},
   "outputs": [],
   "source": [
    "case-1: whever you won code should stop (completed)\n",
    "\n",
    "case-2: whenever you fail\n",
    "        it should display how many chances you have left\n",
    "\n",
    "case-3: whenever all the chances are over\n",
    "        it should display \n",
    "        try after 24 hours"
   ]
  },
  {
   "cell_type": "code",
   "execution_count": null,
   "id": "e47c609a-caa4-4bf7-957f-fad9e11f29e4",
   "metadata": {},
   "outputs": [],
   "source": [
    "yes sir didnt get prime number problem...pls explain\n",
    "answer know or dontknow\n",
    "\n",
    "how to write the code \n",
    "if you know the answer === how to write the code\n",
    "dont know"
   ]
  },
  {
   "cell_type": "code",
   "execution_count": null,
   "id": "03b1e407-fdf2-4a60-85eb-ba5508fc8aec",
   "metadata": {},
   "outputs": [],
   "source": [
    "n%1==0  and n%n==0 \n",
    "\n",
    "n%<>!=0  "
   ]
  },
  {
   "cell_type": "code",
   "execution_count": 3,
   "id": "3ba7affb-95f4-4eb9-84f6-da9def2099f7",
   "metadata": {},
   "outputs": [
    {
     "name": "stdin",
     "output_type": "stream",
     "text": [
      "Enter a number:  2\n"
     ]
    },
    {
     "name": "stdout",
     "output_type": "stream",
     "text": [
      "The given number is not Prime Number\n"
     ]
    }
   ],
   "source": [
    "n=eval(input(\"Enter a number: \"))\n",
    "if n>1:\n",
    "    for i in range(1,n):\n",
    "        if n%i==0:\n",
    "            print(\"The given number is not Prime Number\")\n",
    "        break\n",
    "else:\n",
    "    print(\"The given number is Prime Number.\")\n",
    "\n",
    "# n=7\n",
    "# if 7>1  True ==== >\n",
    "#        i (1,7)\n",
    "#          7%1  7%2  7%3 7%4  7%5  7%6    where is 7%7 ?"
   ]
  },
  {
   "cell_type": "code",
   "execution_count": null,
   "id": "7f13b9d6-53eb-41db-b428-8c9bdbf9349c",
   "metadata": {},
   "outputs": [],
   "source": [
    "# when to write loop\n",
    "if num%1==0:\n",
    "    print('1 is the divisor of num')\n",
    "\n",
    "if num%2==0:\n",
    "    print('2 is the divisor')\n",
    "    "
   ]
  },
  {
   "cell_type": "code",
   "execution_count": null,
   "id": "5a325cb9-cd41-4b0d-99c9-5c880083fe3b",
   "metadata": {},
   "outputs": [],
   "source": [
    "num=eval(input('Enter any number : '))\n",
    "for i in range(2,num):\n",
    "    if num%i==0:\n",
    "        print('Not prime')\n",
    "        break\n",
    "    else:\n",
    "        print('Prime')\n",
    "        break"
   ]
  },
  {
   "cell_type": "code",
   "execution_count": null,
   "id": "84e237d9-7c11-461c-9bd2-756c7fe1d400",
   "metadata": {},
   "outputs": [],
   "source": [
    "count=0\n",
    "num=eval(input('enter number:'))\n",
    "for i in range(num,num+1):\n",
    "    if num%i==0:\n",
    "        print(i,end=\" \")\n",
    "        count=count+1\n",
    "        if count==2:\n",
    "            print('it is prime number')\n",
    "        else:\n",
    "            print('it is not prime')"
   ]
  },
  {
   "cell_type": "code",
   "execution_count": null,
   "id": "9b3ed095-c978-4cd7-9c04-8a2f4b41c092",
   "metadata": {},
   "outputs": [],
   "source": [
    "- if 1 and 2 never be consider as prime number\n",
    "\n",
    "- for loop here 3 to n\n",
    "-      condition"
   ]
  },
  {
   "cell_type": "code",
   "execution_count": null,
   "id": "9e8da60b-8af3-4e43-932e-9b992971140c",
   "metadata": {},
   "outputs": [],
   "source": [
    "# Today also you try it "
   ]
  },
  {
   "cell_type": "code",
   "execution_count": 4,
   "id": "5b87779d-b55f-4878-a7e4-6797a2cd2d3e",
   "metadata": {},
   "outputs": [
    {
     "name": "stdout",
     "output_type": "stream",
     "text": [
      "The total number of evens are: 2\n",
      "The total number of odds are: 3\n"
     ]
    }
   ],
   "source": [
    "# wap ask the user take 5 random numbers\n",
    "# provide me the count\n",
    "# in that how many are even and how many are odd\n",
    "import random\n",
    "even_count=0\n",
    "odd_count=0\n",
    "for i in range(5):\n",
    "    num=random.randint(1,100)\n",
    "    if num%2==0:\n",
    "        even_count+=1  # even_count=even_count+1\n",
    "    else:\n",
    "        odd_count+=1\n",
    "\n",
    "print(\"The total number of evens are:\",even_count)\n",
    "print(\"The total number of odds are:\",odd_count)"
   ]
  },
  {
   "cell_type": "code",
   "execution_count": 12,
   "id": "2d4ef387-e2e4-407a-9bd5-46979411b974",
   "metadata": {},
   "outputs": [
    {
     "name": "stdout",
     "output_type": "stream",
     "text": [
      "19 is an odd\n",
      "47 is an odd\n",
      "38 is an even\n",
      "41 is an odd\n",
      "93 is an odd\n",
      "38\n",
      "200\n"
     ]
    }
   ],
   "source": [
    "import random\n",
    "even_sum=0\n",
    "odd_sum=0\n",
    "for i in range(5):\n",
    "    num=random.randint(1,100)\n",
    "    if num%2==0:\n",
    "        print(f\"{num} is an even\")\n",
    "        even_sum+=num  # even_count=even_count+1\n",
    "    else:\n",
    "        print(f\"{num} is an odd\")\n",
    "        odd_sum+=num\n",
    "print(even_sum)\n",
    "print(odd_sum)"
   ]
  },
  {
   "cell_type": "markdown",
   "id": "e4df4503-b351-42d5-ab3b-ea29afd8b94b",
   "metadata": {},
   "source": [
    "**in operator**\n",
    "\n",
    "- For loop iteration possible with two ways\n",
    "\n",
    "    - range\n",
    "\n",
    "    - in \n",
    "\n",
    "- range is math related, so it takes numbers\n",
    "\n",
    "- in directly access with characters\n",
    "\n",
    "- in the naive way in operator only for strings \n",
    "\n"
   ]
  },
  {
   "cell_type": "code",
   "execution_count": 15,
   "id": "5a4f3833-11c3-44fb-9504-6ced30e81def",
   "metadata": {},
   "outputs": [
    {
     "data": {
      "text/plain": [
       "False"
      ]
     },
     "execution_count": 15,
     "metadata": {},
     "output_type": "execute_result"
    }
   ],
   "source": [
    "str1='python'\n",
    "\n",
    "'p' in str1 #  is 'p' available in str1\n",
    "\n",
    "'y' in str1\n",
    "\n",
    "'P' in str1"
   ]
  },
  {
   "cell_type": "code",
   "execution_count": null,
   "id": "1ef1e34d-8fe0-4c8c-81d4-59b08c93aee3",
   "metadata": {},
   "outputs": [],
   "source": [
    "str1='python'\n",
    "\n",
    "'p' in str1 #  is 'p' available in str1\n",
    "'y' in str1\n",
    "'t' in str1\n",
    "'h' in str1\n",
    "'o' in str1\n",
    "'n' in str1\n",
    "\n",
    "i in str1"
   ]
  },
  {
   "cell_type": "code",
   "execution_count": 16,
   "id": "32007c3c-6ce5-4994-8f32-51f6dda8e0e6",
   "metadata": {},
   "outputs": [
    {
     "name": "stdout",
     "output_type": "stream",
     "text": [
      "p\n",
      "y\n",
      "t\n",
      "h\n",
      "o\n",
      "n\n"
     ]
    }
   ],
   "source": [
    "for i in str1:\n",
    "    print(i)"
   ]
  },
  {
   "cell_type": "code",
   "execution_count": 17,
   "id": "21176edb-733e-490a-a005-b3c890436e8f",
   "metadata": {},
   "outputs": [
    {
     "name": "stdout",
     "output_type": "stream",
     "text": [
      "h\n",
      "e\n",
      "l\n",
      "l\n",
      "o\n"
     ]
    }
   ],
   "source": [
    "for i in 'hello':\n",
    "    print(i)"
   ]
  },
  {
   "cell_type": "code",
   "execution_count": 18,
   "id": "785c1ddd-cdfc-45ec-aa74-eb50e5dbee16",
   "metadata": {},
   "outputs": [
    {
     "ename": "TypeError",
     "evalue": "'str' object cannot be interpreted as an integer",
     "output_type": "error",
     "traceback": [
      "\u001b[1;31m---------------------------------------------------------------------------\u001b[0m",
      "\u001b[1;31mTypeError\u001b[0m                                 Traceback (most recent call last)",
      "Cell \u001b[1;32mIn[18], line 1\u001b[0m\n\u001b[1;32m----> 1\u001b[0m \u001b[38;5;28;01mfor\u001b[39;00m i \u001b[38;5;129;01min\u001b[39;00m \u001b[38;5;28mrange\u001b[39m(\u001b[38;5;124m'\u001b[39m\u001b[38;5;124mhello\u001b[39m\u001b[38;5;124m'\u001b[39m):\n\u001b[0;32m      2\u001b[0m     \u001b[38;5;28mprint\u001b[39m(i)\n",
      "\u001b[1;31mTypeError\u001b[0m: 'str' object cannot be interpreted as an integer"
     ]
    }
   ],
   "source": [
    "# error \n",
    "for i in range('hello'):\n",
    "    print(i)"
   ]
  },
  {
   "cell_type": "markdown",
   "id": "83c8ab6c-8f38-4cf0-bc9c-69f7ef2a50a7",
   "metadata": {},
   "source": [
    "- range and eval will not process strings english characters\n",
    "\n",
    "- range is a data type\n",
    "\n",
    "- eval is not a data type"
   ]
  },
  {
   "cell_type": "code",
   "execution_count": null,
   "id": "115d668c-6f52-4570-b9c3-ed937bc2c7ce",
   "metadata": {},
   "outputs": [],
   "source": [
    "'a'<'A'  #F  \n",
    "'a'>'A'  # T\n",
    "'p'>'y'  # F"
   ]
  },
  {
   "cell_type": "markdown",
   "id": "775b091e-ab3e-4f1c-965d-69f2a100c9d2",
   "metadata": {},
   "source": [
    "**ASCII**\n",
    "\n",
    "- Amercican Standard Code for Information Interchange\n",
    "\n",
    "- Every charcter symbol associated with a number\n",
    "\n",
    "- 'a' : 97   'A': 65\n",
    "\n",
    "- 'b' : 98   'B': 66"
   ]
  },
  {
   "cell_type": "markdown",
   "id": "6f1ea044-bde9-4852-8e70-cc3499fd3275",
   "metadata": {},
   "source": [
    "**ord-chr**\n",
    "\n",
    "- ord and chr are in-built functions\n",
    "\n",
    "- ord will give the ascii number of charcter\n",
    "\n",
    "- chr will give the charcter of a number"
   ]
  },
  {
   "cell_type": "code",
   "execution_count": 20,
   "id": "b9367eef-2996-4ae1-8c10-73107a3f8cca",
   "metadata": {},
   "outputs": [
    {
     "data": {
      "text/plain": [
       "(65, 97)"
      ]
     },
     "execution_count": 20,
     "metadata": {},
     "output_type": "execute_result"
    }
   ],
   "source": [
    "ord('A'), ord('a')"
   ]
  },
  {
   "cell_type": "code",
   "execution_count": 21,
   "id": "e7a9c374-75e8-43ed-ba4d-030f5c0da87d",
   "metadata": {},
   "outputs": [
    {
     "data": {
      "text/plain": [
       "True"
      ]
     },
     "execution_count": 21,
     "metadata": {},
     "output_type": "execute_result"
    }
   ],
   "source": [
    "'a'>'A'  # 97>65"
   ]
  },
  {
   "cell_type": "code",
   "execution_count": 23,
   "id": "2f77e5cd-bb60-42a8-a163-c503f1108015",
   "metadata": {},
   "outputs": [
    {
     "data": {
      "text/plain": [
       "('A', 'a')"
      ]
     },
     "execution_count": 23,
     "metadata": {},
     "output_type": "execute_result"
    }
   ],
   "source": [
    "chr(65),chr(97)"
   ]
  },
  {
   "cell_type": "markdown",
   "id": "4673f7a8-0d0b-4162-bd87-de9ea6a44c18",
   "metadata": {},
   "source": [
    "**task-1**\n",
    "\n",
    "- Print all ascii number of A to Z using for loop"
   ]
  },
  {
   "cell_type": "code",
   "execution_count": null,
   "id": "eb303209-fa14-4e90-92ad-b4e079a7e7a0",
   "metadata": {},
   "outputs": [],
   "source": [
    "for i in 'ABCDEFGHIJKLMNOPQRSTUVWXYZ'"
   ]
  },
  {
   "cell_type": "code",
   "execution_count": null,
   "id": "8ca7d0f8-c29f-4874-ad08-1eeb07502f1a",
   "metadata": {},
   "outputs": [],
   "source": [
    "#Package name: string\n",
    "#import string\n",
    "#dir string\n",
    "#find out the method which method will give capitalletters"
   ]
  },
  {
   "cell_type": "code",
   "execution_count": 24,
   "id": "5ca9808b-6d01-4a35-975a-ac8487b3c7e2",
   "metadata": {},
   "outputs": [],
   "source": [
    "import string"
   ]
  },
  {
   "cell_type": "code",
   "execution_count": 25,
   "id": "315b98db-442e-44c5-8f3b-c61112c17524",
   "metadata": {},
   "outputs": [
    {
     "data": {
      "text/plain": [
       "['Formatter',\n",
       " 'Template',\n",
       " '_ChainMap',\n",
       " '__all__',\n",
       " '__builtins__',\n",
       " '__cached__',\n",
       " '__doc__',\n",
       " '__file__',\n",
       " '__loader__',\n",
       " '__name__',\n",
       " '__package__',\n",
       " '__spec__',\n",
       " '_re',\n",
       " '_sentinel_dict',\n",
       " '_string',\n",
       " 'ascii_letters',\n",
       " 'ascii_lowercase',\n",
       " 'ascii_uppercase',\n",
       " 'capwords',\n",
       " 'digits',\n",
       " 'hexdigits',\n",
       " 'octdigits',\n",
       " 'printable',\n",
       " 'punctuation',\n",
       " 'whitespace']"
      ]
     },
     "execution_count": 25,
     "metadata": {},
     "output_type": "execute_result"
    }
   ],
   "source": [
    "dir(string)"
   ]
  },
  {
   "cell_type": "code",
   "execution_count": 26,
   "id": "5aad4a1e-d023-4067-b8f2-437b676d3208",
   "metadata": {},
   "outputs": [
    {
     "data": {
      "text/plain": [
       "'abcdefghijklmnopqrstuvwxyzABCDEFGHIJKLMNOPQRSTUVWXYZ'"
      ]
     },
     "execution_count": 26,
     "metadata": {},
     "output_type": "execute_result"
    }
   ],
   "source": [
    "string.ascii_letters"
   ]
  },
  {
   "cell_type": "code",
   "execution_count": 27,
   "id": "3b4f9ed8-184a-42ab-b41f-2ee2cbe98337",
   "metadata": {},
   "outputs": [
    {
     "data": {
      "text/plain": [
       "'abcdefghijklmnopqrstuvwxyz'"
      ]
     },
     "execution_count": 27,
     "metadata": {},
     "output_type": "execute_result"
    }
   ],
   "source": [
    "string.ascii_lowercase"
   ]
  },
  {
   "cell_type": "code",
   "execution_count": 28,
   "id": "888a2569-6dc0-4c67-9043-9fb832d15b9a",
   "metadata": {},
   "outputs": [
    {
     "data": {
      "text/plain": [
       "'ABCDEFGHIJKLMNOPQRSTUVWXYZ'"
      ]
     },
     "execution_count": 28,
     "metadata": {},
     "output_type": "execute_result"
    }
   ],
   "source": [
    "string.ascii_uppercase"
   ]
  },
  {
   "cell_type": "code",
   "execution_count": 31,
   "id": "c9bed719-7ef6-40cf-bcd7-5425e96968f3",
   "metadata": {},
   "outputs": [
    {
     "name": "stdout",
     "output_type": "stream",
     "text": [
      "a:97 b:98 c:99 d:100 e:101 f:102 g:103 h:104 i:105 j:106 k:107 l:108 m:109 n:110 o:111 p:112 q:113 r:114 s:115 t:116 u:117 v:118 w:119 x:120 y:121 z:122 "
     ]
    }
   ],
   "source": [
    "for i in string.ascii_lowercase:\n",
    "    print(f\"{i}:{ord(i)}\",end=' ')"
   ]
  },
  {
   "cell_type": "code",
   "execution_count": 32,
   "id": "66562717-4c10-4f76-95d2-c9502f9cf3db",
   "metadata": {},
   "outputs": [
    {
     "name": "stdout",
     "output_type": "stream",
     "text": [
      "A:65 B:66 C:67 D:68 E:69 F:70 G:71 H:72 I:73 J:74 K:75 L:76 M:77 N:78 O:79 P:80 Q:81 R:82 S:83 T:84 U:85 V:86 W:87 X:88 Y:89 Z:90 "
     ]
    }
   ],
   "source": [
    "for i in string.ascii_uppercase:\n",
    "    print(f\"{i}:{ord(i)}\",end=' ')"
   ]
  },
  {
   "cell_type": "code",
   "execution_count": 33,
   "id": "49916939-e0d3-40d1-8b9f-aad86edd73d5",
   "metadata": {},
   "outputs": [
    {
     "name": "stdout",
     "output_type": "stream",
     "text": [
      "!:33 \":34 #:35 $:36 %:37 &:38 ':39 (:40 ):41 *:42 +:43 ,:44 -:45 .:46 /:47 ::58 ;:59 <:60 =:61 >:62 ?:63 @:64 [:91 \\:92 ]:93 ^:94 _:95 `:96 {:123 |:124 }:125 ~:126 "
     ]
    }
   ],
   "source": [
    "for i in string.punctuation:\n",
    "    print(f\"{i}:{ord(i)}\",end=' ')"
   ]
  },
  {
   "cell_type": "code",
   "execution_count": 37,
   "id": "8999e713-6fb7-40e6-a2dd-7710fa7092cc",
   "metadata": {},
   "outputs": [
    {
     "name": "stdout",
     "output_type": "stream",
     "text": [
      "33:! 34:\" 35:# 36:$ 37:% 38:& 39:' 40:( 41:) 42:* 43:+ 44:, 45:- 46:. 47:/ 48:0 49:1 50:2 51:3 52:4 53:5 54:6 55:7 56:8 57:9 58:: 59:; 60:< 61:= 62:> 63:? 64:@ 65:A 66:B 67:C 68:D 69:E 70:F 71:G 72:H 73:I 74:J 75:K 76:L 77:M 78:N 79:O 80:P 81:Q 82:R 83:S 84:T 85:U 86:V 87:W 88:X 89:Y 90:Z 91:[ 92:\\ 93:] 94:^ 95:_ 96:` 97:a 98:b 99:c 100:d 101:e 102:f 103:g 104:h 105:i 106:j 107:k 108:l 109:m 110:n 111:o 112:p 113:q 114:r 115:s 116:t 117:u 118:v 119:w 120:x 121:y 122:z 123:{ 124:| 125:} 126:~ "
     ]
    }
   ],
   "source": [
    "for i in range(33,127):\n",
    "    print(f\"{i}:{chr(i)}\",end=' ')"
   ]
  },
  {
   "cell_type": "code",
   "execution_count": 42,
   "id": "7cf318b6-990f-48a8-beb7-48ca1b95950f",
   "metadata": {},
   "outputs": [
    {
     "name": "stdout",
     "output_type": "stream",
     "text": [
      "9758:☞ 9759:☟ 9760:☠ 9761:☡ 9762:☢ 9763:☣ 9764:☤ 9765:☥ 9766:☦ 9767:☧ 9768:☨ 9769:☩ 9770:☪ 9771:☫ 9772:☬ 9773:☭ 9774:☮ 9775:☯ 9776:☰ 9777:☱ 9778:☲ 9779:☳ 9780:☴ 9781:☵ 9782:☶ 9783:☷ 9784:☸ 9785:☹ 9786:☺ 9787:☻ 9788:☼ 9789:☽ 9790:☾ 9791:☿ 9792:♀ 9793:♁ 9794:♂ 9795:♃ 9796:♄ 9797:♅ 9798:♆ 9799:♇ 9800:♈ 9801:♉ 9802:♊ 9803:♋ 9804:♌ 9805:♍ 9806:♎ 9807:♏ 9808:♐ 9809:♑ 9810:♒ 9811:♓ 9812:♔ 9813:♕ 9814:♖ 9815:♗ 9816:♘ 9817:♙ 9818:♚ 9819:♛ 9820:♜ 9821:♝ 9822:♞ 9823:♟ 9824:♠ 9825:♡ 9826:♢ 9827:♣ 9828:♤ 9829:♥ 9830:♦ 9831:♧ 9832:♨ 9833:♩ 9834:♪ 9835:♫ 9836:♬ 9837:♭ 9838:♮ 9839:♯ 9840:♰ 9841:♱ 9842:♲ 9843:♳ 9844:♴ 9845:♵ 9846:♶ 9847:♷ 9848:♸ 9849:♹ 9850:♺ 9851:♻ 9852:♼ 9853:♽ 9854:♾ 9855:♿ 9856:⚀ 9857:⚁ 9858:⚂ 9859:⚃ 9860:⚄ 9861:⚅ 9862:⚆ 9863:⚇ 9864:⚈ 9865:⚉ 9866:⚊ 9867:⚋ 9868:⚌ 9869:⚍ 9870:⚎ 9871:⚏ 9872:⚐ 9873:⚑ 9874:⚒ 9875:⚓ 9876:⚔ 9877:⚕ 9878:⚖ 9879:⚗ 9880:⚘ 9881:⚙ 9882:⚚ 9883:⚛ 9884:⚜ 9885:⚝ 9886:⚞ 9887:⚟ 9888:⚠ 9889:⚡ 9890:⚢ 9891:⚣ 9892:⚤ 9893:⚥ 9894:⚦ 9895:⚧ 9896:⚨ 9897:⚩ 9898:⚪ 9899:⚫ 9900:⚬ 9901:⚭ 9902:⚮ 9903:⚯ 9904:⚰ 9905:⚱ 9906:⚲ 9907:⚳ 9908:⚴ 9909:⚵ 9910:⚶ 9911:⚷ 9912:⚸ 9913:⚹ 9914:⚺ 9915:⚻ 9916:⚼ 9917:⚽ 9918:⚾ 9919:⚿ 9920:⛀ 9921:⛁ 9922:⛂ 9923:⛃ 9924:⛄ 9925:⛅ 9926:⛆ 9927:⛇ 9928:⛈ 9929:⛉ 9930:⛊ 9931:⛋ 9932:⛌ 9933:⛍ 9934:⛎ 9935:⛏ 9936:⛐ 9937:⛑ 9938:⛒ 9939:⛓ 9940:⛔ 9941:⛕ 9942:⛖ 9943:⛗ 9944:⛘ 9945:⛙ 9946:⛚ 9947:⛛ 9948:⛜ 9949:⛝ 9950:⛞ 9951:⛟ 9952:⛠ 9953:⛡ 9954:⛢ 9955:⛣ 9956:⛤ 9957:⛥ 9958:⛦ 9959:⛧ 9960:⛨ 9961:⛩ 9962:⛪ 9963:⛫ 9964:⛬ 9965:⛭ 9966:⛮ 9967:⛯ 9968:⛰ 9969:⛱ 9970:⛲ 9971:⛳ 9972:⛴ 9973:⛵ 9974:⛶ 9975:⛷ 9976:⛸ 9977:⛹ 9978:⛺ 9979:⛻ 9980:⛼ 9981:⛽ 9982:⛾ 9983:⛿ 9984:✀ 9985:✁ 9986:✂ 9987:✃ 9988:✄ 9989:✅ 9990:✆ 9991:✇ 9992:✈ 9993:✉ 9994:✊ 9995:✋ 9996:✌ 9997:✍ 9998:✎ 9999:✏ "
     ]
    }
   ],
   "source": [
    "for i in range(9758,10000):\n",
    "    print(f\"{i}:{chr(i)}\",end=' ')"
   ]
  },
  {
   "cell_type": "code",
   "execution_count": null,
   "id": "b2f42337-d0e5-4216-b74d-8f736ba2833e",
   "metadata": {},
   "outputs": [],
   "source": []
  }
 ],
 "metadata": {
  "kernelspec": {
   "display_name": "Python 3 (ipykernel)",
   "language": "python",
   "name": "python3"
  },
  "language_info": {
   "codemirror_mode": {
    "name": "ipython",
    "version": 3
   },
   "file_extension": ".py",
   "mimetype": "text/x-python",
   "name": "python",
   "nbconvert_exporter": "python",
   "pygments_lexer": "ipython3",
   "version": "3.11.7"
  }
 },
 "nbformat": 4,
 "nbformat_minor": 5
}
